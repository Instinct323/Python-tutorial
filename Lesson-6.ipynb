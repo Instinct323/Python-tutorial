{
 "cells": [
  {
   "cell_type": "markdown",
   "id": "25d75c05-e381-4112-b246-35695918b497",
   "metadata": {},
   "source": [
    "提交链接: [https://yunbiz.wps.cn/c/collect/csK0RMTiVss](https://yunbiz.wps.cn/c/collect/csK0RMTiVss)"
   ]
  },
  {
   "cell_type": "markdown",
   "id": "14674341-fc61-4004-9b34-0368b6a1a780",
   "metadata": {},
   "source": [
    "## 6.1 递归"
   ]
  },
  {
   "cell_type": "markdown",
   "id": "7cc67fe1-fade-4d7e-bfc0-20dcc7958411",
   "metadata": {},
   "source": [
    "**Q:** Fibonacci 数列的第 $i$ 项记为 $F_i$, 那么有:\n",
    "$$\n",
    "\\begin{cases}\n",
    "F_1 = F_2 = 1 \\\\\n",
    "F_i = F_{i - 1} + F_{i - 2}, i \\gt 2 \\\\\n",
    "\\end{cases}\n",
    "$$\n",
    "使用递归函数实现对 $F_i$ 的求解"
   ]
  },
  {
   "cell_type": "code",
   "execution_count": 1,
   "id": "8726b0a7-88fc-4c8e-b8f7-20e2376acbd3",
   "metadata": {},
   "outputs": [
    {
     "data": {
      "text/plain": [
       "55"
      ]
     },
     "execution_count": 1,
     "metadata": {},
     "output_type": "execute_result"
    }
   ],
   "source": [
    "def fibonacci(i):\n",
    "    assert i >= 1\n",
    "    return fibonacci(i - 1) + fibonacci(i - 2) if i > 2 else 1\n",
    "\n",
    "\n",
    "fibonacci(10)"
   ]
  },
  {
   "cell_type": "markdown",
   "id": "ccaca9da-38d0-4048-930b-5e68f23bf220",
   "metadata": {},
   "source": [
    "**Q:** 使用列表且不使用递归, 实现对 $F_i$ 的求解"
   ]
  },
  {
   "cell_type": "code",
   "execution_count": 3,
   "id": "08b5bb0a-1362-4a33-b17e-aa4d31e3ff5b",
   "metadata": {},
   "outputs": [
    {
     "name": "stdout",
     "output_type": "stream",
     "text": [
      "CPU times: total: 0 ns\n",
      "Wall time: 1.03 ms\n"
     ]
    },
    {
     "data": {
      "text/plain": [
       "3524578"
      ]
     },
     "execution_count": 3,
     "metadata": {},
     "output_type": "execute_result"
    }
   ],
   "source": [
    "%%time\n",
    "\n",
    "def fibonacci_wo_recursion(i):\n",
    "    res = [1, 1]\n",
    "    for j in range(2, i):\n",
    "        res.append(res[j - 1] + res[j - 2])\n",
    "    return res[-1]\n",
    "\n",
    "\n",
    "fibonacci_wo_recursion(33)"
   ]
  },
  {
   "cell_type": "markdown",
   "id": "ce1ebc5c-87c2-48e0-bf4a-04ebd0d43023",
   "metadata": {},
   "source": [
    "**Thinking:** 上面的递归函数为什么效率低下?"
   ]
  },
  {
   "cell_type": "code",
   "execution_count": 2,
   "id": "5500473d-c5cb-4209-9fab-42de15885e5a",
   "metadata": {},
   "outputs": [
    {
     "name": "stdout",
     "output_type": "stream",
     "text": [
      "CPU times: total: 1.2 s\n",
      "Wall time: 1.22 s\n"
     ]
    },
    {
     "data": {
      "text/plain": [
       "3524578"
      ]
     },
     "execution_count": 2,
     "metadata": {},
     "output_type": "execute_result"
    }
   ],
   "source": [
    "%%time\n",
    "\n",
    "fibonacci(33)"
   ]
  },
  {
   "cell_type": "markdown",
   "id": "7fb3e306-653b-4775-84ab-e5f845c0e104",
   "metadata": {},
   "source": [
    "`lru_cache` 装饰器会存储每个参数对应的函数值, 从而去除冗余运算"
   ]
  },
  {
   "cell_type": "code",
   "execution_count": 4,
   "id": "ca08622b-47c6-4d5f-999d-360fbcea41b7",
   "metadata": {},
   "outputs": [
    {
     "name": "stdout",
     "output_type": "stream",
     "text": [
      "CPU times: total: 0 ns\n",
      "Wall time: 0 ns\n"
     ]
    },
    {
     "data": {
      "text/plain": [
       "3524578"
      ]
     },
     "execution_count": 4,
     "metadata": {},
     "output_type": "execute_result"
    }
   ],
   "source": [
    "%%time\n",
    "\n",
    "from functools import lru_cache\n",
    "\n",
    "\n",
    "@lru_cache(None)\n",
    "def fibonacci(i):\n",
    "    assert i >= 1\n",
    "    return fibonacci(i - 1) + fibonacci(i - 2) if i > 2 else 1\n",
    "\n",
    "\n",
    "fibonacci(33)"
   ]
  },
  {
   "cell_type": "markdown",
   "id": "2ff518ec-8ce4-4f51-aa5e-71aef9b535b8",
   "metadata": {},
   "source": [
    "## 6.2 lambda"
   ]
  },
  {
   "cell_type": "markdown",
   "id": "8499b5dc-d893-4b03-b963-88e72a43e2e6",
   "metadata": {},
   "source": [
    "**Q:** 编写匿名函数实现以下运算\n",
    "\n",
    "$$\\sigma(x) = \\frac{1}{1 + e^{-x}}$$\n",
    "\n",
    "tips: `math.exp`"
   ]
  },
  {
   "cell_type": "code",
   "execution_count": 5,
   "id": "124cef11-a26f-4147-b4ba-dcf0931b58fd",
   "metadata": {},
   "outputs": [
    {
     "name": "stdout",
     "output_type": "stream",
     "text": [
      "0.5 0.7310585786300049\n"
     ]
    }
   ],
   "source": [
    "import math\n",
    "\n",
    "sigmoid = lambda x: 1 / (1 + math.exp(-x))\n",
    "\n",
    "print(sigmoid(0), sigmoid(1))"
   ]
  },
  {
   "cell_type": "markdown",
   "id": "de84aa7e-e57c-4ce2-bfc1-4e6a3bd1fac4",
   "metadata": {},
   "source": [
    "## 6.3 map"
   ]
  },
  {
   "cell_type": "markdown",
   "id": "aedecbfe-78c6-44c3-92d1-9ec47ac3b4fb",
   "metadata": {},
   "source": [
    "**Q:** 计算 $[-5, -3, -1, \\cdots, 5]$ 对应的 sigmoid 函数值"
   ]
  },
  {
   "cell_type": "code",
   "execution_count": 6,
   "id": "0771e5c4-2460-4ee9-9983-289099cd0e5f",
   "metadata": {},
   "outputs": [
    {
     "name": "stdout",
     "output_type": "stream",
     "text": [
      "[-5, -3, -1, 1, 3, 5]\n",
      "<map object at 0x000001D83C514B50>\n",
      "[0.0066928509242848554, 0.04742587317756678, 0.2689414213699951, 0.7310585786300049, 0.9525741268224334, 0.9933071490757153]\n"
     ]
    }
   ],
   "source": [
    "x = list(range(-5, 6, 2))\n",
    "res = map(sigmoid, x)\n",
    "\n",
    "print(x)\n",
    "print(res)\n",
    "print(list(res))"
   ]
  },
  {
   "cell_type": "markdown",
   "id": "891824b8-7367-4b98-bd47-59521d87e675",
   "metadata": {},
   "source": [
    "**Q:** 使用 `input` 函数, 在给定数组字符串时 (e.g., \"1 23 4 89 10\"), 将其转换为列表 **(必考!!!)**"
   ]
  },
  {
   "cell_type": "code",
   "execution_count": 7,
   "id": "f2805342-5f5c-467e-849d-69effd0b0ea7",
   "metadata": {},
   "outputs": [
    {
     "name": "stdin",
     "output_type": "stream",
     "text": [
      " 1 23 4 89 10\n"
     ]
    },
    {
     "data": {
      "text/plain": [
       "[1, 23, 4, 89, 10]"
      ]
     },
     "execution_count": 7,
     "metadata": {},
     "output_type": "execute_result"
    }
   ],
   "source": [
    "x = list(map(int, input().split()))\n",
    "x"
   ]
  },
  {
   "cell_type": "markdown",
   "id": "b6ddfce4-a926-4b77-a3ff-97ec7af569e9",
   "metadata": {},
   "source": [
    "## 6.4 filter"
   ]
  },
  {
   "cell_type": "markdown",
   "id": "9aacc015-c96c-42dc-b793-8e2be99c72fb",
   "metadata": {},
   "source": [
    "**Q:** 累乘 [0, 20] 的奇数\n",
    "\n",
    "tips: `math.prod`"
   ]
  },
  {
   "cell_type": "code",
   "execution_count": 8,
   "id": "88479ab3-6e78-4047-a8e1-635978cdeea5",
   "metadata": {},
   "outputs": [
    {
     "data": {
      "text/plain": [
       "654729075"
      ]
     },
     "execution_count": 8,
     "metadata": {},
     "output_type": "execute_result"
    }
   ],
   "source": [
    "math.prod(filter(lambda x: x & 1, range(21)))"
   ]
  },
  {
   "cell_type": "code",
   "execution_count": 9,
   "id": "1a890da6-1730-445c-9933-a18863c797a6",
   "metadata": {},
   "outputs": [
    {
     "data": {
      "text/plain": [
       "654729075"
      ]
     },
     "execution_count": 9,
     "metadata": {},
     "output_type": "execute_result"
    }
   ],
   "source": [
    "math.prod(filter((1).__and__, range(21)))"
   ]
  },
  {
   "cell_type": "markdown",
   "id": "224c45ba-2168-4b05-9d2a-600f65065da1",
   "metadata": {},
   "source": [
    "# 7 自定义模块"
   ]
  },
  {
   "cell_type": "code",
   "execution_count": 10,
   "id": "45d7c33d-79b4-4a59-bbbe-bd70170f063d",
   "metadata": {},
   "outputs": [
    {
     "name": "stdout",
     "output_type": "stream",
     "text": [
      "__name__: __main__\n"
     ]
    }
   ],
   "source": [
    "print(\"__name__:\", __name__)"
   ]
  },
  {
   "cell_type": "code",
   "execution_count": 11,
   "id": "5fc386ec-e34e-424c-b788-c7b8432306c6",
   "metadata": {},
   "outputs": [
    {
     "name": "stdout",
     "output_type": "stream",
     "text": [
      "__name__: mymod\n"
     ]
    }
   ],
   "source": [
    "import mymod"
   ]
  },
  {
   "cell_type": "markdown",
   "id": "d89f74b3-c35f-47d9-bca0-15907b31aa89",
   "metadata": {},
   "source": [
    "import 只在第一次执行时有效, 重复 import 只会进行 check"
   ]
  },
  {
   "cell_type": "code",
   "execution_count": 12,
   "id": "d8588975-a8f6-457e-a86b-52c98e04975f",
   "metadata": {},
   "outputs": [],
   "source": [
    "import mymod"
   ]
  },
  {
   "cell_type": "code",
   "execution_count": 13,
   "id": "448b42eb-c48e-40ab-84be-be1d8a35bc4e",
   "metadata": {},
   "outputs": [
    {
     "data": {
      "text/plain": [
       "3"
      ]
     },
     "execution_count": 13,
     "metadata": {},
     "output_type": "execute_result"
    }
   ],
   "source": [
    "mymod.add(1, 2)"
   ]
  },
  {
   "cell_type": "markdown",
   "id": "fac10104-bd7e-43e6-ac45-85bd89144f8e",
   "metadata": {},
   "source": [
    "# 8 类和实例"
   ]
  },
  {
   "cell_type": "code",
   "execution_count": 14,
   "id": "fe1e0e6d-69ee-41c3-b615-9454034e3f5a",
   "metadata": {},
   "outputs": [
    {
     "name": "stdout",
     "output_type": "stream",
     "text": [
      "<class '__main__.Example'>\n",
      "<__main__.Example object at 0x000001D83C51C6D0>\n"
     ]
    }
   ],
   "source": [
    "class Example:\n",
    "    pass\n",
    "\n",
    "\n",
    "print(Example)  # 类\n",
    "print(Example())  # 对象 / 实例"
   ]
  },
  {
   "cell_type": "markdown",
   "id": "c6d8b8db-8e15-4ac5-b773-a681e5b6104d",
   "metadata": {},
   "source": [
    "Q: 编写一个矩形类, 其具有以下特性\n",
    "\n",
    "- 通过 `__init__` 方法设置长、宽\n",
    "- 可通过 `perimeter` 方法计算周长\n",
    "- 可通过 `area` 方法计算面积\n",
    "- 拥有一个可以输出宽度、高度、周长、面积的方法 (`display` / `__str__` / `__repr__`)"
   ]
  },
  {
   "cell_type": "code",
   "execution_count": 36,
   "id": "ec04645c-7b3d-43a1-b293-13be67d7ddd0",
   "metadata": {},
   "outputs": [
    {
     "name": "stdout",
     "output_type": "stream",
     "text": [
      "<Rect w=3, h=5, L=16, S=15>\n"
     ]
    }
   ],
   "source": [
    "class Rect:\n",
    "\n",
    "    def __init__(self, w, h):\n",
    "        self.w = w\n",
    "        self.h = h\n",
    "\n",
    "    def perimeter(self):\n",
    "        return 2 * (self.w + self.h)\n",
    "\n",
    "    def area(self):\n",
    "        return self.w * self.h\n",
    "\n",
    "    def __repr__(self):\n",
    "        return f\"<Rect w={self.w}, h={self.h}, L={self.perimeter()}, S={self.area()}>\"\n",
    "\n",
    "\n",
    "r = Rect(3, 5)\n",
    "print(r)"
   ]
  },
  {
   "cell_type": "markdown",
   "id": "f8a51ef4-5dbf-45c9-8ba3-715f7eb30a16",
   "metadata": {},
   "source": [
    "## 8.1 classmethod"
   ]
  },
  {
   "cell_type": "code",
   "execution_count": 17,
   "id": "8488d3c0-b7d8-4e68-9278-ce79b8fb2501",
   "metadata": {},
   "outputs": [
    {
     "name": "stdout",
     "output_type": "stream",
     "text": [
      "pip install numpy\n"
     ]
    }
   ],
   "source": [
    "class PythonEnv:\n",
    "\n",
    "    def __init__(self):\n",
    "        self.engine = \"pip\"\n",
    "\n",
    "    def install(self, pkg):\n",
    "        print(f\"{self.engine} install {pkg}\")\n",
    "\n",
    "\n",
    "pe = PythonEnv()\n",
    "pe.install(\"numpy\")"
   ]
  },
  {
   "cell_type": "markdown",
   "id": "629c55db-841a-4df2-9d49-1b270fe54919",
   "metadata": {},
   "source": [
    "Q: 重写类 `PythonEnv`, 将其 `install` 方法改成类方法"
   ]
  },
  {
   "cell_type": "code",
   "execution_count": 30,
   "id": "e8944b62-6e6d-48b4-a518-d481a9b510b6",
   "metadata": {},
   "outputs": [
    {
     "name": "stdout",
     "output_type": "stream",
     "text": [
      "pip install numpy\n"
     ]
    }
   ],
   "source": [
    "class PythonEnv2:\n",
    "    engine = \"pip\"\n",
    "\n",
    "    @classmethod\n",
    "    def install(cls, pkg):\n",
    "        print(f\"{cls.engine} install {pkg}\")\n",
    "\n",
    "\n",
    "PythonEnv2.install(\"numpy\")"
   ]
  },
  {
   "cell_type": "markdown",
   "id": "ef1f7320-3ade-472a-8576-9cc3cc3cb2ea",
   "metadata": {},
   "source": [
    "## 8.2 继承"
   ]
  },
  {
   "cell_type": "markdown",
   "id": "de1a025c-dbcc-4645-96da-e24b00c7cc2d",
   "metadata": {},
   "source": [
    "Q: 完善类 `CondaEnv`, 使其:\n",
    "- `install` 方法可以输出 `conda install <pkg>`\n",
    "- `create` 方法可以输出 `conda create -n <name>`"
   ]
  },
  {
   "cell_type": "code",
   "execution_count": 32,
   "id": "4285d88e-f8af-42b6-87d4-0066416dd7db",
   "metadata": {},
   "outputs": [
    {
     "name": "stdout",
     "output_type": "stream",
     "text": [
      "conda install numpy\n",
      "conda create -n cs112\n"
     ]
    }
   ],
   "source": [
    "class CondaEnv(PythonEnv):\n",
    "\n",
    "    def __init__(self):\n",
    "        self.engine = \"conda\"\n",
    "\n",
    "    def create(self, name):\n",
    "        print(f\"{self.engine} create -n {name}\")\n",
    "\n",
    "\n",
    "ce = CondaEnv()\n",
    "ce.install(\"numpy\")\n",
    "ce.create(\"cs112\")"
   ]
  }
 ],
 "metadata": {
  "kernelspec": {
   "display_name": "Python 3 (ipykernel)",
   "language": "python",
   "name": "python3"
  },
  "language_info": {
   "codemirror_mode": {
    "name": "ipython",
    "version": 3
   },
   "file_extension": ".py",
   "mimetype": "text/x-python",
   "name": "python",
   "nbconvert_exporter": "python",
   "pygments_lexer": "ipython3",
   "version": "3.8.15"
  }
 },
 "nbformat": 4,
 "nbformat_minor": 5
}
