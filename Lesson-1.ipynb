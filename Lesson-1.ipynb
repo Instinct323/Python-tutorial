{
 "cells": [
  {
   "cell_type": "markdown",
   "id": "74a91741-e297-4388-95ac-ad2716839982",
   "metadata": {},
   "source": [
    "# 1. 变量"
   ]
  },
  {
   "cell_type": "markdown",
   "id": "bcc233d5-7cfd-4556-989e-9293476e5a6e",
   "metadata": {},
   "source": [
    "- 变量名只能包含 \"\\_\"、字母、数字, 必须以 \"_\" / 字母开头\n",
    "- 不能使用关键字作为变量名"
   ]
  },
  {
   "cell_type": "code",
   "execution_count": 1,
   "id": "ac3530f1-63c5-416a-8cfe-068e73adc9f0",
   "metadata": {},
   "outputs": [],
   "source": [
    "var2 = 1"
   ]
  },
  {
   "cell_type": "code",
   "execution_count": 2,
   "id": "eb585396-179e-44fa-9fca-e5295fb2e0a0",
   "metadata": {},
   "outputs": [],
   "source": [
    "var_2 = 1"
   ]
  },
  {
   "cell_type": "code",
   "execution_count": 3,
   "id": "7b8e64fe-121a-48b6-95fc-9b1388ab9bb0",
   "metadata": {},
   "outputs": [
    {
     "ename": "SyntaxError",
     "evalue": "cannot assign to operator (4154031080.py, line 1)",
     "output_type": "error",
     "traceback": [
      "\u001b[1;36m  Cell \u001b[1;32mIn[3], line 1\u001b[1;36m\u001b[0m\n\u001b[1;33m    var-2 = 1\u001b[0m\n\u001b[1;37m    ^\u001b[0m\n\u001b[1;31mSyntaxError\u001b[0m\u001b[1;31m:\u001b[0m cannot assign to operator\n"
     ]
    }
   ],
   "source": [
    "var-2 = 1"
   ]
  },
  {
   "cell_type": "code",
   "execution_count": 4,
   "id": "5bee85b9-1a96-4f45-96b2-ac3dc33ba18b",
   "metadata": {},
   "outputs": [
    {
     "ename": "SyntaxError",
     "evalue": "invalid syntax (273220777.py, line 1)",
     "output_type": "error",
     "traceback": [
      "\u001b[1;36m  Cell \u001b[1;32mIn[4], line 1\u001b[1;36m\u001b[0m\n\u001b[1;33m    var 2 = 1\u001b[0m\n\u001b[1;37m        ^\u001b[0m\n\u001b[1;31mSyntaxError\u001b[0m\u001b[1;31m:\u001b[0m invalid syntax\n"
     ]
    }
   ],
   "source": [
    "var 2 = 1"
   ]
  },
  {
   "cell_type": "code",
   "execution_count": 5,
   "id": "d970085b-5fef-48ac-b83e-bce9e90366bb",
   "metadata": {},
   "outputs": [
    {
     "ename": "SyntaxError",
     "evalue": "invalid decimal literal (1877468191.py, line 1)",
     "output_type": "error",
     "traceback": [
      "\u001b[1;36m  Cell \u001b[1;32mIn[5], line 1\u001b[1;36m\u001b[0m\n\u001b[1;33m    2_var = 1\u001b[0m\n\u001b[1;37m     ^\u001b[0m\n\u001b[1;31mSyntaxError\u001b[0m\u001b[1;31m:\u001b[0m invalid decimal literal\n"
     ]
    }
   ],
   "source": [
    "2_var = 1"
   ]
  },
  {
   "cell_type": "code",
   "execution_count": 6,
   "id": "8e92c820-1d99-448b-b8bd-f8214a51bee2",
   "metadata": {},
   "outputs": [
    {
     "ename": "SyntaxError",
     "evalue": "cannot assign to True (1770609971.py, line 1)",
     "output_type": "error",
     "traceback": [
      "\u001b[1;36m  Cell \u001b[1;32mIn[6], line 1\u001b[1;36m\u001b[0m\n\u001b[1;33m    True = 1\u001b[0m\n\u001b[1;37m    ^\u001b[0m\n\u001b[1;31mSyntaxError\u001b[0m\u001b[1;31m:\u001b[0m cannot assign to True\n"
     ]
    }
   ],
   "source": [
    "True = 1"
   ]
  },
  {
   "cell_type": "markdown",
   "id": "d2138ced-2690-45b8-9f00-c69437dc3d53",
   "metadata": {},
   "source": [
    "不要尝试用中文做变量名, 作业里看到直接零分"
   ]
  },
  {
   "cell_type": "code",
   "execution_count": 7,
   "id": "20c6df58-c33f-4971-9b0b-de89c37b07c4",
   "metadata": {},
   "outputs": [
    {
     "data": {
      "text/plain": [
       "1"
      ]
     },
     "execution_count": 7,
     "metadata": {},
     "output_type": "execute_result"
    }
   ],
   "source": [
    "变量 = 1\n",
    "变量"
   ]
  },
  {
   "cell_type": "markdown",
   "id": "52234724-25c6-433a-aeb1-ce6823ed2ab3",
   "metadata": {},
   "source": [
    "## 关键字列表"
   ]
  },
  {
   "cell_type": "code",
   "execution_count": 8,
   "id": "99e93fda-4bd9-4840-95f6-59193b7441d3",
   "metadata": {},
   "outputs": [
    {
     "name": "stdout",
     "output_type": "stream",
     "text": [
      "['False', 'None', 'True', 'and', 'as', 'assert', 'async', 'await', 'break', 'class', 'continue', 'def', 'del', 'elif', 'else', 'except', 'finally', 'for', 'from', 'global', 'if', 'import', 'in', 'is', 'lambda', 'nonlocal', 'not', 'or', 'pass', 'raise', 'return', 'try', 'while', 'with', 'yield']\n"
     ]
    }
   ],
   "source": [
    "import keyword\n",
    "\n",
    "print(keyword.kwlist)"
   ]
  },
  {
   "cell_type": "markdown",
   "id": "c31dc7d5-ffac-459f-a448-1eb8b10f8df6",
   "metadata": {},
   "source": [
    "# 2. 数值"
   ]
  },
  {
   "cell_type": "code",
   "execution_count": 9,
   "id": "bdabdf45-1240-47b5-8def-8d98eb21fbd2",
   "metadata": {},
   "outputs": [],
   "source": [
    "i = 5\n",
    "f = 1.414\n",
    "c = 12 + 13j"
   ]
  },
  {
   "cell_type": "code",
   "execution_count": 10,
   "id": "fd856d1c-1055-4cb1-83aa-dca70d3cac31",
   "metadata": {},
   "outputs": [
    {
     "data": {
      "text/plain": [
       "(int, float, complex)"
      ]
     },
     "execution_count": 10,
     "metadata": {},
     "output_type": "execute_result"
    }
   ],
   "source": [
    "type(i), type(f), type(c)"
   ]
  },
  {
   "cell_type": "code",
   "execution_count": 11,
   "id": "f604a48a-559c-403b-a6b0-c59a4ef396eb",
   "metadata": {},
   "outputs": [
    {
     "data": {
      "text/plain": [
       "(1.414, 1, 1.0, (5+1.414j))"
      ]
     },
     "execution_count": 11,
     "metadata": {},
     "output_type": "execute_result"
    }
   ],
   "source": [
    "f, int(f), float(1), complex(i, f)"
   ]
  },
  {
   "cell_type": "markdown",
   "id": "9f7bf401-7bcc-4506-b29d-221e9e33ae83",
   "metadata": {},
   "source": [
    "## 运算"
   ]
  },
  {
   "cell_type": "code",
   "execution_count": 12,
   "id": "92908b58-0265-4809-bc4f-070ce54c6524",
   "metadata": {},
   "outputs": [
    {
     "data": {
      "text/plain": [
       "(6.414, 3, (60+65j), 1.6666666666666667, 1, 2, 25)"
      ]
     },
     "execution_count": 12,
     "metadata": {},
     "output_type": "execute_result"
    }
   ],
   "source": [
    "i + f, i - 2, i * c, i / 3, i // 3, i % 3, i ** 2"
   ]
  },
  {
   "cell_type": "code",
   "execution_count": 13,
   "id": "41835e3c-ad2c-4925-9155-b708be56c92b",
   "metadata": {},
   "outputs": [
    {
     "data": {
      "text/plain": [
       "(10, 5.0)"
      ]
     },
     "execution_count": 13,
     "metadata": {},
     "output_type": "execute_result"
    }
   ],
   "source": [
    "abs(-10), abs(3 + 4j)"
   ]
  },
  {
   "cell_type": "code",
   "execution_count": 14,
   "id": "ad5733d3-514f-4c40-a537-c5ffa51d1743",
   "metadata": {},
   "outputs": [
    {
     "data": {
      "text/plain": [
       "(2, 2.0, 1.98)"
      ]
     },
     "execution_count": 14,
     "metadata": {},
     "output_type": "execute_result"
    }
   ],
   "source": [
    "a = 1.984\n",
    "round(a), round(a, 0), round(a, 2)"
   ]
  },
  {
   "cell_type": "markdown",
   "id": "1c02ec2b-1ad3-4ec8-b938-0bcd4bf5bf7e",
   "metadata": {},
   "source": [
    "## 比较"
   ]
  },
  {
   "cell_type": "code",
   "execution_count": 15,
   "id": "602d87f4-e3ca-42ed-a47c-c3e4d1072c94",
   "metadata": {},
   "outputs": [
    {
     "data": {
      "text/plain": [
       "(False, False, True, True, False, True)"
      ]
     },
     "execution_count": 15,
     "metadata": {},
     "output_type": "execute_result"
    }
   ],
   "source": [
    "2 > 3, 2 >= 3, 2 < 3, 2 <= 3, 2 == 3, 2 != 3, "
   ]
  },
  {
   "cell_type": "markdown",
   "id": "7630569e-b5fb-484a-87c7-f3577406408e",
   "metadata": {},
   "source": [
    "# 3. 容器"
   ]
  },
  {
   "cell_type": "markdown",
   "id": "74e03520-5e17-4fda-bb01-a041dc9d6692",
   "metadata": {},
   "source": [
    "## 3.1 字符串"
   ]
  },
  {
   "cell_type": "code",
   "execution_count": 16,
   "id": "8ae181e8-cf4e-4e11-8181-24fa1fd97314",
   "metadata": {},
   "outputs": [],
   "source": [
    "s = \"01234567\""
   ]
  },
  {
   "cell_type": "code",
   "execution_count": 17,
   "id": "13ac8448-a9bf-4312-b0b0-522ebf11646f",
   "metadata": {},
   "outputs": [
    {
     "data": {
      "text/plain": [
       "str"
      ]
     },
     "execution_count": 17,
     "metadata": {},
     "output_type": "execute_result"
    }
   ],
   "source": [
    "type(s)"
   ]
  },
  {
   "cell_type": "markdown",
   "id": "54d935de-c71b-445f-9ad4-04630d0eb1c7",
   "metadata": {},
   "source": [
    "## 类型转换"
   ]
  },
  {
   "cell_type": "code",
   "execution_count": 18,
   "id": "9f6a7512-d8ef-4866-aada-c995833d8f34",
   "metadata": {},
   "outputs": [
    {
     "data": {
      "text/plain": [
       "('1', '1.4')"
      ]
     },
     "execution_count": 18,
     "metadata": {},
     "output_type": "execute_result"
    }
   ],
   "source": [
    "str(1), str(1.4)"
   ]
  },
  {
   "cell_type": "code",
   "execution_count": 19,
   "id": "e4d3de66-a827-4bac-94a1-6ec04f55113a",
   "metadata": {},
   "outputs": [
    {
     "data": {
      "text/plain": [
       "(1, 1.4, inf)"
      ]
     },
     "execution_count": 19,
     "metadata": {},
     "output_type": "execute_result"
    }
   ],
   "source": [
    "int(\"1\"), float(\"1.4\"), float(\"inf\")"
   ]
  },
  {
   "cell_type": "markdown",
   "id": "f31c2510-1d1a-402d-b81f-940c72381c87",
   "metadata": {},
   "source": [
    "## 索引\n",
    "s[index]"
   ]
  },
  {
   "cell_type": "code",
   "execution_count": 20,
   "id": "61f95559-2c82-4bf2-a2cd-4685096388fa",
   "metadata": {},
   "outputs": [
    {
     "name": "stdout",
     "output_type": "stream",
     "text": [
      "1 6\n"
     ]
    }
   ],
   "source": [
    "print(s[1], s[-2])"
   ]
  },
  {
   "cell_type": "markdown",
   "id": "10a0f6d7-f0e7-466c-acee-e9b830012863",
   "metadata": {},
   "source": [
    "## 切片\n",
    "s[start=0 : end=len(s) : step=1]"
   ]
  },
  {
   "cell_type": "code",
   "execution_count": 21,
   "id": "8ea5b6bb-22b1-40a4-812c-49a6b8573389",
   "metadata": {},
   "outputs": [
    {
     "name": "stdout",
     "output_type": "stream",
     "text": [
      "234567 234567 234567 234567 234567\n"
     ]
    }
   ],
   "source": [
    "print(s[2:], s[2:len(s)], s[2::], s[2::1], s[2:len(s):1])"
   ]
  },
  {
   "cell_type": "code",
   "execution_count": 22,
   "id": "b8152fbd-f70c-4e97-a4b9-42358f10a7b8",
   "metadata": {},
   "outputs": [
    {
     "data": {
      "text/plain": [
       "('567', '567', '567', '567', '567')"
      ]
     },
     "execution_count": 22,
     "metadata": {},
     "output_type": "execute_result"
    }
   ],
   "source": [
    "s[-3:], s[-3:len(s)], s[-3::], s[-3::1], s[-3:len(s):1]"
   ]
  },
  {
   "cell_type": "code",
   "execution_count": 23,
   "id": "5490d46a-5852-4c1b-8a0e-6c4b8656ef43",
   "metadata": {},
   "outputs": [
    {
     "name": "stdout",
     "output_type": "stream",
     "text": [
      "0246 0246 0246\n"
     ]
    }
   ],
   "source": [
    "print(s[::2], s[0::2], s[0:len(s):2])"
   ]
  },
  {
   "cell_type": "code",
   "execution_count": 24,
   "id": "73d25e23-1625-4649-a998-5d57dfb5e077",
   "metadata": {},
   "outputs": [
    {
     "name": "stdout",
     "output_type": "stream",
     "text": [
      "23456 23456 23456\n"
     ]
    }
   ],
   "source": [
    "print(s[2:-1], s[2:-1:], s[2:-1:1])"
   ]
  },
  {
   "cell_type": "code",
   "execution_count": 25,
   "id": "c1ed341a-0199-4621-8817-f881a73866a9",
   "metadata": {},
   "outputs": [
    {
     "name": "stdout",
     "output_type": "stream",
     "text": [
      "246 246 246\n"
     ]
    }
   ],
   "source": [
    "print(s[2::2], s[2:len(s):2], s[2:len(s):2])"
   ]
  },
  {
   "cell_type": "markdown",
   "id": "b867e1f6-ed6b-4c72-a62a-6f0db6bda972",
   "metadata": {},
   "source": [
    "## 运算"
   ]
  },
  {
   "cell_type": "code",
   "execution_count": 26,
   "id": "87cb75dd-d6f7-4a8e-b0e3-0901654ecc26",
   "metadata": {},
   "outputs": [
    {
     "data": {
      "text/plain": [
       "'01234567ssss'"
      ]
     },
     "execution_count": 26,
     "metadata": {},
     "output_type": "execute_result"
    }
   ],
   "source": [
    "s + \"ssss\""
   ]
  },
  {
   "cell_type": "code",
   "execution_count": 27,
   "id": "beaaafef-50ef-4e0a-8f57-f00fa63695ee",
   "metadata": {},
   "outputs": [
    {
     "ename": "TypeError",
     "evalue": "can only concatenate str (not \"int\") to str",
     "output_type": "error",
     "traceback": [
      "\u001b[1;31m---------------------------------------------------------------------------\u001b[0m",
      "\u001b[1;31mTypeError\u001b[0m                                 Traceback (most recent call last)",
      "Cell \u001b[1;32mIn[27], line 1\u001b[0m\n\u001b[1;32m----> 1\u001b[0m \u001b[43ms\u001b[49m\u001b[43m \u001b[49m\u001b[38;5;241;43m+\u001b[39;49m\u001b[43m \u001b[49m\u001b[38;5;241;43m99\u001b[39;49m\n",
      "\u001b[1;31mTypeError\u001b[0m: can only concatenate str (not \"int\") to str"
     ]
    }
   ],
   "source": [
    "s + 99"
   ]
  },
  {
   "cell_type": "code",
   "execution_count": 32,
   "id": "246e0378-4526-4f26-b9a3-de881f74174f",
   "metadata": {},
   "outputs": [
    {
     "data": {
      "text/plain": [
       "'Zanjia Tong99'"
      ]
     },
     "execution_count": 32,
     "metadata": {},
     "output_type": "execute_result"
    }
   ],
   "source": [
    "s + str(99)"
   ]
  },
  {
   "cell_type": "code",
   "execution_count": 28,
   "id": "84cf11fb-98f6-4523-ae60-8508563fc0fe",
   "metadata": {},
   "outputs": [
    {
     "ename": "TypeError",
     "evalue": "unsupported operand type(s) for -: 'str' and 'str'",
     "output_type": "error",
     "traceback": [
      "\u001b[1;31m---------------------------------------------------------------------------\u001b[0m",
      "\u001b[1;31mTypeError\u001b[0m                                 Traceback (most recent call last)",
      "Cell \u001b[1;32mIn[28], line 1\u001b[0m\n\u001b[1;32m----> 1\u001b[0m \u001b[43ms\u001b[49m\u001b[43m \u001b[49m\u001b[38;5;241;43m-\u001b[39;49m\u001b[43m \u001b[49m\u001b[38;5;124;43m\"\u001b[39;49m\u001b[38;5;124;43m7\u001b[39;49m\u001b[38;5;124;43m\"\u001b[39;49m\n",
      "\u001b[1;31mTypeError\u001b[0m: unsupported operand type(s) for -: 'str' and 'str'"
     ]
    }
   ],
   "source": [
    "s - \"7\""
   ]
  },
  {
   "cell_type": "code",
   "execution_count": 29,
   "id": "9251eb0b-fe19-4d77-bd47-c09b21c25ea9",
   "metadata": {},
   "outputs": [
    {
     "data": {
      "text/plain": [
       "'0123456701234567'"
      ]
     },
     "execution_count": 29,
     "metadata": {},
     "output_type": "execute_result"
    }
   ],
   "source": [
    "s * 2"
   ]
  },
  {
   "cell_type": "code",
   "execution_count": 30,
   "id": "ba5fd52c-7340-44b4-a2bd-f6aa698e99a3",
   "metadata": {},
   "outputs": [
    {
     "name": "stdout",
     "output_type": "stream",
     "text": [
      "12345\n",
      "12345-12345-\n"
     ]
    }
   ],
   "source": [
    "s = \"12345\"\n",
    "print(s)\n",
    "s += \"-\"\n",
    "s *= 2\n",
    "print(s)"
   ]
  },
  {
   "cell_type": "markdown",
   "id": "fe381b54-e3df-4af2-9103-7bc122229703",
   "metadata": {},
   "source": [
    "## 实例方法"
   ]
  },
  {
   "cell_type": "code",
   "execution_count": 31,
   "id": "90a0bdba-f836-4930-a2b6-dc13da2c9937",
   "metadata": {},
   "outputs": [],
   "source": [
    "s = \"Zanjia Tong\""
   ]
  },
  {
   "cell_type": "code",
   "execution_count": 33,
   "id": "492f28d9-13ba-4d9c-9640-5d944befb8e6",
   "metadata": {},
   "outputs": [
    {
     "name": "stdout",
     "output_type": "stream",
     "text": [
      "Help on method_descriptor:\n",
      "\n",
      "upper(self, /)\n",
      "    Return a copy of the string converted to uppercase.\n",
      "\n"
     ]
    }
   ],
   "source": [
    "help(str.upper)"
   ]
  },
  {
   "cell_type": "code",
   "execution_count": 34,
   "id": "a5e90d23-4b3e-4262-9dea-f796d4b75ecc",
   "metadata": {},
   "outputs": [
    {
     "data": {
      "text/plain": [
       "'ZANJIA TONG'"
      ]
     },
     "execution_count": 34,
     "metadata": {},
     "output_type": "execute_result"
    }
   ],
   "source": [
    "s.upper()"
   ]
  },
  {
   "cell_type": "code",
   "execution_count": 35,
   "id": "eac8048f-1164-47b1-a1f3-59c782c96ac0",
   "metadata": {},
   "outputs": [
    {
     "name": "stdout",
     "output_type": "stream",
     "text": [
      "Help on method_descriptor:\n",
      "\n",
      "split(self, /, sep=None, maxsplit=-1)\n",
      "    Return a list of the words in the string, using sep as the delimiter string.\n",
      "    \n",
      "    sep\n",
      "      The delimiter according which to split the string.\n",
      "      None (the default value) means split according to any whitespace,\n",
      "      and discard empty strings from the result.\n",
      "    maxsplit\n",
      "      Maximum number of splits to do.\n",
      "      -1 (the default value) means no limit.\n",
      "\n"
     ]
    }
   ],
   "source": [
    "help(str.split)"
   ]
  },
  {
   "cell_type": "code",
   "execution_count": 36,
   "id": "f3487295-384c-49f3-b565-20fa20f716ab",
   "metadata": {},
   "outputs": [
    {
     "data": {
      "text/plain": [
       "['Zanjia', 'Tong']"
      ]
     },
     "execution_count": 36,
     "metadata": {},
     "output_type": "execute_result"
    }
   ],
   "source": [
    "s.split()"
   ]
  },
  {
   "cell_type": "code",
   "execution_count": 37,
   "id": "7af4d9fe-1b68-4c47-bdb1-2e3abe530b43",
   "metadata": {},
   "outputs": [
    {
     "data": {
      "text/plain": [
       "['Z', 'nji', ' Tong']"
      ]
     },
     "execution_count": 37,
     "metadata": {},
     "output_type": "execute_result"
    }
   ],
   "source": [
    "s.split(\"a\")"
   ]
  },
  {
   "cell_type": "code",
   "execution_count": 38,
   "id": "c3a3d6dd-37bd-4bea-8d23-60ba9d2f621d",
   "metadata": {},
   "outputs": [
    {
     "data": {
      "text/plain": [
       "['Z', 'njia Tong']"
      ]
     },
     "execution_count": 38,
     "metadata": {},
     "output_type": "execute_result"
    }
   ],
   "source": [
    "s.split(\"a\", 1)"
   ]
  },
  {
   "cell_type": "markdown",
   "id": "36208ccd-1ea4-458c-816d-ad3215eec065",
   "metadata": {},
   "source": [
    "![](data/str.png)"
   ]
  },
  {
   "cell_type": "markdown",
   "id": "5b5b5da1-90fb-4406-b17d-91fd9f4b7dd3",
   "metadata": {},
   "source": [
    "### 格式化输出"
   ]
  },
  {
   "cell_type": "markdown",
   "id": "14b8d3a3-50cf-489e-a385-341d9e885f77",
   "metadata": {},
   "source": [
    "转义字符\n",
    "- \\n: 换行\n",
    "- \\t: 缩进"
   ]
  },
  {
   "cell_type": "code",
   "execution_count": 39,
   "id": "ecac8ae3-fe9a-4240-98d0-91d08d49c6d4",
   "metadata": {},
   "outputs": [
    {
     "name": "stdout",
     "output_type": "stream",
     "text": [
      "sss\n",
      "sss\n"
     ]
    }
   ],
   "source": [
    "print(\"sss\\nsss\")"
   ]
  },
  {
   "cell_type": "code",
   "execution_count": 40,
   "id": "ceb07a9c-0dc9-4527-99e0-378e0a0cf143",
   "metadata": {},
   "outputs": [
    {
     "name": "stdout",
     "output_type": "stream",
     "text": [
      "sss\n",
      "sss\n"
     ]
    }
   ],
   "source": [
    "print(\"\"\"sss\n",
    "sss\"\"\")"
   ]
  },
  {
   "cell_type": "code",
   "execution_count": 41,
   "id": "1226d7c1-e28b-485e-8dbd-bc3a518d7111",
   "metadata": {},
   "outputs": [
    {
     "data": {
      "text/plain": [
       "'a\\tasd\\tab'"
      ]
     },
     "execution_count": 41,
     "metadata": {},
     "output_type": "execute_result"
    }
   ],
   "source": [
    "tmp = \"\\t\".join([\"a\", \"asd\", \"ab\"])\n",
    "tmp"
   ]
  },
  {
   "cell_type": "code",
   "execution_count": 42,
   "id": "f6eb1cdc-988d-4576-86d1-2910db80335d",
   "metadata": {},
   "outputs": [
    {
     "name": "stdout",
     "output_type": "stream",
     "text": [
      "\\n\\t\n"
     ]
    }
   ],
   "source": [
    "# 使用前缀 r 忽略转义字符\n",
    "print(r\"\\n\\t\")"
   ]
  },
  {
   "cell_type": "markdown",
   "id": "d6f4c77b-c571-46b3-a2ac-4a33062964fa",
   "metadata": {},
   "source": [
    "#### Method 1\n",
    "- %Ms: 字符串\n",
    "- %M.Nd: 整数\n",
    "- %M.Nf: 浮点数\n",
    "- %M.Ne: e记法\n",
    "\n",
    "M: 格式化后字符串的长度\n",
    "\n",
    "N: 小数的精度"
   ]
  },
  {
   "cell_type": "code",
   "execution_count": 43,
   "id": "ac7a7563-edff-4d96-a295-a3654e11a086",
   "metadata": {},
   "outputs": [
    {
     "data": {
      "text/plain": [
       "'Acc: 0 / 9.850000e-01 / 0.985000'"
      ]
     },
     "execution_count": 43,
     "metadata": {},
     "output_type": "execute_result"
    }
   ],
   "source": [
    "fmt = \"%s: %d / %e / %f\"\n",
    "fmt % (\"Acc\", 0.985, 0.985, 0.985)"
   ]
  },
  {
   "cell_type": "code",
   "execution_count": 44,
   "id": "830617cb-bdd8-49e8-88ff-75a50a597ea8",
   "metadata": {},
   "outputs": [
    {
     "name": "stdout",
     "output_type": "stream",
     "text": [
      "  Acc:\n",
      "    0\n",
      " 9.85e-01\n",
      "1.0\n"
     ]
    }
   ],
   "source": [
    "fmt = \"\"\"%5s:\n",
    "%5d\n",
    "%9.2e\n",
    "%.1f\"\"\"\n",
    "print(fmt % (\"Acc\", 0.985, 0.985, 0.985))"
   ]
  },
  {
   "cell_type": "code",
   "execution_count": 45,
   "id": "c8f7e880-327b-4f5f-85ba-65bd845ea145",
   "metadata": {},
   "outputs": [
    {
     "name": "stdout",
     "output_type": "stream",
     "text": [
      "Acc  :\n",
      "0    \n",
      "9.85e-01 \n",
      "1.0\n"
     ]
    }
   ],
   "source": [
    "fmt = \"\"\"%-5s:\n",
    "%-5d\n",
    "%-9.2e\n",
    "%-.1f\"\"\"\n",
    "print(fmt % (\"Acc\", 0.985, 0.985, 0.985))"
   ]
  },
  {
   "cell_type": "markdown",
   "id": "ebebd757-c45e-4e7c-aac2-3562cc081a17",
   "metadata": {},
   "source": [
    "#### Method 2"
   ]
  },
  {
   "cell_type": "code",
   "execution_count": 46,
   "id": "66d0d0ac-2771-4881-b813-3fa078189fc5",
   "metadata": {},
   "outputs": [
    {
     "name": "stdout",
     "output_type": "stream",
     "text": [
      "8848.8848.py\n"
     ]
    }
   ],
   "source": [
    "num = 8848.8848\n",
    "string = \".py\"\n",
    "print(f\"{num}{string}\")"
   ]
  },
  {
   "cell_type": "code",
   "execution_count": 47,
   "id": "a61a39ac-92ed-4c34-8345-bce3ecec82a0",
   "metadata": {},
   "outputs": [
    {
     "name": "stdout",
     "output_type": "stream",
     "text": [
      "8848.9.py\n"
     ]
    }
   ],
   "source": [
    "print(f\"{num:.1f}{string}\")"
   ]
  },
  {
   "cell_type": "code",
   "execution_count": 48,
   "id": "9bbf21be-2470-4a87-968b-b419e950b060",
   "metadata": {},
   "outputs": [
    {
     "name": "stdout",
     "output_type": "stream",
     "text": [
      "    8848.9.py\n"
     ]
    }
   ],
   "source": [
    "print(f\"{num:10.1f}{string}\")"
   ]
  },
  {
   "cell_type": "code",
   "execution_count": 49,
   "id": "9f5f42a0-1872-429b-abf7-4ff7ce3c58f0",
   "metadata": {},
   "outputs": [
    {
     "name": "stdout",
     "output_type": "stream",
     "text": [
      "8848.884800.py\n"
     ]
    }
   ],
   "source": [
    "print(f\"{num:10f}{string}\")"
   ]
  },
  {
   "cell_type": "code",
   "execution_count": 50,
   "id": "898e4bb9-1c3b-47b2-b089-09139a4aae2a",
   "metadata": {},
   "outputs": [
    {
     "name": "stdout",
     "output_type": "stream",
     "text": [
      "8848.8848.py       end\n"
     ]
    }
   ],
   "source": [
    "print(f\"{num}{string:10s}end\")"
   ]
  },
  {
   "cell_type": "code",
   "execution_count": 51,
   "id": "f6a051ad-0767-417b-a47c-c85843bd35b2",
   "metadata": {},
   "outputs": [
    {
     "name": "stdout",
     "output_type": "stream",
     "text": [
      "8848.8848       .pyend\n"
     ]
    }
   ],
   "source": [
    "print(f\"{num}{string:>10s}end\")"
   ]
  },
  {
   "cell_type": "code",
   "execution_count": 52,
   "id": "851c3c46-1eae-47d6-b534-48d0469d5ff4",
   "metadata": {},
   "outputs": [
    {
     "name": "stdout",
     "output_type": "stream",
     "text": [
      "8848.9    .py\n"
     ]
    }
   ],
   "source": [
    "print(f\"{num:<10.1f}{string}\")"
   ]
  },
  {
   "cell_type": "markdown",
   "id": "e39e7e97-2725-4954-8834-72c2bbc2e854",
   "metadata": {},
   "source": [
    "#### Method 3"
   ]
  },
  {
   "cell_type": "code",
   "execution_count": 53,
   "id": "d8416bc1-38dc-4bc1-b216-a8958f4c44b3",
   "metadata": {},
   "outputs": [
    {
     "name": "stdout",
     "output_type": "stream",
     "text": [
      "朋友, 小明是我的\n"
     ]
    }
   ],
   "source": [
    "# 不常用\n",
    "print(\"{4}, {2}{1}{0}{3}\".format(\"我\", \"是\", \"小明\", \"的\", \"朋友\"))"
   ]
  }
 ],
 "metadata": {
  "kernelspec": {
   "display_name": "Python 3 (ipykernel)",
   "language": "python",
   "name": "python3"
  },
  "language_info": {
   "codemirror_mode": {
    "name": "ipython",
    "version": 3
   },
   "file_extension": ".py",
   "mimetype": "text/x-python",
   "name": "python",
   "nbconvert_exporter": "python",
   "pygments_lexer": "ipython3",
   "version": "3.8.15"
  }
 },
 "nbformat": 4,
 "nbformat_minor": 5
}
