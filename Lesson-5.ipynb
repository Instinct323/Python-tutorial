{
 "cells": [
  {
   "cell_type": "markdown",
   "id": "2ceade5d-80b5-4606-91db-32b7e04f7d0f",
   "metadata": {},
   "source": [
    "## 5.3 csv"
   ]
  },
  {
   "cell_type": "markdown",
   "id": "16604639-e56d-46a5-9531-4c4d300050d2",
   "metadata": {},
   "source": [
    "**Q**: 读取 data 文件夹中的 test.csv, 并提取其中的“行标签” (e.g., 投资总额、使用年限...), 以换行符为分隔符写入 data 文件夹中的 rowf.txt\n",
    "\n",
    "tips: `encoding=\"utf-8\"`, `csv.DictReader`"
   ]
  },
  {
   "cell_type": "code",
   "execution_count": null,
   "id": "ba6a5a46-214d-42da-be11-e4a45e392ba5",
   "metadata": {},
   "outputs": [],
   "source": []
  },
  {
   "cell_type": "markdown",
   "id": "2e88fd83-6f37-43d9-8881-d7d1d58df576",
   "metadata": {},
   "source": [
    "# 6 函数"
   ]
  },
  {
   "cell_type": "markdown",
   "id": "763fb900-bc24-4461-82b8-eab3c19f0495",
   "metadata": {},
   "source": [
    "**Q**: 补充以下函数使其输出 a+b, a-b, a**b"
   ]
  },
  {
   "cell_type": "code",
   "execution_count": 1,
   "id": "0954df66-06d6-4b72-b008-9c498f8dc6de",
   "metadata": {},
   "outputs": [],
   "source": [
    "def my_func(a, b):\n",
    "    pass"
   ]
  },
  {
   "cell_type": "markdown",
   "id": "24172a4b-09f2-4a4e-a470-3c56ad679214",
   "metadata": {},
   "source": [
    "**Q**: 编写一个反向补码函数，它接受一个 DNA 序列并返回大写的反向补码序列"
   ]
  },
  {
   "cell_type": "code",
   "execution_count": 2,
   "id": "73440511-49ff-42fb-b5f1-bc42b113a0e4",
   "metadata": {},
   "outputs": [],
   "source": [
    "def reverse_comp(dna):\n",
    "    \"\"\" :example:\n",
    "        >>> reverse_comp(\"AtCg\")\n",
    "        'CGAT'\"\"\""
   ]
  },
  {
   "cell_type": "markdown",
   "id": "1347770d-0692-42ab-a3e0-b40bde4d7d33",
   "metadata": {},
   "source": [
    "**Q**: 定义函数, 调用 pickle 实现多种数据类型的存储, 要求输入参数为 `file` 和 `data`，在 `data` 为 `None` 时读取文件 `file`，否则将 `data` 存入文件 `file`\n",
    "\n",
    "tips: `pickle.load(binIO)`, `pickle.dump(data, binIO)`"
   ]
  },
  {
   "cell_type": "code",
   "execution_count": 3,
   "id": "7ee8468e-0371-4705-8c44-b656fc8b6d50",
   "metadata": {},
   "outputs": [],
   "source": [
    "def binary(file, data=None):\n",
    "    \"\"\" 标准库 pickle 实现的数据存取\n",
    "        :param file: 二进制文件路径\n",
    "        :param data:\n",
    "            如果为 None, 则加载 file 的二进制数据并 return\n",
    "            如果为 Python 内置数据类型 (e.g., list, dict...), 则存储到 file 中\"\"\""
   ]
  },
  {
   "cell_type": "markdown",
   "id": "5a81f206-76c3-4ab1-b82a-29827784ff8a",
   "metadata": {},
   "source": [
    "**Q**: 编写函数 return 循环执行 1000 次 `func(*args, **kwargs)` 的耗时\n",
    "\n",
    "tips: `time.time()`"
   ]
  },
  {
   "cell_type": "code",
   "execution_count": 4,
   "id": "531b6568-6003-449a-9f5d-59db7e892611",
   "metadata": {},
   "outputs": [],
   "source": [
    "def timer(func, *args, **kwargs):\n",
    "    \"\"\" :return 循环执行 1000 次 func(*args, **kwargs) 的耗时\"\"\""
   ]
  },
  {
   "cell_type": "code",
   "execution_count": 5,
   "id": "37c2d00d-0ea4-4741-9a06-978250ce4f7a",
   "metadata": {},
   "outputs": [],
   "source": [
    "timer(binary, \"data/test.bin\")"
   ]
  }
 ],
 "metadata": {
  "kernelspec": {
   "display_name": "Python 3 (ipykernel)",
   "language": "python",
   "name": "python3"
  },
  "language_info": {
   "codemirror_mode": {
    "name": "ipython",
    "version": 3
   },
   "file_extension": ".py",
   "mimetype": "text/x-python",
   "name": "python",
   "nbconvert_exporter": "python",
   "pygments_lexer": "ipython3",
   "version": "3.8.15"
  }
 },
 "nbformat": 4,
 "nbformat_minor": 5
}
