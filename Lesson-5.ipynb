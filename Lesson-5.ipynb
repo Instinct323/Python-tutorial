{
 "cells": [
  {
   "cell_type": "markdown",
   "id": "2ceade5d-80b5-4606-91db-32b7e04f7d0f",
   "metadata": {},
   "source": [
    "## 5.3 csv"
   ]
  },
  {
   "cell_type": "markdown",
   "id": "16604639-e56d-46a5-9531-4c4d300050d2",
   "metadata": {},
   "source": [
    "**Q**: 读取 data 文件夹中的 test.csv, 并提取其中的“行标签” (e.g., 投资总额、使用年限...), 以换行符为分隔符写入 data 文件夹中的 rowf.txt\n",
    "\n",
    "tips: `encoding=\"utf-8\"`, `csv.DictReader`"
   ]
  },
  {
   "cell_type": "code",
   "execution_count": 1,
   "id": "ba6a5a46-214d-42da-be11-e4a45e392ba5",
   "metadata": {},
   "outputs": [
    {
     "name": "stdout",
     "output_type": "stream",
     "text": [
      "投资总额\n",
      "使用年限\n",
      "折现率\n",
      "销售收入\n",
      "付现成本\n",
      "折旧费用\n",
      "税前收入\n",
      "所得税\n",
      "营业净现金流量\n",
      "折现额\n",
      "净利润\n",
      "\n"
     ]
    }
   ],
   "source": [
    "import csv\n",
    "\n",
    "# 打开并转换为 csv\n",
    "with open(\"data/test.csv\", encoding=\"utf-8\") as f:\n",
    "    fi = csv.DictReader(f)\n",
    "\n",
    "    # 以 \"w\" 模式打开\n",
    "    with open(\"data/rowf.txt\", \"w\", encoding=\"utf-8\") as fo:\n",
    "\n",
    "        # method 1: 利用 join 函数只执行一次写入\n",
    "        # fo.write(\"\\n\".join(row[\"\"] for row in fi))\n",
    "\n",
    "        # method 2: 逐行写入\n",
    "        for row in fi:\n",
    "            fo.write(row[\"\"] + \"\\n\")\n",
    "\n",
    "# print 写入的内容\n",
    "with open(\"data/rowf.txt\", encoding=\"utf-8\") as f:\n",
    "    print(f.read())"
   ]
  },
  {
   "cell_type": "markdown",
   "id": "2e88fd83-6f37-43d9-8881-d7d1d58df576",
   "metadata": {},
   "source": [
    "# 6 函数"
   ]
  },
  {
   "cell_type": "markdown",
   "id": "763fb900-bc24-4461-82b8-eab3c19f0495",
   "metadata": {},
   "source": [
    "**Q**: 补充以下函数使其输出 a+b, a-b, a**b"
   ]
  },
  {
   "cell_type": "code",
   "execution_count": 2,
   "id": "0954df66-06d6-4b72-b008-9c498f8dc6de",
   "metadata": {},
   "outputs": [],
   "source": [
    "def my_func(a, b):\n",
    "    return a + b, a - b, a ** b"
   ]
  },
  {
   "cell_type": "code",
   "execution_count": 3,
   "id": "0463cf15-2036-4f39-904d-eb781758c466",
   "metadata": {},
   "outputs": [
    {
     "data": {
      "text/plain": [
       "(3, -1, 1)"
      ]
     },
     "execution_count": 3,
     "metadata": {},
     "output_type": "execute_result"
    }
   ],
   "source": [
    "my_func(1, 2)"
   ]
  },
  {
   "cell_type": "code",
   "execution_count": 4,
   "id": "849c77f4-6d6a-4fe3-842c-e104496d291c",
   "metadata": {},
   "outputs": [
    {
     "name": "stdout",
     "output_type": "stream",
     "text": [
      "3 -1 1\n"
     ]
    }
   ],
   "source": [
    "a, b, c = my_func(1, 2)\n",
    "print(a, b, c)"
   ]
  },
  {
   "cell_type": "markdown",
   "id": "24172a4b-09f2-4a4e-a470-3c56ad679214",
   "metadata": {},
   "source": [
    "**Q**: 编写一个反向补码函数，它接受一个 DNA 序列并返回大写的反向补码序列"
   ]
  },
  {
   "cell_type": "code",
   "execution_count": 5,
   "id": "73440511-49ff-42fb-b5f1-bc42b113a0e4",
   "metadata": {},
   "outputs": [],
   "source": [
    "def reverse_comp(dna):\n",
    "    \"\"\" :example:\n",
    "        >>> reverse_comp(\"AtCg\")\n",
    "        'CGAT'\"\"\"\n",
    "    lut = {\"A\": \"T\", \"T\": \"A\", \"G\": \"C\", \"C\": \"G\"}\n",
    "    return \"\".join(lut[c] for c in dna.upper())[::-1]"
   ]
  },
  {
   "cell_type": "code",
   "execution_count": 6,
   "id": "a812492c-c92b-40e1-92a9-fab4deb2176b",
   "metadata": {},
   "outputs": [],
   "source": [
    "def reverse_comp(dna):\n",
    "    \"\"\" :example:\n",
    "        >>> reverse_comp(\"AtCg\")\n",
    "        'CGAT'\"\"\"\n",
    "    return dna.upper().translate(str.maketrans(\"ATGC\", \"TACG\"))[::-1]"
   ]
  },
  {
   "cell_type": "markdown",
   "id": "1347770d-0692-42ab-a3e0-b40bde4d7d33",
   "metadata": {},
   "source": [
    "**Q**: 定义函数, 调用 pickle 实现多种数据类型的存储, 要求输入参数为 `file` 和 `data`，在 `data` 为 `None` 时读取文件 `file`，否则将 `data` 存入文件 `file`\n",
    "\n",
    "tips: `pickle.load(binIO)`, `pickle.dump(data, binIO)`"
   ]
  },
  {
   "cell_type": "code",
   "execution_count": 7,
   "id": "7ee8468e-0371-4705-8c44-b656fc8b6d50",
   "metadata": {},
   "outputs": [],
   "source": [
    "def binary(file, data=None):\n",
    "    \"\"\" 标准库 pickle 实现的数据存取\n",
    "        :param file: 二进制文件路径\n",
    "        :param data:\n",
    "            如果为 None, 则加载 file 的二进制数据并 return\n",
    "            如果为 Python 内置数据类型 (e.g., list, dict...), 则存储到 file 中\"\"\"\n",
    "    import pickle\n",
    "    if data is None:\n",
    "        # 读取模式\n",
    "        with open(file, \"rb\") as f:\n",
    "            return pickle.load(f)\n",
    "    else:\n",
    "        # 写入模式\n",
    "        with open(file, \"wb\") as f:\n",
    "            pickle.dump(data, f)"
   ]
  },
  {
   "cell_type": "code",
   "execution_count": 8,
   "id": "7905631b-5c92-4c70-8bfe-dc4703c81c21",
   "metadata": {},
   "outputs": [],
   "source": [
    "binary(\"data/test.bin\", [1, 2, 3])"
   ]
  },
  {
   "cell_type": "code",
   "execution_count": 9,
   "id": "d988d791-07b2-4d6d-bdca-76b1c07c1a2e",
   "metadata": {},
   "outputs": [
    {
     "data": {
      "text/plain": [
       "[1, 2, 3]"
      ]
     },
     "execution_count": 9,
     "metadata": {},
     "output_type": "execute_result"
    }
   ],
   "source": [
    "binary(\"data/test.bin\")"
   ]
  },
  {
   "cell_type": "code",
   "execution_count": 10,
   "id": "5309c6df-b5c0-421a-a37f-de6295cf56ed",
   "metadata": {},
   "outputs": [
    {
     "name": "stdout",
     "output_type": "stream",
     "text": [
      "1 2 3\n"
     ]
    }
   ],
   "source": [
    "a, b, c = binary(\"data/test.bin\")\n",
    "print(a, b, c)"
   ]
  },
  {
   "cell_type": "markdown",
   "id": "5a81f206-76c3-4ab1-b82a-29827784ff8a",
   "metadata": {},
   "source": [
    "**Q**: 编写函数 return 循环执行 1000 次 `func(*args, **kwargs)` 的耗时\n",
    "\n",
    "tips: `time.time()`"
   ]
  },
  {
   "cell_type": "code",
   "execution_count": 11,
   "id": "531b6568-6003-449a-9f5d-59db7e892611",
   "metadata": {},
   "outputs": [],
   "source": [
    "def timer(func, *args, **kwargs):\n",
    "    \"\"\" :return 循环执行 1000 次 func(*args, **kwargs) 的耗时\"\"\"\n",
    "    import time\n",
    "    t0 = time.time()\n",
    "    for i in range(1000):\n",
    "        func(*args, **kwargs)\n",
    "    return time.time() - t0"
   ]
  },
  {
   "cell_type": "code",
   "execution_count": 12,
   "id": "37c2d00d-0ea4-4741-9a06-978250ce4f7a",
   "metadata": {},
   "outputs": [
    {
     "data": {
      "text/plain": [
       "0.09999990463256836"
      ]
     },
     "execution_count": 12,
     "metadata": {},
     "output_type": "execute_result"
    }
   ],
   "source": [
    "timer(binary, \"data/test.bin\")"
   ]
  }
 ],
 "metadata": {
  "kernelspec": {
   "display_name": "Python 3 (ipykernel)",
   "language": "python",
   "name": "python3"
  },
  "language_info": {
   "codemirror_mode": {
    "name": "ipython",
    "version": 3
   },
   "file_extension": ".py",
   "mimetype": "text/x-python",
   "name": "python",
   "nbconvert_exporter": "python",
   "pygments_lexer": "ipython3",
   "version": "3.8.15"
  }
 },
 "nbformat": 4,
 "nbformat_minor": 5
}
