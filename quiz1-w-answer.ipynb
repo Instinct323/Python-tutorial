{
 "cells": [
  {
   "cell_type": "markdown",
   "id": "0053e467-6c67-496f-a3a1-a4cc4c93cdae",
   "metadata": {},
   "source": [
    "![](data/quiz1-summary.png)"
   ]
  },
  {
   "cell_type": "markdown",
   "id": "beafd400-ac96-4d0f-8293-af2f9962bed4",
   "metadata": {},
   "source": [
    "# Example\n",
    "\n",
    "读取输入值 x, 输出 x 的开方值"
   ]
  },
  {
   "cell_type": "markdown",
   "id": "ae4f78ef-a4f6-454e-9143-02cdd36e9339",
   "metadata": {},
   "source": [
    "|         | Input | Output |\n",
    "|:--------|:-----:|:------:|\n",
    "| 1       |  2   |   1.414    |\n",
    "| 2       |  3   |   1.732    |"
   ]
  },
  {
   "cell_type": "code",
   "execution_count": 1,
   "id": "2dbafffd-8acb-4a58-a549-4b96d8e2bdf7",
   "metadata": {},
   "outputs": [],
   "source": [
    "# Write your code here\n",
    "def my_func():\n",
    "    x = int(input())\n",
    "    print(x ** 0.5)"
   ]
  },
  {
   "cell_type": "code",
   "execution_count": 2,
   "id": "ea439ae0-6536-491c-a892-49bc84ceb3f1",
   "metadata": {},
   "outputs": [
    {
     "name": "stdin",
     "output_type": "stream",
     "text": [
      " 2\n"
     ]
    },
    {
     "name": "stdout",
     "output_type": "stream",
     "text": [
      "1.4142135623730951\n"
     ]
    }
   ],
   "source": [
    "# Copy input 1 and pass it into the 'input()'\n",
    "my_func()"
   ]
  },
  {
   "cell_type": "code",
   "execution_count": 3,
   "id": "ead60506-4ae9-43e2-9b6b-1d022d177871",
   "metadata": {},
   "outputs": [
    {
     "name": "stdin",
     "output_type": "stream",
     "text": [
      " 3\n"
     ]
    },
    {
     "name": "stdout",
     "output_type": "stream",
     "text": [
      "1.7320508075688772\n"
     ]
    }
   ],
   "source": [
    "# Copy input 2 and pass it into the 'input()'\n",
    "my_func()"
   ]
  },
  {
   "cell_type": "markdown",
   "id": "5fe16a87-e164-47a2-af69-db2b4a3fd16b",
   "metadata": {},
   "source": [
    "# Q1 (5'*4)\n",
    "1.which is the correct syntax for string slicing (**A**)\n",
    "\n",
    "A.m = n.split(',')\n",
    "\n",
    "B.m = n.split(,)\n",
    "\n",
    "C.m = n split(,)\r\n"
   ]
  },
  {
   "cell_type": "markdown",
   "id": "433d967b-886f-4af6-a813-fc120368b992",
   "metadata": {},
   "source": [
    "2.Which is the correct way to count the number of occurrences of ',' in the string `str` (**B**)\n",
    "\n",
    "A.str.count(str)\n",
    "\n",
    "B.str.count(',')\n",
    "\n",
    "C.str.count('')"
   ]
  },
  {
   "cell_type": "markdown",
   "id": "7f66647e-0472-4925-8fec-654d9f77300e",
   "metadata": {},
   "source": [
    "3.Which is the incorrect way to reverse the list elements (**A / C**)\n",
    "\n",
    "A.list.reversed() **-> list.reverse()**\n",
    "\n",
    "B.list[::-1] \n",
    "\n",
    "C.reversed() **-> reversed(list)**"
   ]
  },
  {
   "cell_type": "markdown",
   "id": "d5acaff1-d10b-4840-b538-feab7efbf2f7",
   "metadata": {},
   "source": [
    "4.If we want the following code to loop 5 times, the condition should be (**C**)\n",
    "\n",
    "A. i < 5\n",
    "\n",
    "B. i < 6\n",
    "\n",
    "C. i < 7"
   ]
  },
  {
   "cell_type": "markdown",
   "id": "fcb768be-46c5-46ff-a3b2-73f9f4a3d71a",
   "metadata": {},
   "source": [
    "```Python\n",
    "i = 2\n",
    "while _____:\n",
    "    i += 1\n",
    "    print(\" HELLO~\")\n",
    "```"
   ]
  },
  {
   "cell_type": "markdown",
   "id": "c9501f1a-d18f-4f00-8602-6eb565c676f6",
   "metadata": {},
   "source": [
    "# Q2 (20')\n",
    "\n",
    "Please write a Python program that takes a score as input, and outputs E if the score is in the range of 0-59, D if the score is in the range of 60-69, C if the score is in the range of 70-79, A if the score is in the range of 90-100, and error otherwise.se."
   ]
  },
  {
   "cell_type": "markdown",
   "id": "78fdf07b-4179-4a14-930d-0c00faebe4db",
   "metadata": {},
   "source": [
    "|         | Input | Output |\n",
    "|:--------|:-----:|:------:|\n",
    "| 1       |  78   |   C    |\n",
    "| 2       |  -1   | error  |"
   ]
  },
  {
   "cell_type": "code",
   "execution_count": 4,
   "id": "f679595f-2ed7-4a4a-8839-ef5fcde06eb2",
   "metadata": {},
   "outputs": [],
   "source": [
    "def my_func():\n",
    "    score = int(input())\n",
    "    # --- Write your code here ---"
   ]
  },
  {
   "cell_type": "markdown",
   "id": "3fc99510-e947-432b-a8a2-96c58bf31969",
   "metadata": {},
   "source": [
    "## A1"
   ]
  },
  {
   "cell_type": "code",
   "execution_count": null,
   "id": "372a0ce8-3813-447e-ac2b-746bfcf46b93",
   "metadata": {},
   "outputs": [],
   "source": [
    "def my_func():\n",
    "    score = int(input())\n",
    "    if score < 0 or score > 100:\n",
    "        print(\"error\")\n",
    "    else:\n",
    "        if 0 <= score < 60:\n",
    "            print(\"E\")\n",
    "        elif 60 <= score < 70:\n",
    "            print(\"D\")\n",
    "        elif 70 <= score < 80:\n",
    "            print(\"C\")\n",
    "        elif 80 <= score < 90:\n",
    "            print(\"B\")\n",
    "        elif 90 <= score < 100:\n",
    "            print(\"A\")"
   ]
  },
  {
   "cell_type": "markdown",
   "id": "cfd393a9-230d-4c92-9fab-f00b1ff8e991",
   "metadata": {},
   "source": [
    "## A2"
   ]
  },
  {
   "cell_type": "code",
   "execution_count": null,
   "id": "f9fa3f54-caf7-477d-8cdc-9389b37b5ed7",
   "metadata": {},
   "outputs": [],
   "source": [
    "def my_func():\n",
    "    score = int(input())\n",
    "    if score < 0 or score > 100:\n",
    "        print(\"error\")\n",
    "    else:\n",
    "        bound = (90, 80, 70, 60, 0)\n",
    "        for i in range(5):\n",
    "            if score >= bound[i]: print(\"ABCDE\"[i])"
   ]
  },
  {
   "cell_type": "markdown",
   "id": "c544be96-5e35-4fb7-b3c2-3f5c85b7e2e5",
   "metadata": {},
   "source": [
    "# Q3 (20')\n",
    "\n",
    "If all uppercase characters are converted to lowercase and all non-alphabetic characters are removed, and the string reads the same forwards and backwards, it can be considered a Palindromic String. Write a python program that inputs a string and determines if it is a Palindromic String, is the output of True, not False."
   ]
  },
  {
   "cell_type": "markdown",
   "id": "60eabac7-87be-4f1d-81bb-c9fc7f2bb1fc",
   "metadata": {},
   "source": [
    "|         | Input | Output |\n",
    "|:--------|:-----:|:------:|\n",
    "| 1       |  A man, a plan, a canal: Panama   |   True    |\n",
    "| 2       |  race a car   | False  |"
   ]
  },
  {
   "cell_type": "code",
   "execution_count": 5,
   "id": "5e4c48fa-c9cb-4d9b-ba0f-2050b6d9a41c",
   "metadata": {},
   "outputs": [],
   "source": [
    "def my_func():\n",
    "    s = input().lower()\n",
    "    # --- Write your code here ---"
   ]
  },
  {
   "cell_type": "markdown",
   "id": "9f1b4bf4-e731-40d8-8de0-e82974ebd156",
   "metadata": {},
   "source": [
    "## A1"
   ]
  },
  {
   "cell_type": "code",
   "execution_count": null,
   "id": "601ad543-b763-4b06-b57a-141e4edebdeb",
   "metadata": {},
   "outputs": [],
   "source": [
    "def my_func():\n",
    "    s = input().lower()\n",
    "    # 逐个添加字母字符\n",
    "    alpha = []\n",
    "    for c in s:\n",
    "        if 97 <= ord(c) <= 122:\n",
    "            alpha.append(c)\n",
    "    print(alpha == alpha[::-1])"
   ]
  },
  {
   "cell_type": "markdown",
   "id": "b9ee1dff-0a5a-471a-9d0e-b6fd57bf585e",
   "metadata": {},
   "source": [
    "## A2"
   ]
  },
  {
   "cell_type": "code",
   "execution_count": null,
   "id": "31c27264-b3dd-4b36-a9e0-1ba1afd41457",
   "metadata": {},
   "outputs": [],
   "source": [
    "def my_func():\n",
    "    s = input().lower()\n",
    "    alpha = [c for c in s if 97 <= ord(c) <= 122]\n",
    "    print(alpha == alpha[::-1])"
   ]
  },
  {
   "cell_type": "markdown",
   "id": "9b0d0b50-0b7a-4d4d-bd30-03611bb656bb",
   "metadata": {},
   "source": [
    "# Q4 (20')\n",
    "\n",
    " Write a Python program that inputs a string and uses a dictionary to output the number of occurrences of each letter.\r\n",
    "\n",
    "Tips: use dict.get() to set default values to prevent errors\r\n"
   ]
  },
  {
   "cell_type": "markdown",
   "id": "4dd65c41-fae9-4f35-9559-4ff6b7c4a51a",
   "metadata": {},
   "source": [
    "|         | Input | Output |\n",
    "|:--------|:-----:|:------:|\n",
    "| 1       |  caabcbaccb   |  {'c': 4, 'a': 3, 'b': 3}  |\n",
    "| 2       |  cbeadcddcfbbcfe   | {'c': 4, 'b': 3, 'e': 2, 'a': 1, 'd': 3, 'f': 2}  |"
   ]
  },
  {
   "cell_type": "code",
   "execution_count": 6,
   "id": "7986a456-31c5-4649-9e39-4d89bbebba6d",
   "metadata": {},
   "outputs": [],
   "source": [
    "def my_func():\n",
    "    s = input().lower()\n",
    "    # --- Write your code here ---"
   ]
  },
  {
   "cell_type": "markdown",
   "id": "7c1a9dd9-0534-40de-badf-0b8b1c7a362a",
   "metadata": {},
   "source": [
    "## A1"
   ]
  },
  {
   "cell_type": "code",
   "execution_count": null,
   "id": "d7fd2989-8cf0-46e1-b38b-7410f68703df",
   "metadata": {},
   "outputs": [],
   "source": [
    "def my_func():\n",
    "    s = input().lower()\n",
    "    result = {}\n",
    "    for c in s:\n",
    "        result[c] = result.get(c, 0) + 1\n",
    "    print(result)"
   ]
  },
  {
   "cell_type": "markdown",
   "id": "5b9a0f76-52d6-4433-8039-89de84022ab6",
   "metadata": {},
   "source": [
    "# Q5 (20')\n",
    "\n",
    "Write a Python program that inputs a numeric nums `nums` in the range [0,n]. In an array nums with n+1 numbers in the range [0,n], find the only number that `nums` does not appear in the range [0,n]."
   ]
  },
  {
   "cell_type": "markdown",
   "id": "cae81ebf-807b-4e0b-ac56-b6e28896c824",
   "metadata": {},
   "source": [
    "|         | Input | Output |\n",
    "|:--------|:-----:|:------:|\n",
    "| 1       |  0 5 4 3 1   |   2    |\n",
    "| 2       |  5 0 2 4 6 3 7   |   1    |"
   ]
  },
  {
   "cell_type": "code",
   "execution_count": 7,
   "id": "79986c04-5dcf-45f4-a2af-3e6e825d6122",
   "metadata": {},
   "outputs": [],
   "source": [
    "def my_func():\n",
    "    nums = tuple(map(int, input().split()))\n",
    "    # --- Write your code here ---"
   ]
  },
  {
   "cell_type": "markdown",
   "id": "3a48f656-cb2d-43ca-9cb4-8c8d874eb797",
   "metadata": {},
   "source": [
    "## A1"
   ]
  },
  {
   "cell_type": "code",
   "execution_count": null,
   "id": "4a0ea439-43df-4305-b74c-cd4d1527005c",
   "metadata": {},
   "outputs": [],
   "source": [
    "def my_func():\n",
    "    nums = tuple(map(int, input().split()))\n",
    "    n = len(nums)\n",
    "    mark = [False] * (n + 1)\n",
    "    # 利用列表标记\n",
    "    for i in nums:\n",
    "        mark[i] = True\n",
    "    for i in range(n + 1):\n",
    "        if not mark[i]:\n",
    "            print(i)\n",
    "            break"
   ]
  },
  {
   "cell_type": "markdown",
   "id": "532f8e5b-aa76-4fca-a83e-308743c7203f",
   "metadata": {},
   "source": [
    "## A2"
   ]
  },
  {
   "cell_type": "code",
   "execution_count": null,
   "id": "d1f881ec-64c7-4589-81a0-1510dcb80c99",
   "metadata": {},
   "outputs": [],
   "source": [
    "def my_func():\n",
    "    nums = tuple(map(int, input().split()))\n",
    "    # 利用等差数列求解\n",
    "    n = len(nums)\n",
    "    print(n * (n + 1) // 2 - sum(nums))"
   ]
  },
  {
   "cell_type": "markdown",
   "id": "9948e621-b0b9-449c-86df-9d43962eccc8",
   "metadata": {},
   "source": [
    "# Submission"
   ]
  },
  {
   "cell_type": "markdown",
   "id": "9f01e572-70d2-4a8e-9616-34f4794977b6",
   "metadata": {},
   "source": [
    "- \"Menu\" -> \"File\" -> \"Save and Export Notebook As\" -> \"HTML\""
   ]
  }
 ],
 "metadata": {
  "kernelspec": {
   "display_name": "Python 3 (ipykernel)",
   "language": "python",
   "name": "python3"
  },
  "language_info": {
   "codemirror_mode": {
    "name": "ipython",
    "version": 3
   },
   "file_extension": ".py",
   "mimetype": "text/x-python",
   "name": "python",
   "nbconvert_exporter": "python",
   "pygments_lexer": "ipython3",
   "version": "3.8.15"
  }
 },
 "nbformat": 4,
 "nbformat_minor": 5
}
