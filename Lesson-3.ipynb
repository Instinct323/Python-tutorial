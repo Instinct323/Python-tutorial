{
 "cells": [
  {
   "cell_type": "markdown",
   "id": "c09f2cfd-8db2-4bdf-b915-dafdf27f3958",
   "metadata": {},
   "source": [
    "# 4 流程控制"
   ]
  },
  {
   "cell_type": "markdown",
   "id": "01e9e947-431d-4128-87fb-806ce52538b2",
   "metadata": {},
   "source": [
    "## 4.1 if-elif-else"
   ]
  },
  {
   "cell_type": "markdown",
   "id": "4988626a-00f6-49eb-855a-cc4d600d642a",
   "metadata": {},
   "source": [
    "给定一个分数 score, 如果为 0-59 输出 E, 60-69 输出 D, 70-79 输出 C, 80-89 输出 B, 90-100 输出 A"
   ]
  },
  {
   "cell_type": "code",
   "execution_count": 1,
   "id": "1a1bbb0e-44c6-422a-a5ce-df0005509b65",
   "metadata": {},
   "outputs": [
    {
     "name": "stdin",
     "output_type": "stream",
     "text": [
      " -1\n"
     ]
    },
    {
     "name": "stdout",
     "output_type": "stream",
     "text": [
      "error\n"
     ]
    }
   ],
   "source": [
    "score = int(input())\n",
    "\n",
    "if score < 0 or score > 100:\n",
    "    print(\"error\")\n",
    "else:\n",
    "    if 0 <= score < 60:\n",
    "        print(\"E\")\n",
    "    elif 60 <= score < 70:\n",
    "        print(\"D\")\n",
    "    elif 70 <= score < 80:\n",
    "        print(\"C\")\n",
    "    elif 80 <= score < 90:\n",
    "        print(\"B\")\n",
    "    elif 90 <= score < 100:\n",
    "        print(\"A\")"
   ]
  },
  {
   "cell_type": "markdown",
   "id": "0c160e2e-0bc2-46e3-a9a8-c5c7e57aacd9",
   "metadata": {},
   "source": [
    "Q: 条件判断似乎有点冗余, 可以怎样简化?"
   ]
  },
  {
   "cell_type": "code",
   "execution_count": null,
   "id": "ddf154b8-8d13-4738-9be5-67936632a984",
   "metadata": {},
   "outputs": [],
   "source": []
  },
  {
   "cell_type": "markdown",
   "id": "6f443a1d-6565-4009-a9a7-56d7c35711e7",
   "metadata": {},
   "source": [
    "三目运算符"
   ]
  },
  {
   "cell_type": "code",
   "execution_count": 2,
   "id": "9b142778-d4d4-46e9-8997-384adf867a3f",
   "metadata": {},
   "outputs": [
    {
     "name": "stdout",
     "output_type": "stream",
     "text": [
      "y\n"
     ]
    }
   ],
   "source": [
    "x = \"y\" if 5 > 3 else \"n\"\n",
    "print(x)"
   ]
  },
  {
   "attachments": {},
   "cell_type": "markdown",
   "id": "e56d9b1d-37af-4efc-9e55-abd4585a5aa0",
   "metadata": {},
   "source": [
    "Q: 读取输入 year, 如果是闰年输出 True, 否则输出 False：\n",
    "- 四年一闰百年不闰：即如果year能够被4整除，但是不能被100整除，则year是闰年。\n",
    "- 每四百年再一闰：如果year能够被400整除，则year是闰年。 "
   ]
  },
  {
   "cell_type": "markdown",
   "id": "efbd4213-84e8-4f92-9932-0bfb572bedf4",
   "metadata": {},
   "source": [
    "|         | Input | Output |\n",
    "|:--------|:-----:|:------:|\n",
    "| 1       |  2024   |   True    |\n",
    "| 2       |  2100   |   False    |\n",
    "| 2       |  2400   |   True    |"
   ]
  },
  {
   "cell_type": "code",
   "execution_count": 3,
   "id": "86e0b40a-26d5-4824-834c-fe34a2a278a6",
   "metadata": {},
   "outputs": [
    {
     "name": "stdin",
     "output_type": "stream",
     "text": [
      " 2024\n"
     ]
    }
   ],
   "source": [
    "year = int(input())"
   ]
  },
  {
   "attachments": {},
   "cell_type": "markdown",
   "id": "ddef6b63-f331-43e4-a624-37a37238fbaa",
   "metadata": {},
   "source": [
    "Q: 假设在麦当劳打工的薪酬计算如下：\n",
    "- 小于120小时，则为120小时薪酬的80%\n",
    "- 等于120小时，则每小时为150元\n",
    "- 介于120-150小时，超出的每小时薪酬为120小时薪酬的1.2倍\n",
    "- 大于150小时，超出的每小时薪酬为120小时薪酬的1.6倍\n",
    "\n",
    "请输入每月工作总时数，然后计算薪酬"
   ]
  },
  {
   "cell_type": "code",
   "execution_count": 4,
   "id": "49ab5aea-25bc-4126-9e69-2f7559dfd8dd",
   "metadata": {},
   "outputs": [
    {
     "name": "stdin",
     "output_type": "stream",
     "text": [
      " 129\n"
     ]
    }
   ],
   "source": [
    "time = float(input())"
   ]
  },
  {
   "attachments": {},
   "cell_type": "markdown",
   "id": "e000396d-42fb-41c2-943f-714d9b6f65c1",
   "metadata": {},
   "source": [
    "## 4.2 迭代器"
   ]
  },
  {
   "cell_type": "code",
   "execution_count": 5,
   "id": "2b7c167e-97c9-4b5e-bb1e-c5b8ed492aee",
   "metadata": {},
   "outputs": [
    {
     "name": "stdout",
     "output_type": "stream",
     "text": [
      "['1', '2', '3', '4', '5']\n",
      "<generator object make_iter at 0x00000177AFD34C80>\n"
     ]
    }
   ],
   "source": [
    "src = \"12345\"\n",
    "\n",
    "\n",
    "def make_iter():\n",
    "    for i in src:\n",
    "        print(\"iterator: output\", i)\n",
    "        yield i\n",
    "\n",
    "\n",
    "my_list = list(src)\n",
    "my_iter = make_iter()\n",
    "\n",
    "print(my_list)\n",
    "print(my_iter)"
   ]
  },
  {
   "cell_type": "code",
   "execution_count": 6,
   "id": "6a06396d-29db-46e2-ab32-dafe893764e2",
   "metadata": {},
   "outputs": [
    {
     "name": "stdout",
     "output_type": "stream",
     "text": [
      "1\n",
      "2\n",
      "3\n",
      "4\n",
      "5\n"
     ]
    }
   ],
   "source": [
    "for i in my_list:\n",
    "    print(i)"
   ]
  },
  {
   "cell_type": "code",
   "execution_count": 7,
   "id": "b5857ac4-ed1b-4348-bda6-efcabe244580",
   "metadata": {},
   "outputs": [
    {
     "name": "stdout",
     "output_type": "stream",
     "text": [
      "iterator: output 1\n",
      "1\n",
      "iterator: output 2\n",
      "2\n",
      "iterator: output 3\n",
      "3\n",
      "iterator: output 4\n",
      "4\n",
      "iterator: output 5\n",
      "5\n"
     ]
    }
   ],
   "source": [
    "for i in my_iter:\n",
    "    print(i)"
   ]
  },
  {
   "cell_type": "markdown",
   "id": "348a30e4-fe4e-4ea7-a411-1889e4c41d94",
   "metadata": {},
   "source": [
    "迭代器中的元素只能访问一次"
   ]
  },
  {
   "cell_type": "code",
   "execution_count": 8,
   "id": "2a52bd6a-7a88-4826-a3e5-ed4e92207504",
   "metadata": {},
   "outputs": [],
   "source": [
    "for i in my_iter:\n",
    "    print(i)"
   ]
  },
  {
   "cell_type": "markdown",
   "id": "b6176676-daa0-4274-a0ca-489618438990",
   "metadata": {},
   "source": [
    "Q: 迭代器与列表元组相比有什么优势 ?"
   ]
  },
  {
   "cell_type": "code",
   "execution_count": null,
   "id": "3df305a7-c86f-4c8c-ae95-5b441539db10",
   "metadata": {},
   "outputs": [],
   "source": []
  },
  {
   "cell_type": "markdown",
   "id": "89c79ec0-527e-4e63-8765-54c2f3443a5a",
   "metadata": {},
   "source": [
    "### 类型转换"
   ]
  },
  {
   "cell_type": "code",
   "execution_count": 9,
   "id": "fa755faa-2117-4967-9c3a-294d3d4c4d71",
   "metadata": {},
   "outputs": [
    {
     "name": "stdout",
     "output_type": "stream",
     "text": [
      "iterator: output 1\n",
      "iterator: output 2\n",
      "iterator: output 3\n",
      "iterator: output 4\n",
      "iterator: output 5\n",
      "['1', '2', '3', '4', '5']\n",
      "iterator: output 1\n",
      "iterator: output 2\n",
      "iterator: output 3\n",
      "iterator: output 4\n",
      "iterator: output 5\n",
      "('1', '2', '3', '4', '5')\n"
     ]
    }
   ],
   "source": [
    "print(list(make_iter()))\n",
    "print(tuple(make_iter()))"
   ]
  },
  {
   "cell_type": "markdown",
   "id": "0be6d7b2-5ea8-40b5-aee0-d6837bf4904f",
   "metadata": {},
   "source": [
    "### range"
   ]
  },
  {
   "cell_type": "markdown",
   "id": "56cc3ebb-766a-48d1-b423-c74cfdba6a97",
   "metadata": {},
   "source": [
    "- range(end)\n",
    "- range(start, end, step=1)"
   ]
  },
  {
   "cell_type": "code",
   "execution_count": 10,
   "id": "00751578-ec83-4987-88b0-37e1e96df96f",
   "metadata": {},
   "outputs": [
    {
     "name": "stdout",
     "output_type": "stream",
     "text": [
      "0\n",
      "1\n",
      "2\n",
      "3\n",
      "4\n"
     ]
    }
   ],
   "source": [
    "for i in range(5):\n",
    "    print(i)"
   ]
  },
  {
   "cell_type": "code",
   "execution_count": 11,
   "id": "ce8ab3b7-c560-496e-8955-064089f5469f",
   "metadata": {},
   "outputs": [
    {
     "name": "stdout",
     "output_type": "stream",
     "text": [
      "2\n",
      "3\n",
      "4\n"
     ]
    }
   ],
   "source": [
    "for i in range(2, 5):\n",
    "    print(i)"
   ]
  },
  {
   "cell_type": "code",
   "execution_count": 12,
   "id": "1d9a823b-be18-48b8-9b44-db13645dabb9",
   "metadata": {},
   "outputs": [
    {
     "name": "stdout",
     "output_type": "stream",
     "text": [
      "5\n",
      "4\n",
      "3\n"
     ]
    }
   ],
   "source": [
    "for i in range(5, 2, -1):\n",
    "    print(i)"
   ]
  },
  {
   "attachments": {},
   "cell_type": "markdown",
   "id": "c9c5caca-8cef-4997-8644-5b05b3249d51",
   "metadata": {},
   "source": [
    "Q: 本金1万元，年利息3%，存5年后，本息合计是多少？"
   ]
  },
  {
   "cell_type": "code",
   "execution_count": null,
   "id": "2d5aa38b-4e78-476b-bb51-fdb6556f21be",
   "metadata": {},
   "outputs": [],
   "source": []
  },
  {
   "cell_type": "markdown",
   "id": "264c81b1-a350-44ae-9f75-77e3672f3e94",
   "metadata": {},
   "source": [
    "### enumerate"
   ]
  },
  {
   "cell_type": "code",
   "execution_count": 13,
   "id": "45eca8e4-9d6d-4f7f-8d18-6ea2deee6b71",
   "metadata": {},
   "outputs": [
    {
     "name": "stdout",
     "output_type": "stream",
     "text": [
      "(0, 'a')\n",
      "(1, 'b')\n",
      "(2, 'c')\n",
      "(3, 'd')\n",
      "(4, 'e')\n"
     ]
    }
   ],
   "source": [
    "for x in enumerate(\"abcde\"):\n",
    "    print(x)"
   ]
  },
  {
   "cell_type": "code",
   "execution_count": 14,
   "id": "c73d3c3d-be91-4cb8-bc80-c07af011cc40",
   "metadata": {},
   "outputs": [
    {
     "name": "stdout",
     "output_type": "stream",
     "text": [
      "\n",
      "b\n",
      "cc\n",
      "ddd\n",
      "eeee\n"
     ]
    }
   ],
   "source": [
    "for i, ele in enumerate(\"abcde\"):\n",
    "    print(i * ele)"
   ]
  },
  {
   "cell_type": "markdown",
   "id": "ffd64561-d069-4d33-9451-dfa5005e6fb9",
   "metadata": {},
   "source": [
    "## 4.3 for"
   ]
  },
  {
   "cell_type": "code",
   "execution_count": 15,
   "id": "df8fdb44-f604-4f16-a45c-decf7c4c094e",
   "metadata": {},
   "outputs": [
    {
     "name": "stdout",
     "output_type": "stream",
     "text": [
      "0: Before continue\n",
      "0: After continue\n",
      "1: Before continue\n",
      "1: After continue\n",
      "2: Before continue\n",
      "2: After continue\n",
      "3: Before continue\n",
      "4: Before continue\n"
     ]
    }
   ],
   "source": [
    "for i in range(5):\n",
    "    print(f\"{i}: Before continue\")\n",
    "    if i >= 3: continue\n",
    "    print(f\"{i}: After continue\")"
   ]
  },
  {
   "cell_type": "code",
   "execution_count": 16,
   "id": "5bcb7b91-e5f1-4d35-8dd4-3c13d0251779",
   "metadata": {},
   "outputs": [
    {
     "name": "stdout",
     "output_type": "stream",
     "text": [
      "0: Before break\n",
      "0: After break\n",
      "1: Before break\n",
      "1: After break\n",
      "2: Before break\n",
      "2: After break\n",
      "3: Before break\n"
     ]
    }
   ],
   "source": [
    "for i in range(5):\n",
    "    print(f\"{i}: Before break\")\n",
    "    if i >= 3: break\n",
    "    print(f\"{i}: After break\")"
   ]
  },
  {
   "cell_type": "code",
   "execution_count": 17,
   "id": "5ff4c25c-2350-457c-bf9e-78d2fa43d1f5",
   "metadata": {},
   "outputs": [
    {
     "data": {
      "text/plain": [
       "[0.0, 1.0, 1.4142135623730951, 1.7320508075688772, 2.0]"
      ]
     },
     "execution_count": 17,
     "metadata": {},
     "output_type": "execute_result"
    }
   ],
   "source": [
    "a = [i ** 0.5 for i in range(5)]\n",
    "a"
   ]
  },
  {
   "cell_type": "code",
   "execution_count": 18,
   "id": "20ebb46b-f094-43f9-a8fa-a335540d4edc",
   "metadata": {},
   "outputs": [
    {
     "data": {
      "text/plain": [
       "[1, 3, 5, 7, 9]"
      ]
     },
     "execution_count": 18,
     "metadata": {},
     "output_type": "execute_result"
    }
   ],
   "source": [
    "a = [i for i in range(10) if i % 2]\n",
    "a"
   ]
  },
  {
   "cell_type": "markdown",
   "id": "1d46f357-d944-4ca3-a501-d3f2e70368b0",
   "metadata": {},
   "source": [
    "Q: 筛选出句子中的英文字母"
   ]
  },
  {
   "cell_type": "code",
   "execution_count": 19,
   "id": "49d4f29b-d697-47b2-8ece-c05c83f7cd2b",
   "metadata": {},
   "outputs": [
    {
     "data": {
      "text/plain": [
       "(97, 122)"
      ]
     },
     "execution_count": 19,
     "metadata": {},
     "output_type": "execute_result"
    }
   ],
   "source": [
    "ord(\"a\"), ord(\"z\")"
   ]
  },
  {
   "cell_type": "code",
   "execution_count": 20,
   "id": "c0842302-016b-4620-b98b-0c7d59f1e6c5",
   "metadata": {},
   "outputs": [],
   "source": [
    "s = \"A man, a plan, a canal: Panama\".lower()"
   ]
  },
  {
   "cell_type": "code",
   "execution_count": null,
   "id": "38379a80-e36d-4410-98d2-8a280b9f7278",
   "metadata": {},
   "outputs": [],
   "source": []
  },
  {
   "attachments": {},
   "cell_type": "markdown",
   "id": "2e40ec73-0daf-4069-a809-dcd3bc3552a4",
   "metadata": {},
   "source": [
    "Q: 一对兔子，从出生后第3个月起每个月都生一对兔子。小兔子长到第3个月后每个月又生一对兔子。假如兔子一直都不死，请问第1个月出生的一对兔子，第n个月有多少对兔子？键盘接收月份值n(n>=3)，输出1到该月每个月的兔子对数。"
   ]
  },
  {
   "cell_type": "code",
   "execution_count": 21,
   "id": "25d31cad-49b5-4526-82cf-681d8065a8b7",
   "metadata": {},
   "outputs": [
    {
     "name": "stdin",
     "output_type": "stream",
     "text": [
      " 10\n"
     ]
    }
   ],
   "source": [
    "n = int(input())"
   ]
  },
  {
   "cell_type": "markdown",
   "id": "493fdc9b-130b-495c-ab0b-0fefcd3f8e44",
   "metadata": {},
   "source": [
    "## 4.4 while"
   ]
  },
  {
   "cell_type": "code",
   "execution_count": 22,
   "id": "a42baf14-1bf5-43e9-aceb-dcf833f8cbde",
   "metadata": {},
   "outputs": [
    {
     "name": "stdout",
     "output_type": "stream",
     "text": [
      "1: Before continue\n",
      "1: After continue\n",
      "2: Before continue\n",
      "2: After continue\n",
      "3: Before continue\n",
      "4: Before continue\n",
      "5: Before continue\n"
     ]
    }
   ],
   "source": [
    "i = 0\n",
    "while i < 5:\n",
    "    i += 1\n",
    "    print(f\"{i}: Before continue\")\n",
    "    if i >= 3: continue\n",
    "    print(f\"{i}: After continue\")"
   ]
  },
  {
   "cell_type": "code",
   "execution_count": 23,
   "id": "bfe43df1-6cd9-46dd-a4fd-7f8032555a48",
   "metadata": {},
   "outputs": [
    {
     "name": "stdout",
     "output_type": "stream",
     "text": [
      "1: Before break\n",
      "1: After break\n",
      "2: Before break\n",
      "2: After break\n",
      "3: Before break\n"
     ]
    }
   ],
   "source": [
    "i = 0\n",
    "while True:\n",
    "    i += 1\n",
    "    print(f\"{i}: Before break\")\n",
    "    if i >= 3: break\n",
    "    print(f\"{i}: After break\")"
   ]
  },
  {
   "cell_type": "markdown",
   "id": "871770d2-f244-4a14-b8fa-e63fd317262c",
   "metadata": {},
   "source": [
    "Q: 使用 while 循环将给定的整数转换为 4 进制"
   ]
  },
  {
   "cell_type": "code",
   "execution_count": 24,
   "id": "6ac4abb5-ab4c-43c1-8e7f-2e02ef589617",
   "metadata": {},
   "outputs": [],
   "source": [
    "# 79 (10) -> 1033 (4)\n",
    "# 79 = 1*4**3 + 3*4**1 + 3*4**0\n",
    "n = 79"
   ]
  },
  {
   "cell_type": "markdown",
   "id": "abf2bc12-286c-45f6-b268-a9e83acdcd44",
   "metadata": {},
   "source": [
    "Q: 下面这段代码有什么作用?"
   ]
  },
  {
   "cell_type": "code",
   "execution_count": 25,
   "id": "e8d13b05-890f-4d5b-91b5-f4a41910d514",
   "metadata": {},
   "outputs": [
    {
     "name": "stdout",
     "output_type": "stream",
     "text": [
      "{2: 3, 3: 1, 11: 4}\n"
     ]
    }
   ],
   "source": [
    "n = 351384\n",
    "\n",
    "factor = {}\n",
    "i, bound = 2, n ** 0.5\n",
    "while i <= bound:\n",
    "    if n % i == 0:\n",
    "        # 计数 + 整除\n",
    "        cnt = 1\n",
    "        n //= i\n",
    "        while n % i == 0:\n",
    "            cnt += 1\n",
    "            n //= i\n",
    "        # 记录幂次, 更新边界\n",
    "        factor[i] = cnt\n",
    "        bound = n ** 0.5\n",
    "    i += 1\n",
    "if n > 1: factor[n] = 1\n",
    "print(factor)"
   ]
  },
  {
   "cell_type": "markdown",
   "id": "ae0f2b8b-7de4-4a64-b473-93f4da8652b0",
   "metadata": {},
   "source": [
    "## 4.5 异常处理"
   ]
  },
  {
   "cell_type": "markdown",
   "id": "fcea869d-3799-4535-be29-f6709f79f5dd",
   "metadata": {},
   "source": [
    "### assert"
   ]
  },
  {
   "cell_type": "code",
   "execution_count": 26,
   "id": "d5e44453-6f7c-4cf3-b104-4cc33e8cb420",
   "metadata": {},
   "outputs": [
    {
     "name": "stdin",
     "output_type": "stream",
     "text": [
      " 0.2\n"
     ]
    }
   ],
   "source": [
    "p = float(input())\n",
    "assert 0 <= p <= 1"
   ]
  },
  {
   "cell_type": "code",
   "execution_count": 27,
   "id": "218cd5b5-fd08-48eb-bc47-a6aa1c59ae44",
   "metadata": {},
   "outputs": [
    {
     "name": "stdin",
     "output_type": "stream",
     "text": [
      " 0.3\n"
     ]
    }
   ],
   "source": [
    "p = float(input())\n",
    "assert 0 <= p <= 1, \"Check failure\""
   ]
  },
  {
   "cell_type": "markdown",
   "id": "0a1037ac-a6bb-4511-812d-80beef919a4a",
   "metadata": {},
   "source": [
    "### raise"
   ]
  },
  {
   "cell_type": "code",
   "execution_count": 28,
   "id": "6a356804-9778-4f9d-a47c-bd7d3db128d4",
   "metadata": {},
   "outputs": [
    {
     "ename": "AssertionError",
     "evalue": "",
     "output_type": "error",
     "traceback": [
      "\u001b[1;31m---------------------------------------------------------------------------\u001b[0m",
      "\u001b[1;31mAssertionError\u001b[0m                            Traceback (most recent call last)",
      "Cell \u001b[1;32mIn[28], line 1\u001b[0m\n\u001b[1;32m----> 1\u001b[0m \u001b[38;5;28;01mraise\u001b[39;00m \u001b[38;5;167;01mAssertionError\u001b[39;00m\n",
      "\u001b[1;31mAssertionError\u001b[0m: "
     ]
    }
   ],
   "source": [
    "raise AssertionError"
   ]
  },
  {
   "cell_type": "code",
   "execution_count": 29,
   "id": "cfd2f501-0cce-42db-a8e4-8bf9433b7dd5",
   "metadata": {},
   "outputs": [
    {
     "ename": "AssertionError",
     "evalue": "can can need",
     "output_type": "error",
     "traceback": [
      "\u001b[1;31m---------------------------------------------------------------------------\u001b[0m",
      "\u001b[1;31mAssertionError\u001b[0m                            Traceback (most recent call last)",
      "Cell \u001b[1;32mIn[29], line 1\u001b[0m\n\u001b[1;32m----> 1\u001b[0m \u001b[38;5;28;01mraise\u001b[39;00m \u001b[38;5;167;01mAssertionError\u001b[39;00m(\u001b[38;5;124m\"\u001b[39m\u001b[38;5;124mcan can need\u001b[39m\u001b[38;5;124m\"\u001b[39m)\n",
      "\u001b[1;31mAssertionError\u001b[0m: can can need"
     ]
    }
   ],
   "source": [
    "raise AssertionError(\"can can need\")"
   ]
  },
  {
   "cell_type": "markdown",
   "id": "2659c62e-94cf-4162-97e8-743a988d65ec",
   "metadata": {},
   "source": [
    "### try-except"
   ]
  },
  {
   "cell_type": "code",
   "execution_count": 30,
   "id": "be7f8d52-e331-4ed1-b5ce-1e62fa307058",
   "metadata": {},
   "outputs": [
    {
     "name": "stdin",
     "output_type": "stream",
     "text": [
      " s\n"
     ]
    },
    {
     "ename": "ValueError",
     "evalue": "invalid literal for int() with base 10: 's'",
     "output_type": "error",
     "traceback": [
      "\u001b[1;31m---------------------------------------------------------------------------\u001b[0m",
      "\u001b[1;31mValueError\u001b[0m                                Traceback (most recent call last)",
      "Cell \u001b[1;32mIn[30], line 1\u001b[0m\n\u001b[1;32m----> 1\u001b[0m a \u001b[38;5;241m=\u001b[39m \u001b[38;5;241m1\u001b[39m \u001b[38;5;241m/\u001b[39m \u001b[38;5;28;43mint\u001b[39;49m\u001b[43m(\u001b[49m\u001b[38;5;28;43minput\u001b[39;49m\u001b[43m(\u001b[49m\u001b[43m)\u001b[49m\u001b[43m)\u001b[49m\n\u001b[0;32m      2\u001b[0m \u001b[38;5;28mprint\u001b[39m(\u001b[38;5;124mf\u001b[39m\u001b[38;5;124m\"\u001b[39m\u001b[38;5;132;01m{\u001b[39;00ma\u001b[38;5;132;01m=}\u001b[39;00m\u001b[38;5;124m\"\u001b[39m)\n",
      "\u001b[1;31mValueError\u001b[0m: invalid literal for int() with base 10: 's'"
     ]
    }
   ],
   "source": [
    "a = 1 / int(input())\n",
    "print(f\"{a=}\")"
   ]
  },
  {
   "cell_type": "code",
   "execution_count": 31,
   "id": "232462d9-96c6-41d7-8bd2-9327894545af",
   "metadata": {},
   "outputs": [
    {
     "name": "stdin",
     "output_type": "stream",
     "text": [
      " 0\n"
     ]
    },
    {
     "name": "stdout",
     "output_type": "stream",
     "text": [
      "cjdl\n"
     ]
    }
   ],
   "source": [
    "try:\n",
    "    a = 1 / int(input())\n",
    "    print(f\"{a=}\")\n",
    "except:\n",
    "    print(\"cjdl\")"
   ]
  },
  {
   "cell_type": "code",
   "execution_count": 32,
   "id": "67aa35e6-194d-4ceb-827c-b6f098596069",
   "metadata": {},
   "outputs": [
    {
     "name": "stdin",
     "output_type": "stream",
     "text": [
      " 0\n"
     ]
    },
    {
     "name": "stdout",
     "output_type": "stream",
     "text": [
      "厉害\n"
     ]
    }
   ],
   "source": [
    "try:\n",
    "    a = 1 / int(input())\n",
    "    print(f\"{a=}\")\n",
    "except ZeroDivisionError:\n",
    "    print(\"厉害\")\n",
    "except ValueError:\n",
    "    print(\"你真棒\")"
   ]
  },
  {
   "cell_type": "code",
   "execution_count": 33,
   "id": "35c8d950-1e22-491f-b800-440d73635d71",
   "metadata": {},
   "outputs": [
    {
     "name": "stdin",
     "output_type": "stream",
     "text": [
      " 0\n"
     ]
    },
    {
     "name": "stdout",
     "output_type": "stream",
     "text": [
      "厉害: division by zero\n"
     ]
    }
   ],
   "source": [
    "try:\n",
    "    a = 1 / int(input())\n",
    "    print(f\"{a=}\")\n",
    "except ZeroDivisionError as e:\n",
    "    print(f\"厉害: {e}\")\n",
    "except ValueError as e:\n",
    "    print(f\"你真棒: {e}\")"
   ]
  },
  {
   "cell_type": "code",
   "execution_count": 34,
   "id": "01ad67cc-fc71-4ea0-9b4c-d1e4aacbab4e",
   "metadata": {},
   "outputs": [
    {
     "name": "stdin",
     "output_type": "stream",
     "text": [
      " s\n"
     ]
    },
    {
     "name": "stdout",
     "output_type": "stream",
     "text": [
      "666\n"
     ]
    }
   ],
   "source": [
    "try:\n",
    "    a = 1 / int(input())\n",
    "    print(f\"{a=}\")\n",
    "except (ZeroDivisionError, ValueError):\n",
    "    print(\"666\")"
   ]
  },
  {
   "cell_type": "markdown",
   "id": "4f53ba0b-077d-4b21-938a-c9fb5f430a98",
   "metadata": {},
   "source": [
    "Q: 给定年月日, 如果存在这一天输出 True, 否则输出 False"
   ]
  },
  {
   "cell_type": "code",
   "execution_count": 35,
   "id": "ef1c5486-0e4f-4a7a-aed2-70b3f1e4ad8b",
   "metadata": {},
   "outputs": [
    {
     "ename": "ValueError",
     "evalue": "day is out of range for month",
     "output_type": "error",
     "traceback": [
      "\u001b[1;31m---------------------------------------------------------------------------\u001b[0m",
      "\u001b[1;31mValueError\u001b[0m                                Traceback (most recent call last)",
      "Cell \u001b[1;32mIn[35], line 5\u001b[0m\n\u001b[0;32m      1\u001b[0m \u001b[38;5;28;01mfrom\u001b[39;00m \u001b[38;5;21;01mdatetime\u001b[39;00m \u001b[38;5;28;01mimport\u001b[39;00m date\n\u001b[0;32m      3\u001b[0m y, m, d \u001b[38;5;241m=\u001b[39m \u001b[38;5;241m2024\u001b[39m, \u001b[38;5;241m2\u001b[39m, \u001b[38;5;241m30\u001b[39m\n\u001b[1;32m----> 5\u001b[0m t \u001b[38;5;241m=\u001b[39m \u001b[43mdate\u001b[49m\u001b[43m(\u001b[49m\u001b[43my\u001b[49m\u001b[43m,\u001b[49m\u001b[43m \u001b[49m\u001b[43mm\u001b[49m\u001b[43m,\u001b[49m\u001b[43m \u001b[49m\u001b[43md\u001b[49m\u001b[43m)\u001b[49m\n\u001b[0;32m      6\u001b[0m t\n",
      "\u001b[1;31mValueError\u001b[0m: day is out of range for month"
     ]
    }
   ],
   "source": [
    "from datetime import date\n",
    "\n",
    "y, m, d = 2024, 2, 30\n",
    "\n",
    "t = date(y, m, d)\n",
    "t"
   ]
  }
 ],
 "metadata": {
  "kernelspec": {
   "display_name": "Python 3 (ipykernel)",
   "language": "python",
   "name": "python3"
  },
  "language_info": {
   "codemirror_mode": {
    "name": "ipython",
    "version": 3
   },
   "file_extension": ".py",
   "mimetype": "text/x-python",
   "name": "python",
   "nbconvert_exporter": "python",
   "pygments_lexer": "ipython3",
   "version": "3.8.15"
  }
 },
 "nbformat": 4,
 "nbformat_minor": 5
}
