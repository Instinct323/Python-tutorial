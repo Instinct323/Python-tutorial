{
 "cells": [
  {
   "cell_type": "markdown",
   "id": "51e26059-3d38-43cb-9887-f82f6f21339a",
   "metadata": {},
   "source": [
    "提交链接: [https://yunbiz.wps.cn/c/collect/cupnBrZ3NG6](https://yunbiz.wps.cn/c/collect/cupnBrZ3NG6)"
   ]
  },
  {
   "cell_type": "markdown",
   "id": "2c24e462-cb35-4459-acde-1d993453b4c0",
   "metadata": {},
   "source": [
    "# 8 类和实例"
   ]
  },
  {
   "cell_type": "code",
   "execution_count": null,
   "id": "bd53573c-af92-479e-a8a3-ce9e6d67a987",
   "metadata": {},
   "outputs": [],
   "source": [
    "class Student:\n",
    "    grade = 2024\n",
    "\n",
    "    def __init__(self, name):\n",
    "        print(\"__init__: 完成实例化\")\n",
    "        self.name = name\n",
    "\n",
    "    def info(self):\n",
    "        print(f\"info: 调用实例方法, 查询学生信息 {self.grade} {self.name}\")\n",
    "\n",
    "    @classmethod\n",
    "    def modify_default_grade(cls, grade):\n",
    "        print(f\"modify_default_grade: 调用类方法, 修改默认年级 {cls.grade} -> {grade}\")\n",
    "        cls.grade = grade\n",
    "\n",
    "    @staticmethod\n",
    "    def download():\n",
    "        print(f\"download: 调用静态方法, 开始下载微信\")"
   ]
  },
  {
   "cell_type": "markdown",
   "id": "b77a39b1-6bfe-49e0-bda9-0f8ce81eb6f9",
   "metadata": {},
   "source": [
    "实例方法\n",
    "- 实例化后才可以使用"
   ]
  },
  {
   "cell_type": "code",
   "execution_count": null,
   "id": "f9a22dc6-e4ac-49e1-95b5-f14a5d3a9e84",
   "metadata": {},
   "outputs": [],
   "source": [
    "Student.info()"
   ]
  },
  {
   "cell_type": "code",
   "execution_count": null,
   "id": "37c5309e-c274-4050-b7be-b4c2100af32f",
   "metadata": {},
   "outputs": [],
   "source": [
    "stu = Student(\"Mike\")\n",
    "stu.info()"
   ]
  },
  {
   "cell_type": "markdown",
   "id": "491adff9-3b40-49ad-a733-e5acd8955d71",
   "metadata": {},
   "source": [
    "类方法\n",
    "- 不进行实例化也可以使用\n",
    "- 可用来修改类变量"
   ]
  },
  {
   "cell_type": "code",
   "execution_count": null,
   "id": "d24197ce-f213-4a3f-b036-a0c280e06848",
   "metadata": {},
   "outputs": [],
   "source": [
    "Student.modify_default_grade(2023)\n",
    "stu = Student(\"Tony\")\n",
    "stu.info()\n",
    "print(\"\\n<tips: 实例化后依然可以使用类方法>\")\n",
    "stu.modify_default_grade(2024)\n",
    "stu.info()"
   ]
  },
  {
   "cell_type": "markdown",
   "id": "d82adfba-0f97-4ba1-9865-9987e23188fc",
   "metadata": {},
   "source": [
    "静态方法\n",
    "- 除了定义域, 和类没有任何关系"
   ]
  },
  {
   "cell_type": "code",
   "execution_count": null,
   "id": "979f5988-f4d3-4dc1-907c-e783e3f931ba",
   "metadata": {},
   "outputs": [],
   "source": [
    "Student.download()\n",
    "stu = Student(\"Mike\")\n",
    "stu.download()"
   ]
  },
  {
   "cell_type": "markdown",
   "id": "0d9e2fe8-f487-4e5b-abb7-e8d0f5c8ae8f",
   "metadata": {},
   "source": [
    "## 8.1 classmethod"
   ]
  },
  {
   "cell_type": "code",
   "execution_count": null,
   "id": "a3b1517c-7a94-4f9a-9778-735adb97e196",
   "metadata": {},
   "outputs": [],
   "source": [
    "class PythonEnv:\n",
    "\n",
    "    def __init__(self):\n",
    "        self.engine = \"pip\"\n",
    "\n",
    "    def install(self, pkg):\n",
    "        print(f\"{self.engine} install {pkg}\")\n",
    "\n",
    "\n",
    "pe = PythonEnv()\n",
    "pe.install(\"numpy\")"
   ]
  },
  {
   "cell_type": "markdown",
   "id": "0e35ba86-b145-4877-b2af-a08669592413",
   "metadata": {},
   "source": [
    "Q: 重写类 `PythonEnv`, 将其 `install` 方法改成类方法"
   ]
  },
  {
   "cell_type": "code",
   "execution_count": null,
   "id": "a6fb7839-a889-432a-85c3-6a5cd7ef2919",
   "metadata": {},
   "outputs": [],
   "source": [
    "class PythonEnv2:\n",
    "    pass\n",
    "\n",
    "\n",
    "PythonEnv2.install(\"numpy\")"
   ]
  },
  {
   "cell_type": "markdown",
   "id": "cd2feb64-c876-4b6c-a473-fb9f7a483f76",
   "metadata": {},
   "source": [
    "## 8.2 staticmethod"
   ]
  },
  {
   "cell_type": "markdown",
   "id": "4532303c-4e2d-45f8-a4fd-8e7ee9ea32b5",
   "metadata": {},
   "source": [
    "Q: 补充定义 Math 类的静态方法"
   ]
  },
  {
   "cell_type": "code",
   "execution_count": null,
   "id": "080360be-5581-4456-aeda-3f0a39ea8751",
   "metadata": {},
   "outputs": [],
   "source": [
    "class Math:\n",
    "\n",
    "    @staticmethod\n",
    "    def mean(xs):\n",
    "        pass\n",
    "\n",
    "    @staticmethod\n",
    "    def median(xs):\n",
    "        pass\n",
    "\n",
    "\n",
    "print(Math.mean([2, 3, 1]))\n",
    "print(Math.median([2, 3, 4, 1]))"
   ]
  },
  {
   "cell_type": "markdown",
   "id": "525cd1d2-e9c5-4a7d-bf4d-a637d37ffbd1",
   "metadata": {},
   "source": [
    "## 8.3 继承"
   ]
  },
  {
   "cell_type": "markdown",
   "id": "e341ded0-9bfb-4287-b5bb-8e522ed09371",
   "metadata": {},
   "source": [
    "Q: 完善类 `CondaEnv`, 使其:\n",
    "- `install` 方法可以输出 `conda install <pkg>`\n",
    "- `create` 方法可以输出 `conda create -n <name>`"
   ]
  },
  {
   "cell_type": "code",
   "execution_count": null,
   "id": "8284e3a6-23bc-4cda-8cb1-3a6f5b0b9944",
   "metadata": {},
   "outputs": [],
   "source": [
    "class CondaEnv(PythonEnv):\n",
    "    pass\n",
    "\n",
    "\n",
    "ce = CondaEnv()\n",
    "ce.install(\"numpy\")\n",
    "ce.create(\"cs112\")"
   ]
  }
 ],
 "metadata": {
  "kernelspec": {
   "display_name": "Python 3 (ipykernel)",
   "language": "python",
   "name": "python3"
  },
  "language_info": {
   "codemirror_mode": {
    "name": "ipython",
    "version": 3
   },
   "file_extension": ".py",
   "mimetype": "text/x-python",
   "name": "python",
   "nbconvert_exporter": "python",
   "pygments_lexer": "ipython3",
   "version": "3.8.15"
  }
 },
 "nbformat": 4,
 "nbformat_minor": 5
}
