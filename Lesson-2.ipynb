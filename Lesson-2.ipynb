{
 "cells": [
  {
   "cell_type": "markdown",
   "id": "d05c9339-a5df-44d6-8048-e2d7e0d60ea9",
   "metadata": {},
   "source": [
    "## 3.2 列表"
   ]
  },
  {
   "cell_type": "code",
   "execution_count": 1,
   "id": "2de64bee-2e75-4f21-b53c-9e2b7a0480b9",
   "metadata": {},
   "outputs": [
    {
     "name": "stdout",
     "output_type": "stream",
     "text": [
      "['a', 'b', 'c', 'd']\n",
      "['0', '1', '2', '3', '4']\n"
     ]
    },
    {
     "data": {
      "text/plain": [
       "list"
      ]
     },
     "execution_count": 1,
     "metadata": {},
     "output_type": "execute_result"
    }
   ],
   "source": [
    "a = [\"a\", \"b\", \"c\", \"d\"]\n",
    "b = list(\"01234\")\n",
    "print(a)\n",
    "print(b)\n",
    "type(a)"
   ]
  },
  {
   "cell_type": "markdown",
   "id": "462023ab-3941-4ab8-a97d-c4bb19e1d04c",
   "metadata": {},
   "source": [
    "### for 循环"
   ]
  },
  {
   "cell_type": "code",
   "execution_count": 2,
   "id": "f54f98eb-cc76-4072-a4aa-257938017d13",
   "metadata": {},
   "outputs": [
    {
     "name": "stdout",
     "output_type": "stream",
     "text": [
      "a\n",
      "b\n",
      "c\n",
      "d\n"
     ]
    }
   ],
   "source": [
    "for i in a:\n",
    "    print(i)"
   ]
  },
  {
   "cell_type": "markdown",
   "id": "5ebdc32f-e089-443c-8503-f47e7d2ab818",
   "metadata": {},
   "source": [
    "### 拷贝"
   ]
  },
  {
   "cell_type": "code",
   "execution_count": 3,
   "id": "45bcc7ec-7f64-43de-ad4b-8b604ccb5660",
   "metadata": {},
   "outputs": [
    {
     "name": "stdout",
     "output_type": "stream",
     "text": [
      "['a', 'b', 'c', 'd', 'e']\n",
      "['a', 'b', 'c', 'd', 'e']\n"
     ]
    }
   ],
   "source": [
    "a = list(\"abcde\")\n",
    "b = a\n",
    "print(a)\n",
    "print(b)"
   ]
  },
  {
   "cell_type": "code",
   "execution_count": 4,
   "id": "cf6ae0d0-6beb-4313-9223-aa287b0bfa23",
   "metadata": {},
   "outputs": [
    {
     "name": "stdout",
     "output_type": "stream",
     "text": [
      "['a', 1, 'c', 'd', 'e']\n",
      "['a', 1, 'c', 'd', 'e']\n"
     ]
    }
   ],
   "source": [
    "b[1] = 1\n",
    "print(a)\n",
    "print(b)"
   ]
  },
  {
   "cell_type": "code",
   "execution_count": 5,
   "id": "bd8e1d33-a892-4739-a950-3634287ed7b8",
   "metadata": {},
   "outputs": [
    {
     "name": "stdout",
     "output_type": "stream",
     "text": [
      "['a', 1, 'c', 'd', 'e']\n",
      "['a', 1, 2, 'd', 'e']\n"
     ]
    }
   ],
   "source": [
    "b = a[:]\n",
    "b[2] = 2\n",
    "print(a)\n",
    "print(b)"
   ]
  },
  {
   "cell_type": "code",
   "execution_count": 6,
   "id": "97a72f1b-d7f1-4a04-981e-1240335ed3f9",
   "metadata": {},
   "outputs": [
    {
     "name": "stdout",
     "output_type": "stream",
     "text": [
      "['a', 1, 'c', 'd', 'e']\n",
      "['a', 1, 'c', 3, 'e']\n"
     ]
    }
   ],
   "source": [
    "b = a.copy()\n",
    "b[3] = 3\n",
    "print(a)\n",
    "print(b)"
   ]
  },
  {
   "cell_type": "markdown",
   "id": "c3bd0337-9859-43b9-b559-66b1166637b9",
   "metadata": {},
   "source": [
    "### append"
   ]
  },
  {
   "cell_type": "code",
   "execution_count": 7,
   "id": "e8dabb17-582f-44be-aeeb-5213177620e0",
   "metadata": {},
   "outputs": [
    {
     "name": "stdout",
     "output_type": "stream",
     "text": [
      "Help on method_descriptor:\n",
      "\n",
      "append(self, object, /)\n",
      "    Append object to the end of the list.\n",
      "\n"
     ]
    }
   ],
   "source": [
    "help(list.append)"
   ]
  },
  {
   "cell_type": "code",
   "execution_count": 8,
   "id": "1ac4ff80-486a-4ddd-9cfc-3e053680a2d1",
   "metadata": {},
   "outputs": [
    {
     "data": {
      "text/plain": [
       "['a', 1, 'c', 'd', 'e', [1, 'c']]"
      ]
     },
     "execution_count": 8,
     "metadata": {},
     "output_type": "execute_result"
    }
   ],
   "source": [
    "a.append(a[1:3])\n",
    "a"
   ]
  },
  {
   "cell_type": "code",
   "execution_count": 9,
   "id": "b666665e-6d47-4c37-83ef-50626784e9ef",
   "metadata": {},
   "outputs": [
    {
     "data": {
      "text/plain": [
       "['a', 1, 'c', 'd', 'e', [1, 'c'], <method 'append' of 'list' objects>]"
      ]
     },
     "execution_count": 9,
     "metadata": {},
     "output_type": "execute_result"
    }
   ],
   "source": [
    "a.append(list.append)\n",
    "a"
   ]
  },
  {
   "cell_type": "markdown",
   "id": "39c30432-e1ce-48e9-8de8-e5f8379cbca4",
   "metadata": {},
   "source": [
    "### pop"
   ]
  },
  {
   "cell_type": "code",
   "execution_count": 10,
   "id": "611621b8-1dd1-4726-bb2a-166f11b14988",
   "metadata": {},
   "outputs": [
    {
     "data": {
      "text/plain": [
       "['a', 1, 'c', 'd', 'e', [1, 'c']]"
      ]
     },
     "execution_count": 10,
     "metadata": {},
     "output_type": "execute_result"
    }
   ],
   "source": [
    "a.pop()\n",
    "a"
   ]
  },
  {
   "cell_type": "code",
   "execution_count": 11,
   "id": "c72e4c5f-8e38-4e1e-9241-bf52c1af2bd2",
   "metadata": {},
   "outputs": [
    {
     "name": "stdout",
     "output_type": "stream",
     "text": [
      "a\n"
     ]
    },
    {
     "data": {
      "text/plain": [
       "[1, 'c', 'd', 'e', [1, 'c']]"
      ]
     },
     "execution_count": 11,
     "metadata": {},
     "output_type": "execute_result"
    }
   ],
   "source": [
    "print(a.pop(0))\n",
    "a"
   ]
  },
  {
   "cell_type": "markdown",
   "id": "cd8f2357-b129-4042-8c6b-f569f0d1c687",
   "metadata": {},
   "source": [
    "Q: 删除第 2, 4 个元素"
   ]
  },
  {
   "cell_type": "code",
   "execution_count": null,
   "id": "f46896ad-6ae6-4bcc-acf7-0eb0052dd617",
   "metadata": {},
   "outputs": [],
   "source": []
  },
  {
   "cell_type": "markdown",
   "id": "9d12493a-91bd-4ec4-b40f-5a7f161daf4a",
   "metadata": {},
   "source": [
    "![](data/list.png)"
   ]
  },
  {
   "cell_type": "markdown",
   "id": "3d607d33-f068-44c1-99b8-494b836899ff",
   "metadata": {},
   "source": [
    "## 3.3 元组"
   ]
  },
  {
   "cell_type": "code",
   "execution_count": 12,
   "id": "05297c8f-5e4c-4bc0-ab48-50e96c03f9a5",
   "metadata": {},
   "outputs": [
    {
     "name": "stdout",
     "output_type": "stream",
     "text": [
      "['0', '1', '2', '3', '4']\n",
      "('0', '1', '2', '3', '4')\n"
     ]
    }
   ],
   "source": [
    "a = list(\"01234\")\n",
    "b = tuple(a)\n",
    "print(a)\n",
    "print(b)"
   ]
  },
  {
   "cell_type": "code",
   "execution_count": 13,
   "id": "91e431ca-6979-43b7-a5c2-1fabba0992e6",
   "metadata": {},
   "outputs": [
    {
     "name": "stdout",
     "output_type": "stream",
     "text": [
      "(1,)\n",
      "(1,)\n",
      "1\n"
     ]
    }
   ],
   "source": [
    "c = (1,)\n",
    "d = 1,\n",
    "e = (1)\n",
    "print(c)\n",
    "print(d)\n",
    "print(e)"
   ]
  },
  {
   "cell_type": "code",
   "execution_count": 14,
   "id": "83c87355-1022-4dd3-b362-dad61fa0d2b9",
   "metadata": {},
   "outputs": [
    {
     "data": {
      "text/plain": [
       "(1, 2, 3)"
      ]
     },
     "execution_count": 14,
     "metadata": {},
     "output_type": "execute_result"
    }
   ],
   "source": [
    "1, 2, 3"
   ]
  },
  {
   "cell_type": "markdown",
   "id": "e7d18cbc-d1fc-4287-8bb9-8a0965d56f6b",
   "metadata": {},
   "source": [
    "### 不可变性"
   ]
  },
  {
   "cell_type": "code",
   "execution_count": 15,
   "id": "b9962423-465d-4397-9b73-34de6b163369",
   "metadata": {},
   "outputs": [
    {
     "ename": "TypeError",
     "evalue": "'tuple' object does not support item assignment",
     "output_type": "error",
     "traceback": [
      "\u001b[1;31m---------------------------------------------------------------------------\u001b[0m",
      "\u001b[1;31mTypeError\u001b[0m                                 Traceback (most recent call last)",
      "Cell \u001b[1;32mIn[15], line 1\u001b[0m\n\u001b[1;32m----> 1\u001b[0m \u001b[43mb\u001b[49m\u001b[43m[\u001b[49m\u001b[38;5;241;43m1\u001b[39;49m\u001b[43m]\u001b[49m \u001b[38;5;241m=\u001b[39m \u001b[38;5;124m\"\u001b[39m\u001b[38;5;124ms\u001b[39m\u001b[38;5;124m\"\u001b[39m\n",
      "\u001b[1;31mTypeError\u001b[0m: 'tuple' object does not support item assignment"
     ]
    }
   ],
   "source": [
    "b[1] = \"s\""
   ]
  },
  {
   "cell_type": "code",
   "execution_count": 16,
   "id": "47da4263-0662-4ef5-9471-78668aed1e36",
   "metadata": {},
   "outputs": [
    {
     "ename": "AttributeError",
     "evalue": "'tuple' object has no attribute 'append'",
     "output_type": "error",
     "traceback": [
      "\u001b[1;31m---------------------------------------------------------------------------\u001b[0m",
      "\u001b[1;31mAttributeError\u001b[0m                            Traceback (most recent call last)",
      "Cell \u001b[1;32mIn[16], line 1\u001b[0m\n\u001b[1;32m----> 1\u001b[0m \u001b[43mb\u001b[49m\u001b[38;5;241;43m.\u001b[39;49m\u001b[43mappend\u001b[49m(\u001b[38;5;241m2\u001b[39m)\n",
      "\u001b[1;31mAttributeError\u001b[0m: 'tuple' object has no attribute 'append'"
     ]
    }
   ],
   "source": [
    "b.append(2)"
   ]
  },
  {
   "cell_type": "markdown",
   "id": "e14207e5-254f-4d66-8525-07b22f4b1636",
   "metadata": {},
   "source": [
    "Q: 列表和元组各有什么优势 ?"
   ]
  },
  {
   "cell_type": "markdown",
   "id": "c53ea203-d6df-457c-aa09-aca6a91e6296",
   "metadata": {},
   "source": [
    "![](data/tuple.png)"
   ]
  },
  {
   "cell_type": "markdown",
   "id": "f4fbfa27-1290-4ef8-b281-ed593e3c299b",
   "metadata": {},
   "source": [
    "## 3.4 集合"
   ]
  },
  {
   "cell_type": "code",
   "execution_count": 17,
   "id": "c40a5829-0adc-46f9-89cd-888928dbca67",
   "metadata": {},
   "outputs": [
    {
     "name": "stdout",
     "output_type": "stream",
     "text": [
      "<class 'set'>\n",
      "{1, 2, 5}\n"
     ]
    }
   ],
   "source": [
    "a = {1, 5, 1, 2}\n",
    "print(type(a))\n",
    "print(a)"
   ]
  },
  {
   "cell_type": "code",
   "execution_count": 18,
   "id": "e02d957f-b57c-49b1-9a83-839bab667352",
   "metadata": {},
   "outputs": [
    {
     "name": "stdout",
     "output_type": "stream",
     "text": [
      "set()\n",
      "{}\n",
      "<class 'set'> <class 'dict'>\n"
     ]
    }
   ],
   "source": [
    "# 声明空集\n",
    "a = set()\n",
    "b = {}\n",
    "print(a)\n",
    "print(b)\n",
    "print(type(a), type(b))"
   ]
  },
  {
   "cell_type": "markdown",
   "id": "a97ee4f7-4e3c-49be-9109-49b6ac2d454a",
   "metadata": {},
   "source": [
    "### issubset / issuperset"
   ]
  },
  {
   "cell_type": "code",
   "execution_count": 19,
   "id": "b0363a96-7928-457e-b498-3bf06d60ee9d",
   "metadata": {},
   "outputs": [],
   "source": [
    "x = {3, 8}\n",
    "y = {3, 5, 8, 9}"
   ]
  },
  {
   "cell_type": "code",
   "execution_count": 20,
   "id": "4510ca7a-2d54-41b1-8115-4a5e83cc6688",
   "metadata": {},
   "outputs": [
    {
     "name": "stdout",
     "output_type": "stream",
     "text": [
      "True\n",
      "False\n"
     ]
    }
   ],
   "source": [
    "print(x.issubset(y))\n",
    "print(y.issubset(x))"
   ]
  },
  {
   "cell_type": "code",
   "execution_count": 21,
   "id": "0d377a0a-cbb5-4fe1-b20b-a6fdb4e46d5c",
   "metadata": {},
   "outputs": [
    {
     "name": "stdout",
     "output_type": "stream",
     "text": [
      "False\n",
      "True\n"
     ]
    }
   ],
   "source": [
    "print(x.issuperset(y))\n",
    "print(y.issuperset(x))"
   ]
  },
  {
   "cell_type": "markdown",
   "id": "1b557a69-ace0-4367-8994-eaa4a507edb2",
   "metadata": {},
   "source": [
    "### 类型转换"
   ]
  },
  {
   "cell_type": "code",
   "execution_count": 22,
   "id": "21704cb4-14a1-4eb5-b705-a567508745f1",
   "metadata": {},
   "outputs": [
    {
     "name": "stdout",
     "output_type": "stream",
     "text": [
      "[8, 1, 2, 3]\n",
      "(8, 1, 2, 3)\n"
     ]
    }
   ],
   "source": [
    "x = {1, 2, 3, 8}\n",
    "print(list(x))\n",
    "print(tuple(x))"
   ]
  },
  {
   "cell_type": "code",
   "execution_count": 23,
   "id": "45268461-5403-403e-91ae-95bb21cfb3f8",
   "metadata": {},
   "outputs": [
    {
     "name": "stdout",
     "output_type": "stream",
     "text": [
      "{1, 2, 3}\n"
     ]
    }
   ],
   "source": [
    "x = [1, 2, 3, 2]\n",
    "print(set(x))"
   ]
  },
  {
   "cell_type": "markdown",
   "id": "5f6dbf58-c3b5-425c-b347-7b1b5d9a0603",
   "metadata": {},
   "source": [
    "### 符号运算"
   ]
  },
  {
   "cell_type": "code",
   "execution_count": 24,
   "id": "f9969f07-f67d-490b-868f-293c3fa456bb",
   "metadata": {},
   "outputs": [],
   "source": [
    "x = {1, 2, 3, 8}\n",
    "y = {3, 5, 8, 9}"
   ]
  },
  {
   "cell_type": "code",
   "execution_count": 25,
   "id": "da6c2ab7-c01c-4477-8acf-e4429cd021a3",
   "metadata": {},
   "outputs": [
    {
     "name": "stdout",
     "output_type": "stream",
     "text": [
      "x - y = {1, 2}\n",
      "y - x = {9, 5}\n"
     ]
    }
   ],
   "source": [
    "print(\"x - y =\", x - y)\n",
    "print(\"y - x =\", y - x)"
   ]
  },
  {
   "cell_type": "code",
   "execution_count": 26,
   "id": "e6e24680-a756-421e-bc32-7226dd1d8a73",
   "metadata": {},
   "outputs": [
    {
     "name": "stdout",
     "output_type": "stream",
     "text": [
      "x & y = {8, 3}\n",
      "x | y = {1, 2, 3, 5, 8, 9}\n",
      "x ^ y = {1, 2, 5, 9}\n"
     ]
    }
   ],
   "source": [
    "print(\"x & y =\", x & y)\n",
    "print(\"x | y =\", x | y)\n",
    "print(\"x ^ y =\", x ^ y)"
   ]
  },
  {
   "cell_type": "markdown",
   "id": "f8fcf78c-3142-47e3-b4aa-3104ac5115cf",
   "metadata": {},
   "source": [
    "Q: 使用代码验证 x&y + x^y == x|y"
   ]
  },
  {
   "cell_type": "code",
   "execution_count": 27,
   "id": "313b6c0b-1006-4bb2-bd68-3c8d7417376a",
   "metadata": {},
   "outputs": [
    {
     "ename": "TypeError",
     "evalue": "unsupported operand type(s) for +: 'set' and 'set'",
     "output_type": "error",
     "traceback": [
      "\u001b[1;31m---------------------------------------------------------------------------\u001b[0m",
      "\u001b[1;31mTypeError\u001b[0m                                 Traceback (most recent call last)",
      "Cell \u001b[1;32mIn[27], line 1\u001b[0m\n\u001b[1;32m----> 1\u001b[0m \u001b[38;5;28mprint\u001b[39m(\u001b[38;5;124m\"\u001b[39m\u001b[38;5;124mx&y + x^y == x|y: \u001b[39m\u001b[38;5;124m\"\u001b[39m, x\u001b[38;5;241m&\u001b[39m\u001b[43my\u001b[49m\u001b[43m \u001b[49m\u001b[38;5;241;43m+\u001b[39;49m\u001b[43m \u001b[49m\u001b[43mx\u001b[49m\u001b[38;5;241m^\u001b[39my \u001b[38;5;241m==\u001b[39m x\u001b[38;5;241m|\u001b[39my)\n",
      "\u001b[1;31mTypeError\u001b[0m: unsupported operand type(s) for +: 'set' and 'set'"
     ]
    }
   ],
   "source": [
    "print(\"x&y + x^y == x|y: \", x&y + x^y == x|y)"
   ]
  },
  {
   "cell_type": "markdown",
   "id": "c96a2945-a6c9-4993-a95f-d3894eccd660",
   "metadata": {},
   "source": [
    "## 3.5 可迭代类型"
   ]
  },
  {
   "cell_type": "code",
   "execution_count": 30,
   "id": "6c8abe2e-d5c3-417d-b8db-153b761adab8",
   "metadata": {
    "scrolled": true
   },
   "outputs": [
    {
     "name": "stdout",
     "output_type": "stream",
     "text": [
      "Help on class tuple in module builtins:\n",
      "\n",
      "class tuple(object)\n",
      " |  tuple(iterable=(), /)\n",
      " |  \n",
      " |  Built-in immutable sequence.\n",
      " |  \n",
      " |  If no argument is given, the constructor returns an empty tuple.\n",
      " |  If iterable is specified the tuple is initialized from iterable's items.\n",
      " |  \n",
      " |  If the argument is a tuple, the return value is the same object.\n",
      " |  \n",
      " |  Built-in subclasses:\n",
      " |      asyncgen_hooks\n",
      " |      UnraisableHookArgs\n",
      " |  \n",
      " |  Methods defined here:\n",
      " |  \n",
      " |  __add__(self, value, /)\n",
      " |      Return self+value.\n",
      " |  \n",
      " |  __contains__(self, key, /)\n",
      " |      Return key in self.\n",
      " |  \n",
      " |  __eq__(self, value, /)\n",
      " |      Return self==value.\n",
      " |  \n",
      " |  __ge__(self, value, /)\n",
      " |      Return self>=value.\n",
      " |  \n",
      " |  __getattribute__(self, name, /)\n",
      " |      Return getattr(self, name).\n",
      " |  \n",
      " |  __getitem__(self, key, /)\n",
      " |      Return self[key].\n",
      " |  \n",
      " |  __getnewargs__(self, /)\n",
      " |  \n",
      " |  __gt__(self, value, /)\n",
      " |      Return self>value.\n",
      " |  \n",
      " |  __hash__(self, /)\n",
      " |      Return hash(self).\n",
      " |  \n",
      " |  __iter__(self, /)\n",
      " |      Implement iter(self).\n",
      " |  \n",
      " |  __le__(self, value, /)\n",
      " |      Return self<=value.\n",
      " |  \n",
      " |  __len__(self, /)\n",
      " |      Return len(self).\n",
      " |  \n",
      " |  __lt__(self, value, /)\n",
      " |      Return self<value.\n",
      " |  \n",
      " |  __mul__(self, value, /)\n",
      " |      Return self*value.\n",
      " |  \n",
      " |  __ne__(self, value, /)\n",
      " |      Return self!=value.\n",
      " |  \n",
      " |  __repr__(self, /)\n",
      " |      Return repr(self).\n",
      " |  \n",
      " |  __rmul__(self, value, /)\n",
      " |      Return value*self.\n",
      " |  \n",
      " |  count(self, value, /)\n",
      " |      Return number of occurrences of value.\n",
      " |  \n",
      " |  index(self, value, start=0, stop=9223372036854775807, /)\n",
      " |      Return first index of value.\n",
      " |      \n",
      " |      Raises ValueError if the value is not present.\n",
      " |  \n",
      " |  ----------------------------------------------------------------------\n",
      " |  Static methods defined here:\n",
      " |  \n",
      " |  __new__(*args, **kwargs) from builtins.type\n",
      " |      Create and return a new object.  See help(type) for accurate signature.\n",
      "\n"
     ]
    }
   ],
   "source": [
    "help(tuple)"
   ]
  },
  {
   "cell_type": "code",
   "execution_count": 29,
   "id": "abeac2a4-72f8-4527-9f6c-dac45dd8be06",
   "metadata": {},
   "outputs": [
    {
     "ename": "TypeError",
     "evalue": "'int' object is not iterable",
     "output_type": "error",
     "traceback": [
      "\u001b[1;31m---------------------------------------------------------------------------\u001b[0m",
      "\u001b[1;31mTypeError\u001b[0m                                 Traceback (most recent call last)",
      "Cell \u001b[1;32mIn[29], line 1\u001b[0m\n\u001b[1;32m----> 1\u001b[0m \u001b[38;5;28;43miter\u001b[39;49m\u001b[43m(\u001b[49m\u001b[38;5;241;43m1\u001b[39;49m\u001b[43m)\u001b[49m\n",
      "\u001b[1;31mTypeError\u001b[0m: 'int' object is not iterable"
     ]
    }
   ],
   "source": [
    "iter(1)"
   ]
  },
  {
   "cell_type": "code",
   "execution_count": 61,
   "id": "320be475-51ef-4ad1-9862-aef4e4c3864d",
   "metadata": {},
   "outputs": [
    {
     "ename": "TypeError",
     "evalue": "'int' object is not iterable",
     "output_type": "error",
     "traceback": [
      "\u001b[1;31m---------------------------------------------------------------------------\u001b[0m",
      "\u001b[1;31mTypeError\u001b[0m                                 Traceback (most recent call last)",
      "Cell \u001b[1;32mIn[61], line 1\u001b[0m\n\u001b[1;32m----> 1\u001b[0m \u001b[38;5;28;43mtuple\u001b[39;49m\u001b[43m(\u001b[49m\u001b[38;5;241;43m1\u001b[39;49m\u001b[43m)\u001b[49m\n",
      "\u001b[1;31mTypeError\u001b[0m: 'int' object is not iterable"
     ]
    }
   ],
   "source": [
    "tuple(1)"
   ]
  },
  {
   "cell_type": "code",
   "execution_count": 67,
   "id": "2e5985fa-0f78-4597-bfe7-23a21866c387",
   "metadata": {},
   "outputs": [
    {
     "ename": "TypeError",
     "evalue": "'int' object is not iterable",
     "output_type": "error",
     "traceback": [
      "\u001b[1;31m---------------------------------------------------------------------------\u001b[0m",
      "\u001b[1;31mTypeError\u001b[0m                                 Traceback (most recent call last)",
      "Cell \u001b[1;32mIn[67], line 1\u001b[0m\n\u001b[1;32m----> 1\u001b[0m \u001b[38;5;28;01mfor\u001b[39;00m i \u001b[38;5;129;01min\u001b[39;00m \u001b[38;5;241m1\u001b[39m:\n\u001b[0;32m      2\u001b[0m     \u001b[38;5;28mprint\u001b[39m(i)\n",
      "\u001b[1;31mTypeError\u001b[0m: 'int' object is not iterable"
     ]
    }
   ],
   "source": [
    "for i in 1:\n",
    "    print(i)"
   ]
  },
  {
   "cell_type": "code",
   "execution_count": 28,
   "id": "8c76c623-8c68-4864-8e38-4826cf656c9f",
   "metadata": {},
   "outputs": [
    {
     "data": {
      "text/plain": [
       "(<str_iterator at 0x1c4cf9ffe80>,\n",
       " <list_iterator at 0x1c4cf98b520>,\n",
       " <tuple_iterator at 0x1c4cf98b7f0>,\n",
       " <set_iterator at 0x1c4cf3f66c0>)"
      ]
     },
     "execution_count": 28,
     "metadata": {},
     "output_type": "execute_result"
    }
   ],
   "source": [
    "s = \"13981\"\n",
    "l = list(s)\n",
    "t = tuple(s)\n",
    "e = set(s)\n",
    "\n",
    "iter(s), iter(l), iter(t), iter(e)"
   ]
  },
  {
   "cell_type": "code",
   "execution_count": 31,
   "id": "8f636288-b11a-4ea5-bcf4-c4f5e54e82ab",
   "metadata": {},
   "outputs": [
    {
     "data": {
      "text/plain": [
       "(('1', '3', '9', '8', '1'), ('1', '3', '9', '8', '1'), ('3', '1', '8', '9'))"
      ]
     },
     "execution_count": 31,
     "metadata": {},
     "output_type": "execute_result"
    }
   ],
   "source": [
    "tuple(s), tuple(l), tuple(e)"
   ]
  },
  {
   "cell_type": "markdown",
   "id": "a3f188c3-e699-4dbb-97f2-41e2295001bf",
   "metadata": {},
   "source": [
    "### 解包"
   ]
  },
  {
   "cell_type": "code",
   "execution_count": 65,
   "id": "d75c2f5a-5e68-4408-ac7c-b55cf0cce51e",
   "metadata": {},
   "outputs": [
    {
     "name": "stdout",
     "output_type": "stream",
     "text": [
      "[0, 1, 2, 3, 4]\n",
      "0 1 2 3 4\n",
      "0 1 2 3 4\n"
     ]
    }
   ],
   "source": [
    "exp = [0, 1, 2, 3, 4]\n",
    "print(exp)\n",
    "print(exp[0], exp[1], exp[2], exp[3], exp[4])\n",
    "print(*exp)"
   ]
  },
  {
   "cell_type": "code",
   "execution_count": 66,
   "id": "a855e56e-037b-422b-a659-f74235bf8240",
   "metadata": {},
   "outputs": [
    {
     "name": "stdout",
     "output_type": "stream",
     "text": [
      "0, 1, 2, 3, 4\n"
     ]
    }
   ],
   "source": [
    "print(*exp, sep=\", \")"
   ]
  },
  {
   "cell_type": "code",
   "execution_count": 34,
   "id": "91cac03d-95f0-4cc3-a4ce-3215923d5915",
   "metadata": {},
   "outputs": [
    {
     "name": "stdout",
     "output_type": "stream",
     "text": [
      "0\n",
      "[1, 2, 3, 4]\n"
     ]
    }
   ],
   "source": [
    "first, *other = exp\n",
    "print(first)\n",
    "print(other)"
   ]
  },
  {
   "cell_type": "markdown",
   "id": "388e5f60-28e8-449a-a34a-01ce2704f8aa",
   "metadata": {},
   "source": [
    "### max / min"
   ]
  },
  {
   "cell_type": "code",
   "execution_count": 35,
   "id": "7f661172-1009-4da8-9e2a-5a474e5fb48d",
   "metadata": {},
   "outputs": [
    {
     "name": "stdout",
     "output_type": "stream",
     "text": [
      "Help on built-in function max in module builtins:\n",
      "\n",
      "max(...)\n",
      "    max(iterable, *[, default=obj, key=func]) -> value\n",
      "    max(arg1, arg2, *args, *[, key=func]) -> value\n",
      "    \n",
      "    With a single iterable argument, return its biggest item. The\n",
      "    default keyword-only argument specifies an object to return if\n",
      "    the provided iterable is empty.\n",
      "    With two or more arguments, return the largest argument.\n",
      "\n"
     ]
    }
   ],
   "source": [
    "help(max)"
   ]
  },
  {
   "cell_type": "code",
   "execution_count": 36,
   "id": "8850a554-32a6-4709-b245-9d6ad7f73a40",
   "metadata": {},
   "outputs": [
    {
     "data": {
      "text/plain": [
       "('9', '9', '9', '9')"
      ]
     },
     "execution_count": 36,
     "metadata": {},
     "output_type": "execute_result"
    }
   ],
   "source": [
    "s = \"13981\"\n",
    "l = list(s)\n",
    "t = tuple(s)\n",
    "e = set(s)\n",
    "\n",
    "max(s), max(l), max(t), max(e)"
   ]
  },
  {
   "cell_type": "code",
   "execution_count": 37,
   "id": "21985dbf-f637-4d59-9205-55686187a265",
   "metadata": {},
   "outputs": [
    {
     "data": {
      "text/plain": [
       "('1', '1', '1', '1')"
      ]
     },
     "execution_count": 37,
     "metadata": {},
     "output_type": "execute_result"
    }
   ],
   "source": [
    "s = \"13981\"\n",
    "l = list(s)\n",
    "t = tuple(s)\n",
    "e = set(s)\n",
    "\n",
    "min(s), min(l), min(t), min(e)"
   ]
  },
  {
   "cell_type": "markdown",
   "id": "582b9a62-ffb8-4309-9ebd-630474ee6687",
   "metadata": {},
   "source": [
    "### len"
   ]
  },
  {
   "cell_type": "code",
   "execution_count": 38,
   "id": "da4c3e1e-a816-43cd-945b-022050433a59",
   "metadata": {},
   "outputs": [
    {
     "name": "stdout",
     "output_type": "stream",
     "text": [
      "Help on built-in function len in module builtins:\n",
      "\n",
      "len(obj, /)\n",
      "    Return the number of items in a container.\n",
      "\n"
     ]
    }
   ],
   "source": [
    "help(len)"
   ]
  },
  {
   "cell_type": "code",
   "execution_count": 39,
   "id": "e3d69385-e29a-4823-940b-aac2ae4abc4a",
   "metadata": {},
   "outputs": [
    {
     "data": {
      "text/plain": [
       "(5, 5, 5, 4)"
      ]
     },
     "execution_count": 39,
     "metadata": {},
     "output_type": "execute_result"
    }
   ],
   "source": [
    "s = \"13981\"\n",
    "l = list(s)\n",
    "t = tuple(s)\n",
    "e = set(s)\n",
    "\n",
    "len(s), len(l), len(t), len(e)"
   ]
  },
  {
   "cell_type": "markdown",
   "id": "0e5f8562-f5fe-457f-97b7-23a351ddab02",
   "metadata": {},
   "source": [
    "### sum"
   ]
  },
  {
   "cell_type": "code",
   "execution_count": 40,
   "id": "2d7856f9-49ee-4f82-aeac-ec4ed3e28453",
   "metadata": {},
   "outputs": [
    {
     "name": "stdout",
     "output_type": "stream",
     "text": [
      "Help on built-in function sum in module builtins:\n",
      "\n",
      "sum(iterable, /, start=0)\n",
      "    Return the sum of a 'start' value (default: 0) plus an iterable of numbers\n",
      "    \n",
      "    When the iterable is empty, return the start value.\n",
      "    This function is intended specifically for use with numeric values and may\n",
      "    reject non-numeric types.\n",
      "\n"
     ]
    }
   ],
   "source": [
    "help(sum)"
   ]
  },
  {
   "cell_type": "code",
   "execution_count": 41,
   "id": "95e097c7-f69d-4b75-9b22-6f9395fbb749",
   "metadata": {},
   "outputs": [
    {
     "name": "stdout",
     "output_type": "stream",
     "text": [
      "22\n"
     ]
    }
   ],
   "source": [
    "a = [1, 3, 9, 8, 1]\n",
    "print(sum(a))"
   ]
  },
  {
   "cell_type": "code",
   "execution_count": 42,
   "id": "3eb8e1ca-b3c2-4792-8309-3a529808bab9",
   "metadata": {},
   "outputs": [
    {
     "ename": "TypeError",
     "evalue": "unsupported operand type(s) for +: 'int' and 'str'",
     "output_type": "error",
     "traceback": [
      "\u001b[1;31m---------------------------------------------------------------------------\u001b[0m",
      "\u001b[1;31mTypeError\u001b[0m                                 Traceback (most recent call last)",
      "Cell \u001b[1;32mIn[42], line 2\u001b[0m\n\u001b[0;32m      1\u001b[0m a \u001b[38;5;241m=\u001b[39m [\u001b[38;5;124m\"\u001b[39m\u001b[38;5;124m1\u001b[39m\u001b[38;5;124m\"\u001b[39m, \u001b[38;5;124m\"\u001b[39m\u001b[38;5;124m3\u001b[39m\u001b[38;5;124m\"\u001b[39m, \u001b[38;5;124m\"\u001b[39m\u001b[38;5;124m9\u001b[39m\u001b[38;5;124m\"\u001b[39m, \u001b[38;5;124m\"\u001b[39m\u001b[38;5;124m8\u001b[39m\u001b[38;5;124m\"\u001b[39m, \u001b[38;5;124m\"\u001b[39m\u001b[38;5;124m1\u001b[39m\u001b[38;5;124m\"\u001b[39m]\n\u001b[1;32m----> 2\u001b[0m \u001b[38;5;28mprint\u001b[39m(\u001b[38;5;28;43msum\u001b[39;49m\u001b[43m(\u001b[49m\u001b[43ma\u001b[49m\u001b[43m)\u001b[49m)\n",
      "\u001b[1;31mTypeError\u001b[0m: unsupported operand type(s) for +: 'int' and 'str'"
     ]
    }
   ],
   "source": [
    "a = [\"1\", \"3\", \"9\", \"8\", \"1\"]\n",
    "print(sum(a))"
   ]
  },
  {
   "cell_type": "code",
   "execution_count": 43,
   "id": "f59c7f22-d80a-4003-a4fd-e2c3026fbd56",
   "metadata": {},
   "outputs": [
    {
     "ename": "SyntaxError",
     "evalue": "unexpected EOF while parsing (3826631033.py, line 3)",
     "output_type": "error",
     "traceback": [
      "\u001b[1;36m  Cell \u001b[1;32mIn[43], line 3\u001b[1;36m\u001b[0m\n\u001b[1;33m    print(sum((a, b))\u001b[0m\n\u001b[1;37m                     ^\u001b[0m\n\u001b[1;31mSyntaxError\u001b[0m\u001b[1;31m:\u001b[0m unexpected EOF while parsing\n"
     ]
    }
   ],
   "source": [
    "a = [\"1\", \"3\", \"9\", \"8\", \"1\"]\n",
    "b = [\"2\", \"4\"]\n",
    "print(sum((a, b))"
   ]
  },
  {
   "cell_type": "markdown",
   "id": "7c34c8aa-68d0-469a-b6f2-f881e7b247d0",
   "metadata": {},
   "source": [
    "### sorted"
   ]
  },
  {
   "cell_type": "code",
   "execution_count": 44,
   "id": "9edaeff3-66c5-4465-9f43-16be2b4abd56",
   "metadata": {},
   "outputs": [
    {
     "name": "stdout",
     "output_type": "stream",
     "text": [
      "Help on built-in function sorted in module builtins:\n",
      "\n",
      "sorted(iterable, /, *, key=None, reverse=False)\n",
      "    Return a new list containing all items from the iterable in ascending order.\n",
      "    \n",
      "    A custom key function can be supplied to customize the sort order, and the\n",
      "    reverse flag can be set to request the result in descending order.\n",
      "\n"
     ]
    }
   ],
   "source": [
    "help(sorted)"
   ]
  },
  {
   "cell_type": "code",
   "execution_count": 45,
   "id": "99dae9e8-ac6c-4eb3-b4c9-1dc3e39c3fff",
   "metadata": {},
   "outputs": [
    {
     "name": "stdout",
     "output_type": "stream",
     "text": [
      "{'3', '1', '8', '9'}\n",
      "['1', '3', '8', '9']\n"
     ]
    }
   ],
   "source": [
    "a = set(\"13981\")\n",
    "print(a)\n",
    "print(sorted(a))"
   ]
  },
  {
   "cell_type": "code",
   "execution_count": 46,
   "id": "2294f7aa-cca4-48b3-834d-bc1d630a17a0",
   "metadata": {},
   "outputs": [
    {
     "name": "stdout",
     "output_type": "stream",
     "text": [
      "[1, 3, 9, 8, 1]\n",
      "--- sorted ---\n",
      "[1, 1, 3, 8, 9]\n",
      "[1, 3, 9, 8, 1]\n",
      "--- list.sort ---\n",
      "None\n",
      "[1, 1, 3, 8, 9]\n"
     ]
    }
   ],
   "source": [
    "a = [1, 3, 9, 8, 1]\n",
    "print(a)\n",
    "print(\"--- sorted ---\")\n",
    "print(sorted(a))\n",
    "print(a)\n",
    "print(\"--- list.sort ---\")\n",
    "print(a.sort())\n",
    "print(a)"
   ]
  },
  {
   "cell_type": "markdown",
   "id": "d7c16bc4-32ea-4355-acd5-410bb51f72ce",
   "metadata": {},
   "source": [
    "### reversed"
   ]
  },
  {
   "cell_type": "code",
   "execution_count": 47,
   "id": "4aeb8585-1dc0-47a0-9de1-3fd5e70513fc",
   "metadata": {
    "scrolled": true
   },
   "outputs": [
    {
     "name": "stdout",
     "output_type": "stream",
     "text": [
      "Help on class reversed in module builtins:\n",
      "\n",
      "class reversed(object)\n",
      " |  reversed(sequence, /)\n",
      " |  \n",
      " |  Return a reverse iterator over the values of the given sequence.\n",
      " |  \n",
      " |  Methods defined here:\n",
      " |  \n",
      " |  __getattribute__(self, name, /)\n",
      " |      Return getattr(self, name).\n",
      " |  \n",
      " |  __iter__(self, /)\n",
      " |      Implement iter(self).\n",
      " |  \n",
      " |  __length_hint__(...)\n",
      " |      Private method returning an estimate of len(list(it)).\n",
      " |  \n",
      " |  __next__(self, /)\n",
      " |      Implement next(self).\n",
      " |  \n",
      " |  __reduce__(...)\n",
      " |      Return state information for pickling.\n",
      " |  \n",
      " |  __setstate__(...)\n",
      " |      Set state information for unpickling.\n",
      " |  \n",
      " |  ----------------------------------------------------------------------\n",
      " |  Static methods defined here:\n",
      " |  \n",
      " |  __new__(*args, **kwargs) from builtins.type\n",
      " |      Create and return a new object.  See help(type) for accurate signature.\n",
      "\n"
     ]
    }
   ],
   "source": [
    "help(reversed)"
   ]
  },
  {
   "cell_type": "code",
   "execution_count": 48,
   "id": "57e68142-c4df-4bdf-b37f-b3cb6cf2cdc8",
   "metadata": {},
   "outputs": [
    {
     "name": "stdout",
     "output_type": "stream",
     "text": [
      "[1, 3, 9, 8, 1]\n",
      "--- reversed ---\n",
      "<list_reverseiterator object at 0x000001C4CF98B430>\n",
      "(1, 8, 9, 3, 1)\n",
      "[1, 3, 9, 8, 1]\n",
      "--- list.reverse ---\n",
      "None\n",
      "[1, 8, 9, 3, 1]\n"
     ]
    }
   ],
   "source": [
    "a = [1, 3, 9, 8, 1]\n",
    "print(a)\n",
    "print(\"--- reversed ---\")\n",
    "print(reversed(a))\n",
    "print(tuple(reversed(a)))\n",
    "print(a)\n",
    "print(\"--- list.reverse ---\")\n",
    "print(a.reverse())\n",
    "print(a)"
   ]
  },
  {
   "cell_type": "markdown",
   "id": "94a38fa6-0e3c-4e52-b261-ab529516637e",
   "metadata": {},
   "source": [
    "![](data/iter_func.png)"
   ]
  },
  {
   "cell_type": "markdown",
   "id": "4852f281-7368-4f8d-bc37-d638b7285f03",
   "metadata": {},
   "source": [
    "## 3.6 字典"
   ]
  },
  {
   "cell_type": "code",
   "execution_count": 49,
   "id": "3562b712-7bb0-404e-8755-7757b937763e",
   "metadata": {},
   "outputs": [
    {
     "name": "stdout",
     "output_type": "stream",
     "text": [
      "<class 'dict'>\n"
     ]
    }
   ],
   "source": [
    "empty = {}\n",
    "print(type(empty))"
   ]
  },
  {
   "cell_type": "code",
   "execution_count": 50,
   "id": "e77ba0ef-12bb-4f4c-976b-bde8d7d81235",
   "metadata": {},
   "outputs": [
    {
     "name": "stdout",
     "output_type": "stream",
     "text": [
      "{'max': <built-in function max>, 'min': <built-in function min>, 'sum': <built-in function sum>}\n"
     ]
    }
   ],
   "source": [
    "agg_func = {\"max\": max, \"min\": min, \"sum\": sum}\n",
    "print(agg_func)"
   ]
  },
  {
   "cell_type": "code",
   "execution_count": 51,
   "id": "d66846c2-4374-410e-bfd0-9c58bd615e6e",
   "metadata": {},
   "outputs": [
    {
     "data": {
      "text/plain": [
       "<dict_keyiterator at 0x1c4cf88bc70>"
      ]
     },
     "execution_count": 51,
     "metadata": {},
     "output_type": "execute_result"
    }
   ],
   "source": [
    "iter(agg_func)"
   ]
  },
  {
   "cell_type": "markdown",
   "id": "a891fa0e-da03-47ea-9ae6-bf1d376b8773",
   "metadata": {},
   "source": [
    "### 拷贝"
   ]
  },
  {
   "cell_type": "code",
   "execution_count": 52,
   "id": "a84c577e-b308-47a6-873d-16ae59648497",
   "metadata": {},
   "outputs": [
    {
     "name": "stdout",
     "output_type": "stream",
     "text": [
      "{'max': <built-in function max>, 'min': <built-in function min>, 'sum': <built-in function sum>, 'len': <built-in function len>}\n",
      "{'max': <built-in function max>, 'min': <built-in function min>, 'sum': <built-in function sum>, 'len': <built-in function len>}\n"
     ]
    }
   ],
   "source": [
    "copy = agg_func\n",
    "copy[\"len\"] = len\n",
    "print(agg_func)\n",
    "print(copy)"
   ]
  },
  {
   "cell_type": "code",
   "execution_count": 53,
   "id": "88bc7566-53ee-45f2-8647-7c3e3ffdce30",
   "metadata": {},
   "outputs": [
    {
     "name": "stdout",
     "output_type": "stream",
     "text": [
      "{'max': <built-in function max>, 'min': <built-in function min>, 'sum': <built-in function sum>, 'len': <built-in function len>}\n",
      "{'max': <built-in function max>, 'min': <built-in function min>, 'sum': <built-in function sum>, 'len': <built-in function len>, 'all': <built-in function all>}\n"
     ]
    }
   ],
   "source": [
    "copy = agg_func.copy()\n",
    "copy[\"all\"] = all\n",
    "print(agg_func)\n",
    "print(copy)"
   ]
  },
  {
   "cell_type": "markdown",
   "id": "5dfc3999-759a-43bc-aa8a-550090c26ab3",
   "metadata": {},
   "source": [
    "### 运算"
   ]
  },
  {
   "cell_type": "code",
   "execution_count": 54,
   "id": "0fda54bb-b7e1-43ae-9aba-333a4283a3a9",
   "metadata": {},
   "outputs": [
    {
     "data": {
      "text/plain": [
       "True"
      ]
     },
     "execution_count": 54,
     "metadata": {},
     "output_type": "execute_result"
    }
   ],
   "source": [
    "\"max\" in agg_func"
   ]
  },
  {
   "cell_type": "code",
   "execution_count": 55,
   "id": "b68afa53-bed1-42aa-9488-47b6374120dc",
   "metadata": {},
   "outputs": [
    {
     "data": {
      "text/plain": [
       "False"
      ]
     },
     "execution_count": 55,
     "metadata": {},
     "output_type": "execute_result"
    }
   ],
   "source": [
    "max in agg_func"
   ]
  },
  {
   "cell_type": "code",
   "execution_count": 56,
   "id": "b070b000-25f3-49a3-8960-2617fb021a4e",
   "metadata": {},
   "outputs": [
    {
     "data": {
      "text/plain": [
       "['max', 'min', 'sum', 'len']"
      ]
     },
     "execution_count": 56,
     "metadata": {},
     "output_type": "execute_result"
    }
   ],
   "source": [
    "list(agg_func)"
   ]
  },
  {
   "cell_type": "markdown",
   "id": "6ec07b7a-8f15-409c-ba1d-2aed3477c76f",
   "metadata": {},
   "source": [
    "### 解包"
   ]
  },
  {
   "cell_type": "code",
   "execution_count": 57,
   "id": "16aab890-93ea-46b5-95dc-02a2275e9c0b",
   "metadata": {},
   "outputs": [
    {
     "name": "stdout",
     "output_type": "stream",
     "text": [
      "Help on built-in function print in module builtins:\n",
      "\n",
      "print(...)\n",
      "    print(value, ..., sep=' ', end='\\n', file=sys.stdout, flush=False)\n",
      "    \n",
      "    Prints the values to a stream, or to sys.stdout by default.\n",
      "    Optional keyword arguments:\n",
      "    file:  a file-like object (stream); defaults to the current sys.stdout.\n",
      "    sep:   string inserted between values, default a space.\n",
      "    end:   string appended after the last value, default a newline.\n",
      "    flush: whether to forcibly flush the stream.\n",
      "\n"
     ]
    }
   ],
   "source": [
    "help(print)"
   ]
  },
  {
   "cell_type": "code",
   "execution_count": 58,
   "id": "9eb5bcb6-05a5-4f1e-b82e-073f47dd53ea",
   "metadata": {},
   "outputs": [
    {
     "name": "stdout",
     "output_type": "stream",
     "text": [
      "max min sum len\n"
     ]
    }
   ],
   "source": [
    "print(*agg_func)"
   ]
  },
  {
   "cell_type": "code",
   "execution_count": 59,
   "id": "5a7c74ed-6372-43fe-807e-15dd0f84fc55",
   "metadata": {},
   "outputs": [
    {
     "name": "stdout",
     "output_type": "stream",
     "text": [
      "max, min, sum, len!\n",
      "max, min, sum, len!\n"
     ]
    }
   ],
   "source": [
    "kwargs = {\"sep\": \", \", \"end\": \"!\\n\"}\n",
    "\n",
    "print(*agg_func, **kwargs)\n",
    "print(*agg_func, sep=\", \", end=\"!\\n\")"
   ]
  },
  {
   "cell_type": "markdown",
   "id": "7e8284da-2e3b-48c0-b075-a824c89956bc",
   "metadata": {},
   "source": [
    "![](data/dict.png)"
   ]
  }
 ],
 "metadata": {
  "kernelspec": {
   "display_name": "Python 3 (ipykernel)",
   "language": "python",
   "name": "python3"
  },
  "language_info": {
   "codemirror_mode": {
    "name": "ipython",
    "version": 3
   },
   "file_extension": ".py",
   "mimetype": "text/x-python",
   "name": "python",
   "nbconvert_exporter": "python",
   "pygments_lexer": "ipython3",
   "version": "3.8.15"
  }
 },
 "nbformat": 4,
 "nbformat_minor": 5
}
