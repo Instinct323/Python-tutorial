{
 "cells": [
  {
   "cell_type": "markdown",
   "id": "c62f6487-2b77-4dbf-9bbf-d8c86d9945c3",
   "metadata": {},
   "source": [
    "## 4.6 异常类型"
   ]
  },
  {
   "cell_type": "markdown",
   "id": "349fe89d-9f4b-4fb1-b856-bdaf6d8d1297",
   "metadata": {},
   "source": [
    "### TypeError: 类型错误"
   ]
  },
  {
   "cell_type": "code",
   "execution_count": 1,
   "id": "fd1297dc-a7fb-4e19-9ca2-cac9838c09f1",
   "metadata": {},
   "outputs": [],
   "source": [
    "def __mul__(self, other):\n",
    "    if isinstance(other, SE3):\n",
    "        return SE3(self.R * other.R, self * other.t)\n",
    "    elif isinstance(other, Translation):\n",
    "        return Translation(*(self.R.as_matrix() @ other.t + self.t.t))\n",
    "    else:\n",
    "        raise TypeError(f\"Unsupported type: {type(other)}\")"
   ]
  },
  {
   "cell_type": "markdown",
   "id": "42981364-f73f-4972-a984-c7038339f875",
   "metadata": {},
   "source": [
    "### NotImplementedError: 代码未实现"
   ]
  },
  {
   "cell_type": "code",
   "execution_count": 2,
   "id": "f1a79bf9-11e9-48a9-b9bf-20cc4663a4ea",
   "metadata": {},
   "outputs": [],
   "source": [
    "def clean():\n",
    "    if os.name == \"nt\":\n",
    "        cache = USERPATH / \"AppData\" / \"Local\" / \"pip\" / \"cache\"\n",
    "        shutil.rmtree(cache, ignore_errors=True)\n",
    "    else:\n",
    "        raise NotImplementedError"
   ]
  },
  {
   "cell_type": "markdown",
   "id": "4bcb5526-c0d1-419c-a18f-5db35b3e7c0c",
   "metadata": {},
   "source": [
    "### RuntimeError: 运行时的错误"
   ]
  },
  {
   "cell_type": "code",
   "execution_count": 3,
   "id": "a7fbbf24-b711-491e-a515-68804abda588",
   "metadata": {},
   "outputs": [],
   "source": [
    "def check_src(mark=\"if typecode in ('BINARY', 'EXTENSION'):\"):\n",
    "    from pathlib import Path\n",
    "    from PyInstaller.building import api\n",
    "    file = Path(api.__file__)\n",
    "\n",
    "    with file.open(\"r\") as f:\n",
    "        lines = f.readlines()\n",
    "        for i in range(len(lines)):\n",
    "            # 查找代码的插入位置\n",
    "            if lines[i].strip() == mark:\n",
    "                # 查找是否已插入代码\n",
    "                for j in range(i + 1, i + 10):\n",
    "                    if \"getattr(EXE, 'my_exclude', [])\" in lines[j]: return True\n",
    "\n",
    "                # 未插入代码\n",
    "                sep = \"-\" * 15\n",
    "                content = [rf\"{i + 1:<8d}{mark}\",\n",
    "                           rf\"{i + 2:<12d}# {sep} ↓ INSERT ↓ {sep}\",\n",
    "                           rf\"{i + 3:<12d}if dest_name.replace('\\\\', '/') in getattr(EXE, 'my_exclude', []):\",\n",
    "                           rf\"{i + 4:<16d}print('Skip:', dest_name)\",\n",
    "                           rf\"{i + 5:<16d}continue\",\n",
    "                           rf\"{i + 6:<12d}# {sep} ↑ INSERT ↑ {sep}\"]\n",
    "                content = \"\\n\".join(content)\n",
    "                # 输出路径链接\n",
    "                raise RuntimeError(f\"Please modify source code first\\n\\n\"\n",
    "                                   f\"File \\\"{file}\\\", line {i + 1}\\n\\n\" + content)\n",
    "\n",
    "    # 版本要求: 5.8.0 以上\n",
    "    import PyInstaller\n",
    "    raise RuntimeError(f\"Fail to solve PyInstaller {PyInstaller.__version__}\")"
   ]
  },
  {
   "cell_type": "markdown",
   "id": "9c7fa26d-e293-4b1f-ab31-ce7afad475d7",
   "metadata": {},
   "source": [
    "![](data/exception.png)"
   ]
  },
  {
   "cell_type": "markdown",
   "id": "2ddc075e-1799-48b1-aa66-1b72bc3611f6",
   "metadata": {},
   "source": [
    "# 5 文件读写"
   ]
  },
  {
   "cell_type": "markdown",
   "id": "809b0741-2c2f-462c-8c5f-cf9ed2bec8f0",
   "metadata": {},
   "source": [
    "## 5.1 文本文件"
   ]
  },
  {
   "cell_type": "code",
   "execution_count": null,
   "id": "e5caa34d-037b-42c8-8524-4a051be40d63",
   "metadata": {
    "scrolled": true
   },
   "outputs": [],
   "source": [
    "help(open)"
   ]
  },
  {
   "cell_type": "markdown",
   "id": "9f56ddb8-f483-49ae-af95-66bd70865396",
   "metadata": {},
   "source": [
    "![](data/file.png)"
   ]
  },
  {
   "cell_type": "code",
   "execution_count": 5,
   "id": "69a5a305-187b-4f86-9d15-5fe9efd43563",
   "metadata": {},
   "outputs": [
    {
     "name": "stdout",
     "output_type": "stream",
     "text": [
      "<_io.TextIOWrapper name='.gitignore' mode='r' encoding='cp936'>\n"
     ]
    }
   ],
   "source": [
    "file = open(\".gitignore\")    # 相对路径\n",
    "print(file)"
   ]
  },
  {
   "cell_type": "code",
   "execution_count": 6,
   "id": "7feac6f5-e543-4e01-a927-acca1dd65cfa",
   "metadata": {},
   "outputs": [
    {
     "data": {
      "text/plain": [
       "'r'"
      ]
     },
     "execution_count": 6,
     "metadata": {},
     "output_type": "execute_result"
    }
   ],
   "source": [
    "file.mode"
   ]
  },
  {
   "cell_type": "code",
   "execution_count": 7,
   "id": "513fe638-3cdd-4950-9250-4f507a7f2347",
   "metadata": {},
   "outputs": [
    {
     "data": {
      "text/plain": [
       "'.gitignore'"
      ]
     },
     "execution_count": 7,
     "metadata": {},
     "output_type": "execute_result"
    }
   ],
   "source": [
    "file.name"
   ]
  },
  {
   "cell_type": "code",
   "execution_count": 8,
   "id": "769cc94d-4749-4a33-9f1e-257604768545",
   "metadata": {},
   "outputs": [
    {
     "data": {
      "text/plain": [
       "False"
      ]
     },
     "execution_count": 8,
     "metadata": {},
     "output_type": "execute_result"
    }
   ],
   "source": [
    "file.closed"
   ]
  },
  {
   "cell_type": "code",
   "execution_count": 9,
   "id": "490a1780-f3cf-41b1-92a1-ed78fbb9cda1",
   "metadata": {},
   "outputs": [
    {
     "name": "stdout",
     "output_type": "stream",
     "text": [
      "~$*.*\n",
      "\n",
      "# Byte-compiled / optimized / DLL files\n",
      "__pycache__\n",
      "__openvino_cache__\n",
      "*test*\n",
      "\n",
      "# Jupyter Note\n"
     ]
    }
   ],
   "source": [
    "print(file.read(100))"
   ]
  },
  {
   "cell_type": "code",
   "execution_count": 10,
   "id": "82a2d1f4-f07d-402f-9764-92de903b72cd",
   "metadata": {},
   "outputs": [
    {
     "name": "stdout",
     "output_type": "stream",
     "text": [
      "book\n",
      ".ipynb_checkpoints\n",
      "\n",
      "# Environments\n",
      ".idea\n",
      "*.exe\n",
      "desktop.ini\n",
      ".clion.source.upload.marker\n",
      "\n"
     ]
    }
   ],
   "source": [
    "print(file.read())"
   ]
  },
  {
   "cell_type": "markdown",
   "id": "82e776c4-4071-4b24-89a4-d08252f97858",
   "metadata": {},
   "source": [
    "Q: 删除 .gitignore 时提示“操作无法完成，因为文件已在 Python 中打开”, 怎样解决？"
   ]
  },
  {
   "cell_type": "code",
   "execution_count": null,
   "id": "10fadf42-44e0-4c4a-a6ea-af750dd34f5a",
   "metadata": {},
   "outputs": [],
   "source": []
  },
  {
   "cell_type": "markdown",
   "id": "c382de35-9fd8-4090-a6cd-1b052c765a75",
   "metadata": {},
   "source": [
    "### with 语句"
   ]
  },
  {
   "cell_type": "code",
   "execution_count": 11,
   "id": "08d8645a-809a-4bd5-b766-c4fbc823e4f6",
   "metadata": {},
   "outputs": [
    {
     "name": "stdout",
     "output_type": "stream",
     "text": [
      "~$*.*\n",
      "\n",
      "# Byte-compiled / optimized / DLL files\n",
      "__pycache__\n",
      "__openvino_cache__\n",
      "*test*\n",
      "\n",
      "# Jupyter Notebook\n",
      ".ipynb_checkpoints\n",
      "\n",
      "# Environments\n",
      ".idea\n",
      "*.exe\n",
      "desktop.ini\n",
      ".clion.source.upload.marker\n",
      "\n",
      "文件已关闭？ True\n"
     ]
    }
   ],
   "source": [
    "with open(\".gitignore\") as f:\n",
    "    print(f.read())\n",
    "\n",
    "print(\"文件已关闭？\", f.closed)"
   ]
  },
  {
   "cell_type": "code",
   "execution_count": 12,
   "id": "db2737f4-257b-4796-b202-1bfef5475757",
   "metadata": {},
   "outputs": [
    {
     "name": "stdout",
     "output_type": "stream",
     "text": [
      "['~$*.*\\n', '\\n', '# Byte-compiled / optimized / DLL files\\n', '__pycache__\\n', '__openvino_cache__\\n', '*test*\\n', '\\n', '# Jupyter Notebook\\n', '.ipynb_checkpoints\\n', '\\n', '# Environments\\n', '.idea\\n', '*.exe\\n', 'desktop.ini\\n', '.clion.source.upload.marker\\n']\n"
     ]
    }
   ],
   "source": [
    "with open(\".gitignore\") as f:\n",
    "    print(f.readlines())"
   ]
  },
  {
   "cell_type": "markdown",
   "id": "d5d33679-2884-4c91-8cb4-9f89da1373de",
   "metadata": {},
   "source": [
    "Q: 逐行输出时, 每一行都多出了一个换行, 怎么解决?"
   ]
  },
  {
   "cell_type": "code",
   "execution_count": 13,
   "id": "f2a7c912-8732-4512-b054-74cc53069753",
   "metadata": {},
   "outputs": [
    {
     "name": "stdout",
     "output_type": "stream",
     "text": [
      "~$*.*\n",
      "\n",
      "\n",
      "\n",
      "# Byte-compiled / optimized / DLL files\n",
      "\n",
      "__pycache__\n",
      "\n",
      "__openvino_cache__\n",
      "\n",
      "*test*\n",
      "\n",
      "\n",
      "\n",
      "# Jupyter Notebook\n",
      "\n",
      ".ipynb_checkpoints\n",
      "\n",
      "\n",
      "\n",
      "# Environments\n",
      "\n",
      ".idea\n",
      "\n",
      "*.exe\n",
      "\n",
      "desktop.ini\n",
      "\n",
      ".clion.source.upload.marker\n",
      "\n"
     ]
    }
   ],
   "source": [
    "with open(\".gitignore\") as f:\n",
    "    for line in f:\n",
    "        print(line)"
   ]
  },
  {
   "cell_type": "markdown",
   "id": "d35cba29-5ea4-4a6f-93c4-c9257607db0a",
   "metadata": {},
   "source": [
    "Q: 解包输出时, 每一行的行首都多出了一个空格, 怎么解决?"
   ]
  },
  {
   "cell_type": "code",
   "execution_count": 14,
   "id": "a6c15664-0ddf-4f1d-bef1-e65fc4b66faa",
   "metadata": {},
   "outputs": [
    {
     "name": "stdout",
     "output_type": "stream",
     "text": [
      "~$*.*\n",
      " \n",
      " # Byte-compiled / optimized / DLL files\n",
      " __pycache__\n",
      " __openvino_cache__\n",
      " *test*\n",
      " \n",
      " # Jupyter Notebook\n",
      " .ipynb_checkpoints\n",
      " \n",
      " # Environments\n",
      " .idea\n",
      " *.exe\n",
      " desktop.ini\n",
      " .clion.source.upload.marker\n",
      "\n"
     ]
    }
   ],
   "source": [
    "with open(\".gitignore\") as f:\n",
    "    print(*f)"
   ]
  },
  {
   "cell_type": "markdown",
   "id": "18945708-45a5-43e9-9f1a-c9241f25205b",
   "metadata": {},
   "source": [
    "### utf-8"
   ]
  },
  {
   "cell_type": "code",
   "execution_count": 15,
   "id": "c91477c7-36cd-469f-8842-9a02f5162cf4",
   "metadata": {},
   "outputs": [
    {
     "ename": "UnicodeDecodeError",
     "evalue": "'gbk' codec can't decode byte 0xab in position 270: illegal multibyte sequence",
     "output_type": "error",
     "traceback": [
      "\u001b[1;31m---------------------------------------------------------------------------\u001b[0m",
      "\u001b[1;31mUnicodeDecodeError\u001b[0m                        Traceback (most recent call last)",
      "Cell \u001b[1;32mIn[15], line 2\u001b[0m\n\u001b[0;32m      1\u001b[0m \u001b[38;5;28;01mwith\u001b[39;00m \u001b[38;5;28mopen\u001b[39m(\u001b[38;5;124m\"\u001b[39m\u001b[38;5;124mdata/vspace.py\u001b[39m\u001b[38;5;124m\"\u001b[39m) \u001b[38;5;28;01mas\u001b[39;00m f:\n\u001b[1;32m----> 2\u001b[0m     \u001b[38;5;28mprint\u001b[39m(\u001b[43mf\u001b[49m\u001b[38;5;241;43m.\u001b[39;49m\u001b[43mread\u001b[49m\u001b[43m(\u001b[49m\u001b[43m)\u001b[49m)\n",
      "\u001b[1;31mUnicodeDecodeError\u001b[0m: 'gbk' codec can't decode byte 0xab in position 270: illegal multibyte sequence"
     ]
    }
   ],
   "source": [
    "with open(\"data/vspace.py\") as f:\n",
    "    print(f.read())"
   ]
  },
  {
   "cell_type": "code",
   "execution_count": null,
   "id": "ba94cad1-d0eb-4873-86e3-dd2ca36e8017",
   "metadata": {
    "scrolled": true
   },
   "outputs": [],
   "source": [
    "with open(\"data/vspace.py\", encoding=\"utf-8\") as f:\n",
    "    print(f.read())"
   ]
  },
  {
   "cell_type": "markdown",
   "id": "4ad8a3b2-6b7e-4c76-a81c-793562da77d6",
   "metadata": {},
   "source": [
    "Q: test.txt 中记录了助教对几门编程语言的熟悉程度 (表示为 0~100 的分数), 请输出评分在 80 以上的编程语言"
   ]
  },
  {
   "cell_type": "code",
   "execution_count": 31,
   "id": "0fdfea7a-6596-47c4-9c0f-0a576ba1a5a0",
   "metadata": {},
   "outputs": [
    {
     "name": "stdout",
     "output_type": "stream",
     "text": [
      "python\n",
      "c++\n"
     ]
    }
   ],
   "source": [
    "with open(\"data/test.txt\") as f:\n",
    "    for line in f:\n",
    "        line = line.split()\n",
    "        if line and int(line[-1]) >= 80:\n",
    "            print(line[0])"
   ]
  },
  {
   "cell_type": "markdown",
   "id": "053c7a81-d4eb-4a62-9e4b-73daadc539d3",
   "metadata": {},
   "source": [
    "### write / writelines"
   ]
  },
  {
   "cell_type": "code",
   "execution_count": 17,
   "id": "3c4cc9da-3304-4d58-8886-a17ff191ce54",
   "metadata": {},
   "outputs": [],
   "source": [
    "with open(\"test.txt\", mode=\"w\") as f:\n",
    "    f.write(\"aha\")"
   ]
  },
  {
   "cell_type": "code",
   "execution_count": 18,
   "id": "0e19cb72-6519-4b28-ac3d-dabbf31491d1",
   "metadata": {},
   "outputs": [],
   "source": [
    "with open(\"test.txt\", mode=\"w\") as f:\n",
    "    f.write(\"man\\nwhat can I say\")"
   ]
  },
  {
   "cell_type": "code",
   "execution_count": 19,
   "id": "c136f974-bba2-46d7-9bd6-7a58777d07dc",
   "metadata": {},
   "outputs": [
    {
     "ename": "FileExistsError",
     "evalue": "[Errno 17] File exists: 'test.txt'",
     "output_type": "error",
     "traceback": [
      "\u001b[1;31m---------------------------------------------------------------------------\u001b[0m",
      "\u001b[1;31mFileExistsError\u001b[0m                           Traceback (most recent call last)",
      "Cell \u001b[1;32mIn[19], line 1\u001b[0m\n\u001b[1;32m----> 1\u001b[0m \u001b[38;5;28;01mwith\u001b[39;00m \u001b[38;5;28;43mopen\u001b[39;49m\u001b[43m(\u001b[49m\u001b[38;5;124;43m\"\u001b[39;49m\u001b[38;5;124;43mtest.txt\u001b[39;49m\u001b[38;5;124;43m\"\u001b[39;49m\u001b[43m,\u001b[49m\u001b[43m \u001b[49m\u001b[43mmode\u001b[49m\u001b[38;5;241;43m=\u001b[39;49m\u001b[38;5;124;43m\"\u001b[39;49m\u001b[38;5;124;43mx\u001b[39;49m\u001b[38;5;124;43m\"\u001b[39;49m\u001b[43m)\u001b[49m \u001b[38;5;28;01mas\u001b[39;00m f:\n\u001b[0;32m      2\u001b[0m     f\u001b[38;5;241m.\u001b[39mwrite(\u001b[38;5;124m\"\u001b[39m\u001b[38;5;124maha\u001b[39m\u001b[38;5;124m\"\u001b[39m)\n",
      "File \u001b[1;32mD:\\Software\\Anaconda3\\envs\\torch2\\lib\\site-packages\\IPython\\core\\interactiveshell.py:284\u001b[0m, in \u001b[0;36m_modified_open\u001b[1;34m(file, *args, **kwargs)\u001b[0m\n\u001b[0;32m    277\u001b[0m \u001b[38;5;28;01mif\u001b[39;00m file \u001b[38;5;129;01min\u001b[39;00m {\u001b[38;5;241m0\u001b[39m, \u001b[38;5;241m1\u001b[39m, \u001b[38;5;241m2\u001b[39m}:\n\u001b[0;32m    278\u001b[0m     \u001b[38;5;28;01mraise\u001b[39;00m \u001b[38;5;167;01mValueError\u001b[39;00m(\n\u001b[0;32m    279\u001b[0m         \u001b[38;5;124mf\u001b[39m\u001b[38;5;124m\"\u001b[39m\u001b[38;5;124mIPython won\u001b[39m\u001b[38;5;124m'\u001b[39m\u001b[38;5;124mt let you open fd=\u001b[39m\u001b[38;5;132;01m{\u001b[39;00mfile\u001b[38;5;132;01m}\u001b[39;00m\u001b[38;5;124m by default \u001b[39m\u001b[38;5;124m\"\u001b[39m\n\u001b[0;32m    280\u001b[0m         \u001b[38;5;124m\"\u001b[39m\u001b[38;5;124mas it is likely to crash IPython. If you know what you are doing, \u001b[39m\u001b[38;5;124m\"\u001b[39m\n\u001b[0;32m    281\u001b[0m         \u001b[38;5;124m\"\u001b[39m\u001b[38;5;124myou can use builtins\u001b[39m\u001b[38;5;124m'\u001b[39m\u001b[38;5;124m open.\u001b[39m\u001b[38;5;124m\"\u001b[39m\n\u001b[0;32m    282\u001b[0m     )\n\u001b[1;32m--> 284\u001b[0m \u001b[38;5;28;01mreturn\u001b[39;00m \u001b[43mio_open\u001b[49m\u001b[43m(\u001b[49m\u001b[43mfile\u001b[49m\u001b[43m,\u001b[49m\u001b[43m \u001b[49m\u001b[38;5;241;43m*\u001b[39;49m\u001b[43margs\u001b[49m\u001b[43m,\u001b[49m\u001b[43m \u001b[49m\u001b[38;5;241;43m*\u001b[39;49m\u001b[38;5;241;43m*\u001b[39;49m\u001b[43mkwargs\u001b[49m\u001b[43m)\u001b[49m\n",
      "\u001b[1;31mFileExistsError\u001b[0m: [Errno 17] File exists: 'test.txt'"
     ]
    }
   ],
   "source": [
    "with open(\"test.txt\", mode=\"x\") as f:\n",
    "    f.write(\"aha\")"
   ]
  },
  {
   "cell_type": "code",
   "execution_count": 20,
   "id": "b603df64-7104-4577-9d4e-e9179308093c",
   "metadata": {},
   "outputs": [],
   "source": [
    "with open(\"test.txt\", mode=\"a\") as f:\n",
    "    f.write(\"\\n\\naha\")"
   ]
  },
  {
   "cell_type": "code",
   "execution_count": 21,
   "id": "6ab75aae-c0b8-4bc8-82ee-18bd49a0dbc8",
   "metadata": {},
   "outputs": [],
   "source": [
    "with open(\"test.txt\", mode=\"w\") as f:\n",
    "    f.writelines([\"1\", \"2\", \"3\"])"
   ]
  },
  {
   "cell_type": "markdown",
   "id": "bd8ed41f-7380-4ee7-9567-e298f3df50df",
   "metadata": {},
   "source": [
    "## 5.2 二进制文件"
   ]
  },
  {
   "cell_type": "code",
   "execution_count": 22,
   "id": "2f2eaba5-555f-4106-a269-3e40c919e02d",
   "metadata": {},
   "outputs": [
    {
     "name": "stdout",
     "output_type": "stream",
     "text": [
      "<class 'bytes'>\n",
      "b'\\xe6\\x88\\x91\\xe6\\x98\\xaf\\xe5\\xb0\\x8f\\xe6\\x98\\x8e\\xe7\\x9a\\x84\\xe6\\x9c\\x8b\\xe5\\x8f\\x8b'\n"
     ]
    }
   ],
   "source": [
    "b = \"我是小明的朋友\".encode(\"utf-8\")\n",
    "print(type(b))\n",
    "print(b)\n",
    "\n",
    "with open(\"test.bin\", mode=\"wb\") as f:\n",
    "    f.write(b)"
   ]
  },
  {
   "cell_type": "markdown",
   "id": "cabb69fa-3aea-484c-b424-d03035af3cdb",
   "metadata": {},
   "source": [
    "Q: 读取 test.bin, 利用 bytes.decode 将二进制串转化为字符串"
   ]
  },
  {
   "cell_type": "code",
   "execution_count": 23,
   "id": "25c9fa81-2f26-4378-a04c-397c0ac97d76",
   "metadata": {},
   "outputs": [
    {
     "name": "stdout",
     "output_type": "stream",
     "text": [
      "Help on method_descriptor:\n",
      "\n",
      "decode(self, /, encoding='utf-8', errors='strict')\n",
      "    Decode the bytes using the codec registered for encoding.\n",
      "    \n",
      "    encoding\n",
      "      The encoding with which to decode the bytes.\n",
      "    errors\n",
      "      The error handling scheme to use for the handling of decoding errors.\n",
      "      The default is 'strict' meaning that decoding errors raise a\n",
      "      UnicodeDecodeError. Other possible values are 'ignore' and 'replace'\n",
      "      as well as any other name registered with codecs.register_error that\n",
      "      can handle UnicodeDecodeErrors.\n",
      "\n"
     ]
    }
   ],
   "source": [
    "help(bytes.decode)"
   ]
  },
  {
   "cell_type": "code",
   "execution_count": null,
   "id": "b856dcfa-76e0-4fa4-a24d-848fc84ff620",
   "metadata": {},
   "outputs": [],
   "source": []
  },
  {
   "cell_type": "markdown",
   "id": "678202a0-8158-464c-9183-fe5b6b96e394",
   "metadata": {},
   "source": [
    "### pickle"
   ]
  },
  {
   "cell_type": "code",
   "execution_count": 24,
   "id": "3b533771-2951-4aa6-b6d1-e23f672a89c1",
   "metadata": {},
   "outputs": [],
   "source": [
    "import pickle"
   ]
  },
  {
   "cell_type": "code",
   "execution_count": 25,
   "id": "ae5fabfd-a42d-47a1-9644-52f660fdce34",
   "metadata": {},
   "outputs": [
    {
     "name": "stdout",
     "output_type": "stream",
     "text": [
      "[0, 1, 2, 3, 4]\n"
     ]
    }
   ],
   "source": [
    "obj = list(range(5))\n",
    "print(obj)\n",
    "\n",
    "with open(\"obj.bin\", \"wb\") as f:\n",
    "    pickle.dump(obj, f)"
   ]
  },
  {
   "cell_type": "code",
   "execution_count": 26,
   "id": "5f70eb72-ed76-43a8-8268-31c2c5490d90",
   "metadata": {},
   "outputs": [
    {
     "name": "stdout",
     "output_type": "stream",
     "text": [
      "b'\\x80\\x04\\x95\\x0f\\x00\\x00\\x00\\x00\\x00\\x00\\x00]\\x94(K\\x00K\\x01K\\x02K\\x03K\\x04e.'\n"
     ]
    }
   ],
   "source": [
    "with open(\"obj.bin\", \"rb\") as f:\n",
    "    print(f.read())"
   ]
  },
  {
   "cell_type": "code",
   "execution_count": 27,
   "id": "818a5515-500d-41fe-b9f7-402b507d8b9b",
   "metadata": {},
   "outputs": [
    {
     "name": "stdout",
     "output_type": "stream",
     "text": [
      "[0, 1, 2, 3, 4]\n"
     ]
    }
   ],
   "source": [
    "with open(\"obj.bin\", \"rb\") as f:\n",
    "    print(pickle.load(f))"
   ]
  },
  {
   "cell_type": "markdown",
   "id": "ea0d94ed-1a39-4aee-b7df-27f416a1c0ec",
   "metadata": {},
   "source": [
    "## 5.3 第三方库"
   ]
  },
  {
   "cell_type": "code",
   "execution_count": 28,
   "id": "6dfaeddd-f7f8-4912-a413-4a6b6a7de175",
   "metadata": {},
   "outputs": [
    {
     "ename": "ModuleNotFoundError",
     "evalue": "No module named 'rarfile'",
     "output_type": "error",
     "traceback": [
      "\u001b[1;31m---------------------------------------------------------------------------\u001b[0m",
      "\u001b[1;31mModuleNotFoundError\u001b[0m                       Traceback (most recent call last)",
      "Cell \u001b[1;32mIn[28], line 5\u001b[0m\n\u001b[0;32m      3\u001b[0m \u001b[38;5;28;01mfrom\u001b[39;00m \u001b[38;5;21;01mlxml\u001b[39;00m\u001b[38;5;21;01m.\u001b[39;00m\u001b[38;5;21;01metree\u001b[39;00m \u001b[38;5;28;01mimport\u001b[39;00m XML, HTML   \u001b[38;5;66;03m# *.xml, *.html\u001b[39;00m\n\u001b[0;32m      4\u001b[0m \u001b[38;5;28;01mimport\u001b[39;00m \u001b[38;5;21;01mzipfile\u001b[39;00m    \u001b[38;5;66;03m# *.zip\u001b[39;00m\n\u001b[1;32m----> 5\u001b[0m \u001b[38;5;28;01mimport\u001b[39;00m \u001b[38;5;21;01mrarfile\u001b[39;00m    \u001b[38;5;66;03m# *.rar\u001b[39;00m\n\u001b[0;32m      6\u001b[0m \u001b[38;5;28;01mimport\u001b[39;00m \u001b[38;5;21;01mpandas\u001b[39;00m \u001b[38;5;28;01mas\u001b[39;00m \u001b[38;5;21;01mpd\u001b[39;00m    \u001b[38;5;66;03m# 表格: *.xlsx, *.csv\u001b[39;00m\n\u001b[0;32m      7\u001b[0m \u001b[38;5;28;01mimport\u001b[39;00m \u001b[38;5;21;01mcv2\u001b[39;00m    \u001b[38;5;66;03m# 图像视频: *.jpg, *.png, *.mp4\u001b[39;00m\n",
      "\u001b[1;31mModuleNotFoundError\u001b[0m: No module named 'rarfile'"
     ]
    }
   ],
   "source": [
    "import json   # *.json\n",
    "import yaml   # *.yaml\n",
    "from lxml.etree import XML, HTML   # *.xml, *.html\n",
    "import zipfile    # *.zip\n",
    "import rarfile    # *.rar\n",
    "import pandas as pd    # 表格: *.xlsx, *.csv\n",
    "import cv2    # 图像视频: *.jpg, *.png, *.mp4"
   ]
  }
 ],
 "metadata": {
  "kernelspec": {
   "display_name": "Python 3 (ipykernel)",
   "language": "python",
   "name": "python3"
  },
  "language_info": {
   "codemirror_mode": {
    "name": "ipython",
    "version": 3
   },
   "file_extension": ".py",
   "mimetype": "text/x-python",
   "name": "python",
   "nbconvert_exporter": "python",
   "pygments_lexer": "ipython3",
   "version": "3.8.15"
  }
 },
 "nbformat": 4,
 "nbformat_minor": 5
}
