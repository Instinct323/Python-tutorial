{
 "cells": [
  {
   "cell_type": "markdown",
   "id": "beafd400-ac96-4d0f-8293-af2f9962bed4",
   "metadata": {},
   "source": [
    "# Example\n",
    "\n",
    "Read the input value x and output the root value of x\n",
    "\n",
    "|         | Input | Output |\n",
    "|:--------|:-----:|:------:|\n",
    "| 1       |  2   |   1.414    |\n",
    "| 2       |  3   |   1.732    |"
   ]
  },
  {
   "cell_type": "code",
   "execution_count": 1,
   "id": "2dbafffd-8acb-4a58-a549-4b96d8e2bdf7",
   "metadata": {},
   "outputs": [
    {
     "name": "stdin",
     "output_type": "stream",
     "text": [
      " 2\n"
     ]
    },
    {
     "name": "stdout",
     "output_type": "stream",
     "text": [
      "1.4142135623730951\n"
     ]
    },
    {
     "name": "stdin",
     "output_type": "stream",
     "text": [
      " 3\n"
     ]
    },
    {
     "name": "stdout",
     "output_type": "stream",
     "text": [
      "1.7320508075688772\n"
     ]
    }
   ],
   "source": [
    "def my_func():\n",
    "    x = int(input())\n",
    "    # !!!!! Write your code here !!!!!\n",
    "    print(x ** 0.5)\n",
    "\n",
    "\n",
    "# Copy input 1 and pass it into the 'input()'\n",
    "my_func()\n",
    "# Copy input 2 and pass it into the 'input()'\n",
    "my_func()"
   ]
  },
  {
   "cell_type": "markdown",
   "id": "9948e621-b0b9-449c-86df-9d43962eccc8",
   "metadata": {},
   "source": [
    "# Submission\n",
    "\n",
    "- \"Menu\" -> \"File\" -> \"Save and Export Notebook As\" -> \"HTML\""
   ]
  }
 ],
 "metadata": {
  "kernelspec": {
   "display_name": "Python 3 (ipykernel)",
   "language": "python",
   "name": "python3"
  },
  "language_info": {
   "codemirror_mode": {
    "name": "ipython",
    "version": 3
   },
   "file_extension": ".py",
   "mimetype": "text/x-python",
   "name": "python",
   "nbconvert_exporter": "python",
   "pygments_lexer": "ipython3",
   "version": "3.8.15"
  }
 },
 "nbformat": 4,
 "nbformat_minor": 5
}
