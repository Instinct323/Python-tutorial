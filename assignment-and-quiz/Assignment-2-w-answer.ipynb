{
 "cells": [
  {
   "cell_type": "markdown",
   "id": "8b114eef-3f35-4341-ac0f-6c7086540d3b",
   "metadata": {},
   "source": [
    "## 1. \n",
    "\n",
    "请编写一个python程序，第一行输入一个数`i`，第二行输入一系列数创建一个列表`ls`，如果在列表`ls`中存在`i`，输出`i`在列表`ls`的检索值，否则输出-1"
   ]
  },
  {
   "cell_type": "markdown",
   "id": "5f143794-7fb9-4be1-99e6-6c2d511770cb",
   "metadata": {},
   "source": [
    "|         | Input | Output |\n",
    "|:--------|:-----|:------:|\n",
    "| 1       |  10<br>1 2 3 4 5  |   -1    |\n",
    "| 2       |  7<br>3 5 7 9 11   |   2   |"
   ]
  },
  {
   "cell_type": "code",
   "execution_count": 1,
   "id": "7772ade6-66eb-4e55-b000-d487107fee98",
   "metadata": {},
   "outputs": [
    {
     "name": "stdin",
     "output_type": "stream",
     "text": [
      " 10\n",
      " 1 2 3 4 5\n"
     ]
    },
    {
     "name": "stdout",
     "output_type": "stream",
     "text": [
      "-1\n"
     ]
    },
    {
     "name": "stdin",
     "output_type": "stream",
     "text": [
      " 7\n",
      " 3 5 7 9 11\n"
     ]
    },
    {
     "name": "stdout",
     "output_type": "stream",
     "text": [
      "2\n"
     ]
    }
   ],
   "source": [
    "def my_func():\n",
    "    i = int(input())\n",
    "    ls = list(map(int, input().split()))\n",
    "    # Write your code here\n",
    "    try:\n",
    "        print(ls.index(i))\n",
    "    except:\n",
    "        print(-1)\n",
    "\n",
    "\n",
    "my_func()\n",
    "my_func()"
   ]
  },
  {
   "cell_type": "markdown",
   "id": "a10e37e6-725d-4747-b80b-0c0116b41822",
   "metadata": {},
   "source": [
    "## 2. \n",
    "\n",
    "18位身份证号码第7-10位为出生年份(四位数)，第11-12位为出生月份，第13-14位代表出生日期，第17位代表性别，奇数为男，偶数为女。请编写一个python程序，户输入一个合法的身份证号，请输出用户的出生年月日和性）"
   ]
  },
  {
   "cell_type": "markdown",
   "id": "e4a8ce7d-2015-4452-969f-d7f26e00c69b",
   "metadata": {},
   "source": [
    "|         | Input | Output |\n",
    "|:--------|:-----:|:------|\n",
    "| 1       |  110111199511111101  |   出生：1995年11月11日<br>性别：女    |\n",
    "| 2       |  110111200606051131  |   2006年06月05日<br>性别：男    |"
   ]
  },
  {
   "cell_type": "code",
   "execution_count": 2,
   "id": "3dcbdeee-1b1f-4261-b5b4-6ba72c7b4b0c",
   "metadata": {},
   "outputs": [
    {
     "name": "stdin",
     "output_type": "stream",
     "text": [
      " 110111199511111101\n"
     ]
    },
    {
     "name": "stdout",
     "output_type": "stream",
     "text": [
      "出生：1995年11月11日\n",
      "性别：女\n"
     ]
    },
    {
     "name": "stdin",
     "output_type": "stream",
     "text": [
      " 110111200606051131\n"
     ]
    },
    {
     "name": "stdout",
     "output_type": "stream",
     "text": [
      "出生：2006年06月05日\n",
      "性别：男\n"
     ]
    }
   ],
   "source": [
    "def my_func():\n",
    "    ID = input()\n",
    "    # Write your code here\n",
    "    print(f\"出生：{ID[6:10]}年{ID[10:12]}月{ID[12:14]}日\")\n",
    "    gender = \"女男\"[int(ID[16]) % 2]\n",
    "    print(f\"性别：{gender}\")\n",
    "\n",
    "\n",
    "my_func()\n",
    "my_func()"
   ]
  },
  {
   "cell_type": "markdown",
   "id": "871bc4cc-71aa-48e7-88b1-252df53f82ef",
   "metadata": {},
   "source": [
    "## 3.\n",
    "\n",
    "出租车收费标准，3公里以内13元，超过3公里不超过15公里的部分每公里2.3元，超过15公里的部分每公里价格为3-15公里收费价格的1.5倍。请编写一个python程序，输入里程数，输出车费。\n"
   ]
  },
  {
   "cell_type": "markdown",
   "id": "0a90de5f-38f7-4f11-a740-5da79007182e",
   "metadata": {},
   "source": [
    "|         | Input | Output |\n",
    "|:--------|:-----:|:------:|\n",
    "| 1       |  16  |   44    |\n",
    "| 2       |  14   |   38    |"
   ]
  },
  {
   "cell_type": "code",
   "execution_count": 3,
   "id": "3240ed91-9ead-4697-bf8e-d938df501336",
   "metadata": {},
   "outputs": [
    {
     "name": "stdin",
     "output_type": "stream",
     "text": [
      " 16\n"
     ]
    },
    {
     "name": "stdout",
     "output_type": "stream",
     "text": [
      "44\n"
     ]
    },
    {
     "name": "stdin",
     "output_type": "stream",
     "text": [
      " 14\n"
     ]
    },
    {
     "name": "stdout",
     "output_type": "stream",
     "text": [
      "38\n"
     ]
    }
   ],
   "source": [
    "def my_func():\n",
    "    distance = int(input())\n",
    "    # Write your code here\n",
    "    price = 13\n",
    "    # 超过 3 km 的部分\n",
    "    if distance > 3:\n",
    "        price += 2.3 * (distance - 3)\n",
    "    # 超过 15 km 的部分\n",
    "    if distance > 15:\n",
    "        price += 2.3 * 0.5 * (distance - 15)\n",
    "    print(int(price))\n",
    "\n",
    "\n",
    "my_func()\n",
    "my_func()"
   ]
  },
  {
   "cell_type": "markdown",
   "id": "a7ee2f74-3e9f-48ca-baa3-4de0c5480a25",
   "metadata": {},
   "source": [
    "## 4.\n",
    "\n",
    "请编写一个Python程序，读取附件data (注意data的存放位置)，依次输出 0 到 9 各个数字出现的次数\n",
    "\n",
    "tips：`csv.reader(textIO)`"
   ]
  },
  {
   "cell_type": "code",
   "execution_count": 4,
   "id": "552e6200-86fc-4abf-a870-bfde42a3c6cb",
   "metadata": {},
   "outputs": [
    {
     "name": "stdout",
     "output_type": "stream",
     "text": [
      "[946, 992, 1003, 1021, 1007, 1035, 967, 1024, 1006, 999]\n"
     ]
    }
   ],
   "source": [
    "def my_func():\n",
    "    import csv\n",
    "    # Write your code here\n",
    "    with open(r\"data/data.csv\") as f:\n",
    "        fi = csv.reader(f)\n",
    "        cnt = [0] * 10\n",
    "        for row in fi:\n",
    "            for cell in row:\n",
    "                cnt[int(cell)] += 1\n",
    "    # 能输出次数就行，不强求输出格式必须为列表\n",
    "    print(cnt)\n",
    "\n",
    "\n",
    "my_func()"
   ]
  },
  {
   "cell_type": "markdown",
   "id": "40ffc189-e91a-4640-a387-f111246081aa",
   "metadata": {},
   "source": [
    "## 5.\n",
    "\n",
    "有一堵墙厚`wide`，两只老鼠从两边向中间打洞。大老鼠第一天打1m，小老鼠也是1m。大老鼠每天的打洞进度是前一天的 **两** 倍，小老鼠每天的进度是前一天的一半。问它们几天可以相逢，相逢时小老鼠和大老鼠各打了多少m"
   ]
  },
  {
   "cell_type": "markdown",
   "id": "a50038b3-0754-43a9-ad1e-649b51955436",
   "metadata": {},
   "source": [
    "|         | Input | Output |\n",
    "|:--------|:-----:|:------|\n",
    "| 1       |  10 |   4<br>1.8 8.2    |\n",
    "| 2       |  20  |   5<br>1.9 18.1   | |"
   ]
  },
  {
   "cell_type": "code",
   "execution_count": 5,
   "id": "da36bf0b-4944-4be5-a8f4-4498bab38ae8",
   "metadata": {},
   "outputs": [
    {
     "name": "stdin",
     "output_type": "stream",
     "text": [
      " 10\n"
     ]
    },
    {
     "name": "stdout",
     "output_type": "stream",
     "text": [
      "4\n",
      "1.8 8.2\n"
     ]
    },
    {
     "name": "stdin",
     "output_type": "stream",
     "text": [
      " 20\n"
     ]
    },
    {
     "name": "stdout",
     "output_type": "stream",
     "text": [
      "5\n",
      "1.9 18.1\n"
     ]
    }
   ],
   "source": [
    "def my_func():\n",
    "    wide = int(input())\n",
    "    # Write your code here\n",
    "    big, small = 0, 0\n",
    "    for i in range(wide):\n",
    "        # 计算打洞速度\n",
    "        vb = 2 ** i\n",
    "        vs = 1 / vb\n",
    "        # 累加打洞进度\n",
    "        big += vb\n",
    "        small += vs\n",
    "        # 判断打洞进度, 如果超过则回退\n",
    "        if big + small > wide:\n",
    "            r = ((big + small) - wide) / (vb + vs)\n",
    "            big -= r * vb\n",
    "            small -= r * vs\n",
    "            print(f\"{i + 1}\\n{small:.1f} {big:.1f}\")\n",
    "            break\n",
    "\n",
    "\n",
    "my_func()\n",
    "my_func()"
   ]
  },
  {
   "cell_type": "markdown",
   "id": "df636ca5-82b0-4818-b012-90302bf1e31b",
   "metadata": {},
   "source": [
    "# Submission"
   ]
  },
  {
   "cell_type": "markdown",
   "id": "0188aeff-b6aa-46f6-92aa-ee6cdfc760c3",
   "metadata": {},
   "source": [
    "- \"Menu\" -> \"File\" -> \"Save and Export Notebook As\" -> \"HTML\""
   ]
  }
 ],
 "metadata": {
  "kernelspec": {
   "display_name": "Python 3 (ipykernel)",
   "language": "python",
   "name": "python3"
  },
  "language_info": {
   "codemirror_mode": {
    "name": "ipython",
    "version": 3
   },
   "file_extension": ".py",
   "mimetype": "text/x-python",
   "name": "python",
   "nbconvert_exporter": "python",
   "pygments_lexer": "ipython3",
   "version": "3.8.15"
  }
 },
 "nbformat": 4,
 "nbformat_minor": 5
}
