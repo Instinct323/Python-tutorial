{
 "cells": [
  {
   "cell_type": "markdown",
   "id": "8e242928-a4e4-4068-bb12-30a7154b6596",
   "metadata": {},
   "source": [
    "## Multiple Choice Questions"
   ]
  },
  {
   "cell_type": "markdown",
   "id": "4a03fc57-efe2-4d34-9a4b-ef08f2a8eb0f",
   "metadata": {},
   "source": [
    "1) In Python, which keyword is used to define a function?\n",
    "\r",
    "```\n",
    "A\n",
    "class\n",
    "\n",
    "B (true)\n",
    "def\n",
    "\n",
    "C\n",
    "function\n",
    "\n",
    "D\n",
    "method\n",
    "```"
   ]
  },
  {
   "cell_type": "markdown",
   "id": "87583a0c-85e2-4335-a870-26c17c35aee7",
   "metadata": {},
   "source": [
    "2) Which of the following is the correct way to define a function?\n",
    "\r",
    "```\n",
    "A\n",
    "my_function arg1, arg2\n",
    "\n",
    "B (true)\n",
    "def my_function(arg1, arg2):\n",
    "\n",
    "C\n",
    "function my_function arg1, arg2\n",
    "\n",
    "D\n",
    "my_function def arg1, arg2\n",
    "```"
   ]
  },
  {
   "cell_type": "markdown",
   "id": "78e6cca5-5dda-482d-a4d0-bc70d324271d",
   "metadata": {},
   "source": [
    "3)  Which of the following is the keyword for class definition in Python?\n",
    "\n",
    "```\r",
    "A. function       B. class (true)\r",
    "C. struct         D. type\n",
    "```"
   ]
  },
  {
   "cell_type": "markdown",
   "id": "f7e0a8b9-d4dc-42d4-b266-24016d1288ec",
   "metadata": {},
   "source": [
    "4) How do you define a method within a class?\n",
    "\n",
    "```\n",
    "A. By defining a method that starts with the class name\n",
    "\n",
    "B (true). By defining a method with `self` as the first parameter\n",
    "\n",
    "C. By defining a method with `this` as the first parameter\n",
    "\n",
    "D. By defining a method with `cls` as the first parameter\n",
    "```"
   ]
  },
  {
   "cell_type": "markdown",
   "id": "72b9aaf6-bdd4-4894-8840-8c024f3fda79",
   "metadata": {},
   "source": [
    "5) Which of the following is the correct statement for inheritance?\n",
    "\n",
    "```\n",
    "A (true). class Child(Parent)\n",
    " \n",
    "B. class Child = Parent\n",
    "\n",
    "C. class Child -> Parent\n",
    "\n",
    "D. class Child Parent\n",
    "```"
   ]
  },
  {
   "cell_type": "markdown",
   "id": "b4fea143-7593-45d7-a4b6-af469d15f817",
   "metadata": {},
   "source": [
    "## Fill in the Blanks"
   ]
  },
  {
   "cell_type": "markdown",
   "id": "17e42804-66d1-41c8-abc8-4acd4ef27aeb",
   "metadata": {},
   "source": [
    "6) The `____` method of a class is used to initialize objects and is automatically called when a new instance of the class is created."
   ]
  },
  {
   "cell_type": "code",
   "execution_count": 1,
   "id": "e2ea7262-861f-4163-af95-725da2fc2c00",
   "metadata": {},
   "outputs": [
    {
     "data": {
      "text/plain": [
       "'__init__'"
      ]
     },
     "execution_count": 1,
     "metadata": {},
     "output_type": "execute_result"
    }
   ],
   "source": [
    "# Write your answer here\n",
    "\"BBBBA\"\n",
    "\"__init__\""
   ]
  },
  {
   "cell_type": "markdown",
   "id": "c58c0e91-25cc-4a4d-9adc-51262f84ce6e",
   "metadata": {},
   "source": [
    "## 1. \n",
    "\n",
    "Write a function called factorial(n) that takes a non-negative integer `n` as an argument and returns the factorial of `n`. The factorial of a non-negative integer `n` is the product of all positive integers less than or equal to `n`. The factorial is denoted as n!."
   ]
  },
  {
   "cell_type": "markdown",
   "id": "a0395b45-f1c7-48aa-a536-98d241f081b9",
   "metadata": {},
   "source": [
    "|         | Input | Output |\n",
    "|:--------|:-----|:------:|\n",
    "| 1       |  5  |   120    |\n",
    "| 2       |  10   |   3628800   |"
   ]
  },
  {
   "cell_type": "code",
   "execution_count": 2,
   "id": "810c0509-6f63-4226-bbb3-cf98187dfe71",
   "metadata": {},
   "outputs": [
    {
     "name": "stdin",
     "output_type": "stream",
     "text": [
      " 5\n"
     ]
    },
    {
     "name": "stdout",
     "output_type": "stream",
     "text": [
      "120\n"
     ]
    },
    {
     "name": "stdin",
     "output_type": "stream",
     "text": [
      " 10\n"
     ]
    },
    {
     "name": "stdout",
     "output_type": "stream",
     "text": [
      "3628800\n"
     ]
    }
   ],
   "source": [
    "def factorial(n):\n",
    "    result = 1\n",
    "    for i in range(1, n + 1):\n",
    "        result *= i\n",
    "    return result\n",
    "\n",
    "\n",
    "def my_func():\n",
    "    n = int(input())\n",
    "    print(factorial(n))\n",
    "\n",
    "\n",
    "my_func()\n",
    "my_func()"
   ]
  },
  {
   "cell_type": "markdown",
   "id": "f6366e1d-1563-4506-9de6-65a29aeef072",
   "metadata": {},
   "source": [
    "## 2. \n",
    "\n",
    "Define a class named Student that represents a student with basic attributes and a method to display student information.\n",
    "\n",
    "Attributes:\n",
    "\n",
    "name: A string that stores the name of the student.\n",
    "age: An integer that stores the age of the student.\n",
    "\n",
    "Method:\n",
    "\n",
    "info(): This method should return a string containing the student’s name and age in the following format:"
   ]
  },
  {
   "cell_type": "markdown",
   "id": "cc89af7a-3b93-4481-bc27-e06e364f413c",
   "metadata": {},
   "source": [
    "|         | Attributes | Output |\n",
    "|:--------|:-----|:------:|\n",
    "| 1       |  Mike 18  |   Name: Mike, Age: 18    |\n",
    "| 2       |  Alice 22   |   Name: Alice, Age: 22   |"
   ]
  },
  {
   "cell_type": "code",
   "execution_count": 3,
   "id": "98a259e8-05ad-4bc6-9901-2a241c2e5323",
   "metadata": {},
   "outputs": [
    {
     "name": "stdin",
     "output_type": "stream",
     "text": [
      " Mike 18\n"
     ]
    },
    {
     "name": "stdout",
     "output_type": "stream",
     "text": [
      "Name: Mike, Age: 18\n"
     ]
    },
    {
     "name": "stdin",
     "output_type": "stream",
     "text": [
      " Alice 22\n"
     ]
    },
    {
     "name": "stdout",
     "output_type": "stream",
     "text": [
      "Name: Alice, Age: 22\n"
     ]
    }
   ],
   "source": [
    "class Student:\n",
    "    \n",
    "    def __init__(self, name, age):\n",
    "        self.name = name\n",
    "        self.age = age\n",
    "    \n",
    "    def info(self):\n",
    "        return f\"Name: {self.name}, Age: {self.age}\"\n",
    "\n",
    "\n",
    "def my_func():\n",
    "    stu = Student(*input().split())\n",
    "    print(stu.info())\n",
    "\n",
    "\n",
    "my_func()\n",
    "my_func()"
   ]
  },
  {
   "cell_type": "markdown",
   "id": "3bec69fd-dcb5-4ba8-9be9-9004c09970f7",
   "metadata": {},
   "source": [
    "## 3.\n",
    "\n",
    "Write a function named `average()` that calculates and returns the average (mean) of a list of numbers.\n",
    "\n",
    "Definition:\n",
    "The average of a list of numbers is calculated by summing all the numbers in the list and then dividing by the count of the numbers."
   ]
  },
  {
   "cell_type": "code",
   "execution_count": 5,
   "id": "e8d0a3a4-f6eb-41a3-81ae-791ab05b24b6",
   "metadata": {},
   "outputs": [
    {
     "name": "stdin",
     "output_type": "stream",
     "text": [
      " 10 20 30\n"
     ]
    },
    {
     "name": "stdout",
     "output_type": "stream",
     "text": [
      "20.0\n"
     ]
    }
   ],
   "source": [
    "def average(ls):\n",
    "    return sum(ls) / len(ls) if ls else 0\n",
    "\n",
    "\n",
    "def my_func():\n",
    "    ls = list(map(int, input().split()))\n",
    "    print(average(ls))\n",
    "\n",
    "\n",
    "my_func()"
   ]
  }
 ],
 "metadata": {
  "kernelspec": {
   "display_name": "Python 3 (ipykernel)",
   "language": "python",
   "name": "python3"
  },
  "language_info": {
   "codemirror_mode": {
    "name": "ipython",
    "version": 3
   },
   "file_extension": ".py",
   "mimetype": "text/x-python",
   "name": "python",
   "nbconvert_exporter": "python",
   "pygments_lexer": "ipython3",
   "version": "3.8.15"
  }
 },
 "nbformat": 4,
 "nbformat_minor": 5
}
