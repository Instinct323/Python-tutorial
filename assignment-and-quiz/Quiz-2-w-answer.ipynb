{
 "cells": [
  {
   "cell_type": "markdown",
   "id": "beafd400-ac96-4d0f-8293-af2f9962bed4",
   "metadata": {},
   "source": [
    "# Example\n",
    "\n",
    "Read the input value x and output the root value of x\n",
    "\n",
    "|         | Input | Output |\n",
    "|:--------|:-----:|:------:|\n",
    "| 1       |  2   |   1.414    |\n",
    "| 2       |  3   |   1.732    |"
   ]
  },
  {
   "cell_type": "code",
   "execution_count": 1,
   "id": "2dbafffd-8acb-4a58-a549-4b96d8e2bdf7",
   "metadata": {},
   "outputs": [
    {
     "name": "stdin",
     "output_type": "stream",
     "text": [
      " 2\n"
     ]
    },
    {
     "name": "stdout",
     "output_type": "stream",
     "text": [
      "1.4142135623730951\n"
     ]
    },
    {
     "name": "stdin",
     "output_type": "stream",
     "text": [
      " 3\n"
     ]
    },
    {
     "name": "stdout",
     "output_type": "stream",
     "text": [
      "1.7320508075688772\n"
     ]
    }
   ],
   "source": [
    "# !!!!! Write your code here !!!!!\n",
    "def my_func():\n",
    "    x = int(input())\n",
    "    print(x ** 0.5)\n",
    "\n",
    "\n",
    "# Copy input 1 and pass it into the 'input()'\n",
    "my_func()\n",
    "# Copy input 2 and pass it into the 'input()'\n",
    "my_func()"
   ]
  },
  {
   "cell_type": "markdown",
   "id": "af690cd6-dcf2-4526-9354-0f6a8c7f79aa",
   "metadata": {},
   "source": [
    "# Q1 (5' × 5)\n",
    "\n",
    "1. If the current working directory is `D:\\tmp` and there is a file named `test.txt` in this directory, which of the following statements would cause an error?\n",
    "\n",
    "```python\n",
    "# A\n",
    "open(\"test.txt\")\n",
    "\n",
    "# B\n",
    "open(\"D:/tmp/test.txt\")\n",
    "\n",
    "# C\n",
    "open(r\"D:\\tmp\\test.txt\")\n",
    "\n",
    "# D (true)\n",
    "open(\"D:\\tmp\\test.txt\")\n",
    "```\n",
    "\n",
    "2. Which of the following code blocks does not open the file correctly?\n",
    "\n",
    "```python\n",
    "# A\n",
    "with open(\"a.txt\") as f1:\n",
    "    with open(\"a.txt\") as f2:\n",
    "        pass\n",
    "\n",
    "# B\n",
    "with open(\"a.txt\") as f1, open(\"b.txt\") as f2:\n",
    "    pass\n",
    "\n",
    "# C (true)\n",
    "with open(\"a.txt\") as f1, with open(\"b.txt\") as f2:\n",
    "    pass\n",
    "\n",
    "# D\n",
    "a, b = map(open, [\"a.txt\", \"b.txt\"])\n",
    "```\n",
    "\n",
    "3. Which of the following statements outputs the function documentation for `math.exp`?\n",
    "\n",
    "```python\n",
    "import math\n",
    "\n",
    "# A (true)\n",
    "help(math.exp)\n",
    "\n",
    "# B\n",
    "help(math.exp())\n",
    "\n",
    "# C\n",
    "help(math.exp(2))\n",
    "\n",
    "# D\n",
    "help(math.exp(\"help\"))\n",
    "```\n",
    "\n",
    "4. Which of the following statements cannot convert the string \"0.12 3.1 46.2 81.3 92.89\" into a list of numbers?\n",
    "\n",
    "```python\n",
    "# A\n",
    "array = list(map(float, input().split()))\n",
    "\n",
    "# B\n",
    "array = list(map(float, input().split(\" \")))\n",
    "\n",
    "# C\n",
    "array = [float(x) for x in input().split()]\n",
    "\n",
    "# D (true)\n",
    "array = [float(x) for x in input().split(\".\")]\n",
    "```\n",
    "\n",
    "5. Which of the following code is correct?\n",
    "\n",
    "```python\n",
    "import pickle\n",
    "\n",
    "# A\n",
    "with open(\"test.bin\", \"wb\") as f:\n",
    "    pickle.dump(f, \"data\")\n",
    "\n",
    "# B (true)\n",
    "with open(\"test.bin\", \"wb\") as f:\n",
    "    pickle.dump(\"data\", f)\n",
    "\n",
    "# C\n",
    "f = open(\"test.bin\", \"b\")\n",
    "pickle.dump(\"data\", f)\n",
    "f.close()\n",
    "\n",
    "# D\n",
    "f = open(\"test.bin\", \"w\")\n",
    "pickle.dump(\"data\", f)\n",
    "f.close()\n",
    "```"
   ]
  },
  {
   "cell_type": "code",
   "execution_count": 2,
   "id": "7fdab3de-ccd3-4aec-bb05-81516e0a94c9",
   "metadata": {},
   "outputs": [
    {
     "data": {
      "text/plain": [
       "'DCADB'"
      ]
     },
     "execution_count": 2,
     "metadata": {},
     "output_type": "execute_result"
    }
   ],
   "source": [
    "# Replace your answer in the string\n",
    "\"DCADB\""
   ]
  },
  {
   "cell_type": "markdown",
   "id": "a396c98a-b768-4b9d-bb17-de2bc215a6e7",
   "metadata": {},
   "source": [
    "# Q2 (25')\n",
    "\n",
    "Write a Python function that reads a file line by line, calculates the average of the floating-point numbers on each line, and prints the results rounded to four decimal places.\n",
    "\n",
    "tips: `round`\n",
    "\n",
    "|         | Input | Output |\n",
    "|:--------|:-----:|:------:|\n",
    "| 1       |  a1.txt   |   0.4681 0.6259 0.5654 0.3001 0.4322 0.5819 0.434 0.5219 0.6221 0.1465    |\n",
    "| 2       |  a2.txt   |   0.5099 0.3712 0.1756 0.3441 0.3122 0.3912 0.5619 0.4021 0.3967 0.6362    |"
   ]
  },
  {
   "cell_type": "code",
   "execution_count": 3,
   "id": "733150e7-f539-4fcb-82af-acc76b35e83e",
   "metadata": {},
   "outputs": [
    {
     "name": "stdin",
     "output_type": "stream",
     "text": [
      " a1.txt\n"
     ]
    },
    {
     "name": "stdout",
     "output_type": "stream",
     "text": [
      "0.4681 0.6259 0.5654 0.3001 0.4322 0.5819 0.434 0.5219 0.6221 0.1465 "
     ]
    },
    {
     "name": "stdin",
     "output_type": "stream",
     "text": [
      " a2.txt\n"
     ]
    },
    {
     "name": "stdout",
     "output_type": "stream",
     "text": [
      "0.5099 0.3712 0.1756 0.3441 0.3122 0.3912 0.5619 0.4021 0.3967 0.6362 "
     ]
    }
   ],
   "source": [
    "def func2():\n",
    "    import math\n",
    "    with open(f\"data/{input()}\") as f:\n",
    "        for line in f:\n",
    "            array = list(map(float, line.split()))\n",
    "            print(round(sum(array) / len(array), 4), end=\" \")\n",
    "\n",
    "\n",
    "func2()\n",
    "func2()"
   ]
  },
  {
   "cell_type": "markdown",
   "id": "35865422-16db-45b7-a0f7-2a59fe280969",
   "metadata": {},
   "source": [
    "# Q3 (25')\n",
    "\n",
    "Create a Python function that copies the contents of one file to another, providing real-time logging of the copying process. The function should:\n",
    "\n",
    "- Accept two file names as input, one for the source and one for the destination.\n",
    "- Copy each line from the source file to the destination file, logging each write operation.\n",
    "- Handle the case where the source file does not exist by printing an error message.\n",
    "\n",
    "The function should conclude with a log message indicating the completion of the file copy operation.\n",
    "\n",
    "|         | Input | Output |\n",
    "|:--------|:-----:|:------|\n",
    "| 1       |  b1.txt b2.txt  | [LOG] Write to line 0: It's the most beautiful time of the year<br>[LOG] Write to line 1: Lights fill the streets, spreading so much cheer<br>[LOG] Write to line 2: I should be playing in the winter snow<br>[LOG] Write to line 3: But I'ma be under the mistletoe<br>[LOG] Copy from b1.txt to b2.txt done. |\n",
    "| 2       |  c1.txt c2.txt  | [FATAL] File c1.txt not found. |"
   ]
  },
  {
   "cell_type": "code",
   "execution_count": 6,
   "id": "b7a0fb7e-fa50-45b0-9558-51baaf543de1",
   "metadata": {},
   "outputs": [
    {
     "name": "stdin",
     "output_type": "stream",
     "text": [
      " b1.txt b2.txt\n"
     ]
    },
    {
     "name": "stdout",
     "output_type": "stream",
     "text": [
      "[LOG] Write to line 0: It's the most beautiful time of the year\n",
      "[LOG] Write to line 1: Lights fill the streets, spreading so much cheer\n",
      "[LOG] Write to line 2: I should be playing in the winter snow\n",
      "[LOG] Write to line 3: But I'ma be under the mistletoe\n",
      "[LOG] Copy from b1.txt to b2.txt done.\n"
     ]
    },
    {
     "name": "stdin",
     "output_type": "stream",
     "text": [
      " c1.txt c2.txt\n"
     ]
    },
    {
     "name": "stdout",
     "output_type": "stream",
     "text": [
      "[FATAL] File c1.txt not found.\n"
     ]
    }
   ],
   "source": [
    "def func3():\n",
    "    src, dst = input().split()\n",
    "    \n",
    "    try:\n",
    "        with open(f\"data/{src}\") as fi, open(f\"data/{dst}\", \"w\") as fo:\n",
    "            for i, line in enumerate(fi):\n",
    "                # 逐行写入, 逐行打印\n",
    "                fo.write(line)\n",
    "                print(f\"[LOG] Write to line {i}: {line}\", end=\"\")\n",
    "        print(f\"\\n[LOG] Copy from {src} to {dst} done.\")\n",
    "        \n",
    "    except FileNotFoundError:\n",
    "        print(f\"[FATAL] File {src} not found.\")\n",
    "        \n",
    "\n",
    "func3()\n",
    "func3()"
   ]
  },
  {
   "cell_type": "markdown",
   "id": "bb4a16f4-9297-4c77-965c-2971efa14938",
   "metadata": {},
   "source": [
    "# Q4 (25')\n",
    "\n",
    "Create a Python function that evaluates and prints the value of a mathematical expression $f(x)$ based on the input value of `x`\n",
    "\n",
    "tips: `math.exp`\n",
    "\n",
    "$$f(x) = \\begin{cases}\n",
    "e^x, x \\le 0.3 \\\\\n",
    "1 / (1 + e^{-x}), x > 0.3 \\\\\n",
    "\\end{cases}$$\n",
    "\n",
    "|         | Input | Output |\n",
    "|:--------|:-----:|:------:|\n",
    "| 1       |  0.3  |   1.3498588075760032    |\n",
    "| 2       |  0.7   |   0.6681877721681662    |"
   ]
  },
  {
   "cell_type": "code",
   "execution_count": 5,
   "id": "13899c5d-47ec-416b-afd0-2fd3fa0db7ba",
   "metadata": {},
   "outputs": [
    {
     "name": "stdin",
     "output_type": "stream",
     "text": [
      " 0.3\n"
     ]
    },
    {
     "name": "stdout",
     "output_type": "stream",
     "text": [
      "1.3498588075760032\n"
     ]
    },
    {
     "name": "stdin",
     "output_type": "stream",
     "text": [
      " 0.7\n"
     ]
    },
    {
     "name": "stdout",
     "output_type": "stream",
     "text": [
      "0.6681877721681662\n"
     ]
    }
   ],
   "source": [
    "def func4():\n",
    "    import math\n",
    "    x = float(input())\n",
    "    if x <= 0.3:\n",
    "        print(math.exp(x))\n",
    "    else:\n",
    "        print(1 / (1 + math.exp(-x)))\n",
    "\n",
    "\n",
    "func4()\n",
    "func4()"
   ]
  },
  {
   "cell_type": "markdown",
   "id": "9948e621-b0b9-449c-86df-9d43962eccc8",
   "metadata": {},
   "source": [
    "# [Submission](https://yunbiz.wps.cn/c/collect/cK9LTZzIlgZ)"
   ]
  },
  {
   "cell_type": "markdown",
   "id": "9f01e572-70d2-4a8e-9616-34f4794977b6",
   "metadata": {},
   "source": [
    "- \"Menu\" -> \"File\" -> \"Save and Export Notebook As\" -> \"HTML\""
   ]
  }
 ],
 "metadata": {
  "kernelspec": {
   "display_name": "Python 3 (ipykernel)",
   "language": "python",
   "name": "python3"
  },
  "language_info": {
   "codemirror_mode": {
    "name": "ipython",
    "version": 3
   },
   "file_extension": ".py",
   "mimetype": "text/x-python",
   "name": "python",
   "nbconvert_exporter": "python",
   "pygments_lexer": "ipython3",
   "version": "3.8.15"
  }
 },
 "nbformat": 4,
 "nbformat_minor": 5
}
