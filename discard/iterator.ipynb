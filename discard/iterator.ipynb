{
 "cells": [
  {
   "attachments": {},
   "cell_type": "markdown",
   "id": "e000396d-42fb-41c2-943f-714d9b6f65c1",
   "metadata": {},
   "source": [
    "## 3.4 迭代器"
   ]
  },
  {
   "cell_type": "code",
   "execution_count": 1,
   "id": "2b7c167e-97c9-4b5e-bb1e-c5b8ed492aee",
   "metadata": {},
   "outputs": [
    {
     "name": "stdout",
     "output_type": "stream",
     "text": [
      "['1', '2', '3', '4', '5']\n",
      "<generator object make_iter at 0x0000026AED3E0660>\n"
     ]
    }
   ],
   "source": [
    "src = \"12345\"\n",
    "\n",
    "\n",
    "def make_iter():\n",
    "    for i in src:\n",
    "        print(\"iterator: output\", i)\n",
    "        yield i\n",
    "\n",
    "\n",
    "my_list = list(src)\n",
    "my_iter = make_iter()\n",
    "\n",
    "print(my_list)\n",
    "print(my_iter)"
   ]
  },
  {
   "cell_type": "code",
   "execution_count": 2,
   "id": "6a06396d-29db-46e2-ab32-dafe893764e2",
   "metadata": {},
   "outputs": [
    {
     "name": "stdout",
     "output_type": "stream",
     "text": [
      "1\n",
      "2\n",
      "3\n",
      "4\n",
      "5\n"
     ]
    }
   ],
   "source": [
    "for i in my_list:\n",
    "    print(i)"
   ]
  },
  {
   "cell_type": "code",
   "execution_count": 3,
   "id": "b5857ac4-ed1b-4348-bda6-efcabe244580",
   "metadata": {},
   "outputs": [
    {
     "name": "stdout",
     "output_type": "stream",
     "text": [
      "iterator: output 1\n",
      "1\n",
      "iterator: output 2\n",
      "2\n",
      "iterator: output 3\n",
      "3\n",
      "iterator: output 4\n",
      "4\n",
      "iterator: output 5\n",
      "5\n"
     ]
    }
   ],
   "source": [
    "for i in my_iter:\n",
    "    print(i)"
   ]
  },
  {
   "cell_type": "markdown",
   "id": "348a30e4-fe4e-4ea7-a411-1889e4c41d94",
   "metadata": {},
   "source": [
    "迭代器中的元素只能访问一次"
   ]
  },
  {
   "cell_type": "code",
   "execution_count": 4,
   "id": "2a52bd6a-7a88-4826-a3e5-ed4e92207504",
   "metadata": {},
   "outputs": [],
   "source": [
    "for i in my_iter:\n",
    "    print(i)"
   ]
  },
  {
   "cell_type": "markdown",
   "id": "b6176676-daa0-4274-a0ca-489618438990",
   "metadata": {},
   "source": [
    "Q: 迭代器与列表元组相比有什么优势"
   ]
  },
  {
   "cell_type": "markdown",
   "id": "89c79ec0-527e-4e63-8765-54c2f3443a5a",
   "metadata": {},
   "source": [
    "### 类型转换"
   ]
  },
  {
   "cell_type": "code",
   "execution_count": 5,
   "id": "fa755faa-2117-4967-9c3a-294d3d4c4d71",
   "metadata": {},
   "outputs": [
    {
     "name": "stdout",
     "output_type": "stream",
     "text": [
      "iterator: output 1\n",
      "iterator: output 2\n",
      "iterator: output 3\n",
      "iterator: output 4\n",
      "iterator: output 5\n",
      "['1', '2', '3', '4', '5']\n",
      "iterator: output 1\n",
      "iterator: output 2\n",
      "iterator: output 3\n",
      "iterator: output 4\n",
      "iterator: output 5\n",
      "('1', '2', '3', '4', '5')\n"
     ]
    }
   ],
   "source": [
    "print(list(make_iter()))\n",
    "print(tuple(make_iter()))"
   ]
  },
  {
   "cell_type": "markdown",
   "id": "155e8b27-0364-43a3-8e24-ab196e513ab1",
   "metadata": {},
   "source": [
    "### 解包"
   ]
  },
  {
   "cell_type": "code",
   "execution_count": 6,
   "id": "9db75be5-786f-46ee-9d42-4c69b9373163",
   "metadata": {},
   "outputs": [
    {
     "name": "stdout",
     "output_type": "stream",
     "text": [
      "[0, 1, 2, 3, 4]\n",
      "0 1 2 3 4\n"
     ]
    }
   ],
   "source": [
    "exp = list(range(5))\n",
    "print(exp)\n",
    "print(*exp)"
   ]
  },
  {
   "cell_type": "code",
   "execution_count": 7,
   "id": "3baef3fc-b4a0-44a9-985a-2dc69e4c5a35",
   "metadata": {},
   "outputs": [
    {
     "name": "stdout",
     "output_type": "stream",
     "text": [
      "0, 1, 2, 3, 4\n",
      "0, 1, 2, 3, 4\n"
     ]
    }
   ],
   "source": [
    "print(*exp, sep=\", \")\n",
    "print(exp[0], exp[1], exp[2], exp[3], exp[4], sep=\", \")"
   ]
  },
  {
   "cell_type": "code",
   "execution_count": 8,
   "id": "979ab0c2-c1c3-4c66-b002-3a267cca8973",
   "metadata": {},
   "outputs": [
    {
     "name": "stdout",
     "output_type": "stream",
     "text": [
      "0\n",
      "[1, 2, 3, 4]\n"
     ]
    }
   ],
   "source": [
    "first, *other = exp\n",
    "print(first)\n",
    "print(other)"
   ]
  },
  {
   "cell_type": "markdown",
   "id": "0be6d7b2-5ea8-40b5-aee0-d6837bf4904f",
   "metadata": {},
   "source": [
    "### range"
   ]
  },
  {
   "cell_type": "markdown",
   "id": "56cc3ebb-766a-48d1-b423-c74cfdba6a97",
   "metadata": {},
   "source": [
    "- range(end)\n",
    "- range(start, end, step=1)"
   ]
  },
  {
   "cell_type": "code",
   "execution_count": 9,
   "id": "00751578-ec83-4987-88b0-37e1e96df96f",
   "metadata": {},
   "outputs": [
    {
     "name": "stdout",
     "output_type": "stream",
     "text": [
      "0\n",
      "1\n",
      "2\n",
      "3\n",
      "4\n"
     ]
    }
   ],
   "source": [
    "for i in range(5):\n",
    "    print(i)"
   ]
  },
  {
   "cell_type": "code",
   "execution_count": 10,
   "id": "ce8ab3b7-c560-496e-8955-064089f5469f",
   "metadata": {},
   "outputs": [
    {
     "name": "stdout",
     "output_type": "stream",
     "text": [
      "2\n",
      "3\n",
      "4\n"
     ]
    }
   ],
   "source": [
    "for i in range(2, 5):\n",
    "    print(i)"
   ]
  },
  {
   "cell_type": "code",
   "execution_count": 11,
   "id": "1d9a823b-be18-48b8-9b44-db13645dabb9",
   "metadata": {},
   "outputs": [
    {
     "name": "stdout",
     "output_type": "stream",
     "text": [
      "5\n",
      "4\n",
      "3\n"
     ]
    }
   ],
   "source": [
    "for i in range(5, 2, -1):\n",
    "    print(i)"
   ]
  },
  {
   "cell_type": "markdown",
   "id": "264c81b1-a350-44ae-9f75-77e3672f3e94",
   "metadata": {},
   "source": [
    "### enumerate"
   ]
  },
  {
   "cell_type": "code",
   "execution_count": 12,
   "id": "45eca8e4-9d6d-4f7f-8d18-6ea2deee6b71",
   "metadata": {},
   "outputs": [
    {
     "name": "stdout",
     "output_type": "stream",
     "text": [
      "(0, 'a')\n",
      "(1, 'b')\n",
      "(2, 'c')\n",
      "(3, 'd')\n",
      "(4, 'e')\n"
     ]
    }
   ],
   "source": [
    "for x in enumerate(\"abcde\"):\n",
    "    print(x)"
   ]
  },
  {
   "cell_type": "code",
   "execution_count": 13,
   "id": "c73d3c3d-be91-4cb8-bc80-c07af011cc40",
   "metadata": {},
   "outputs": [
    {
     "name": "stdout",
     "output_type": "stream",
     "text": [
      "\n",
      "b\n",
      "cc\n",
      "ddd\n",
      "eeee\n"
     ]
    }
   ],
   "source": [
    "for i, ele in enumerate(\"abcde\"):\n",
    "    print(i * ele)"
   ]
  },
  {
   "cell_type": "markdown",
   "id": "59f56799-f709-419f-b639-88f2a1546b5f",
   "metadata": {},
   "source": [
    "### zip"
   ]
  },
  {
   "cell_type": "code",
   "execution_count": 14,
   "id": "69052c6f-bdb5-43b0-b54e-a8e49d514cf3",
   "metadata": {},
   "outputs": [
    {
     "name": "stdout",
     "output_type": "stream",
     "text": [
      "('w', 'f', 1)\n",
      "('a', 'x', 2)\n",
      "('n', 'b', 3)\n"
     ]
    }
   ],
   "source": [
    "a = \"wan\"\n",
    "b = [\"f\", \"x\", \"b\", \"z\"]\n",
    "c = (1, 2, 3, 4, 5)\n",
    "\n",
    "for x in zip(a, b, c):\n",
    "    print(x)"
   ]
  },
  {
   "cell_type": "markdown",
   "id": "5b56d8ad-09b7-47f8-9035-c34f370d7789",
   "metadata": {},
   "source": [
    "### map"
   ]
  },
  {
   "cell_type": "code",
   "execution_count": 15,
   "id": "314acb9d-2f54-48f0-9f48-af7a90ee3b26",
   "metadata": {},
   "outputs": [
    {
     "name": "stdout",
     "output_type": "stream",
     "text": [
      "[1, 2, 3, 4, 5, 6]\n",
      "<map object at 0x0000026AED432A60>\n",
      "[1, 4, 9, 16, 25, 36]\n",
      "[]\n"
     ]
    }
   ],
   "source": [
    "def f(x):\n",
    "    return x * x\n",
    "\n",
    "\n",
    "xs = list(range(1, 7))\n",
    "ys = map(f, xs)\n",
    "\n",
    "print(xs)\n",
    "print(ys)\n",
    "print(list(ys))\n",
    "print(list(ys))"
   ]
  },
  {
   "cell_type": "code",
   "execution_count": 16,
   "id": "c28ffeae-85c4-42c9-b402-2455f2b94be9",
   "metadata": {},
   "outputs": [
    {
     "name": "stdout",
     "output_type": "stream",
     "text": [
      "[1, 2, 3, 4, 5, 6]\n",
      "[1, 4, 9, 16, 25, 36]\n",
      "<map object at 0x0000026AED432A30>\n",
      "[1, 8, 27, 64, 125, 216]\n",
      "[]\n"
     ]
    }
   ],
   "source": [
    "def f(x, y):\n",
    "    return x * y\n",
    "\n",
    "\n",
    "xs = list(range(1, 7))\n",
    "ys = [x ** 2 for x in xs]\n",
    "zs = map(f, xs, ys)\n",
    "\n",
    "print(xs)\n",
    "print(ys)\n",
    "print(zs)\n",
    "print(list(zs))\n",
    "print(list(zs))"
   ]
  },
  {
   "cell_type": "markdown",
   "id": "589e115a-d077-4bc3-9112-707818c5e864",
   "metadata": {},
   "source": [
    "### filter"
   ]
  },
  {
   "cell_type": "code",
   "execution_count": 17,
   "id": "4e475280-0647-44a3-8bea-d2de0f05f38b",
   "metadata": {},
   "outputs": [
    {
     "name": "stdout",
     "output_type": "stream",
     "text": [
      "[0, 1, 2, 3, 4, 5, 6]\n",
      "--- map ---\n",
      "<map object at 0x0000026AED432640>\n",
      "[True, True, False, True, False, True, True]\n",
      "[]\n",
      "--- filter ---\n",
      "<filter object at 0x0000026AED432550>\n",
      "[0, 1, 3, 5, 6]\n",
      "[]\n"
     ]
    }
   ],
   "source": [
    "def to_bool(x):\n",
    "    return x not in (2, 4)\n",
    "\n",
    "\n",
    "xs = list(range(7))\n",
    "print(xs)\n",
    "\n",
    "print(\"--- map ---\")\n",
    "res = map(to_bool, xs)\n",
    "print(res)\n",
    "print(list(res))\n",
    "print(list(res))\n",
    "\n",
    "print(\"--- filter ---\")\n",
    "res = filter(to_bool, xs)\n",
    "print(res)\n",
    "print(list(res))\n",
    "print(list(res))"
   ]
  },
  {
   "cell_type": "code",
   "execution_count": 18,
   "id": "7d7d2850-2e99-426b-8a60-1a1febd2a2c0",
   "metadata": {},
   "outputs": [
    {
     "name": "stdout",
     "output_type": "stream",
     "text": [
      "[0, 1, 2, 3, 4, 5, 6]\n",
      "--- map ---\n",
      "<map object at 0x0000026AED42EF10>\n",
      "[0, 1, 0, 1, 0, 1, 0]\n",
      "[]\n",
      "--- filter ---\n",
      "<filter object at 0x0000026AED4337F0>\n",
      "[1, 3, 5]\n",
      "[]\n"
     ]
    }
   ],
   "source": [
    "def to_bool(x):\n",
    "    return x & 1\n",
    "\n",
    "\n",
    "xs = list(range(7))\n",
    "print(xs)\n",
    "\n",
    "print(\"--- map ---\")\n",
    "res = map(to_bool, xs)\n",
    "print(res)\n",
    "print(list(res))\n",
    "print(list(res))\n",
    "\n",
    "print(\"--- filter ---\")\n",
    "res = filter(to_bool, xs)\n",
    "print(res)\n",
    "print(list(res))\n",
    "print(list(res))"
   ]
  },
  {
   "cell_type": "code",
   "execution_count": 19,
   "id": "6074a885-10f8-4b39-b29f-936c453f4848",
   "metadata": {},
   "outputs": [
    {
     "name": "stdout",
     "output_type": "stream",
     "text": [
      "[0, 1, 2, 3, 4, 5, 6]\n",
      "--- filter ---\n",
      "<filter object at 0x0000026AED4332E0>\n",
      "[1, 3, 5]\n",
      "[]\n"
     ]
    }
   ],
   "source": [
    "xs = list(range(7))\n",
    "print(xs)\n",
    "\n",
    "print(\"--- filter ---\")\n",
    "res = filter((1).__and__, xs)\n",
    "print(res)\n",
    "print(list(res))\n",
    "print(list(res))"
   ]
  },
  {
   "cell_type": "markdown",
   "id": "b5ed777d-8ccc-4066-8b79-59a67bebd063",
   "metadata": {},
   "source": [
    "![](data/iter.png)"
   ]
  }
 ],
 "metadata": {
  "kernelspec": {
   "display_name": "Python 3 (ipykernel)",
   "language": "python",
   "name": "python3"
  },
  "language_info": {
   "codemirror_mode": {
    "name": "ipython",
    "version": 3
   },
   "file_extension": ".py",
   "mimetype": "text/x-python",
   "name": "python",
   "nbconvert_exporter": "python",
   "pygments_lexer": "ipython3",
   "version": "3.8.15"
  }
 },
 "nbformat": 4,
 "nbformat_minor": 5
}
